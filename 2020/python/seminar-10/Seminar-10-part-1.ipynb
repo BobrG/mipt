{
 "cells": [
  {
   "cell_type": "markdown",
   "metadata": {},
   "source": [
    "# МФТИ: МТИИ 2020 Python.\n",
    "\n",
    "## Семинар 10: Cython. PyTorch. "
   ]
  },
  {
   "cell_type": "markdown",
   "metadata": {},
   "source": [
    "## Cython\n",
    "\n",
    "Cython $-$ это Python, с поддержкой типов данных языка C.\n",
    "Практически любой фрагмент кода Python также является допустимым кодом Cython. (Есть несколько ограничений.) Компилятор Cython преобразует python в код C, который выполняет те же вызовы API Python/C.\n",
    "\n",
    "Благодаря Cython мы можем смешивать код Python и C, \n",
    "Поддержка счетчика ссылок и проверка ошибок выполняется автоматически, и нам доступны все возможности Python для обработки исключений, включая операторы try-except - даже в процессе манипулирования данными C."
   ]
  },
  {
   "cell_type": "markdown",
   "metadata": {},
   "source": [
    "### Cython Hello World\n",
    "\n",
    "\n",
    "Поскольку Cython может принимать практически любой  исходный код на Python, одна из самых сложных задач при запуске $-$ это просто выяснить, как этот код скомпилировать.\n",
    "\n",
    "Давайте начнем с классического ```Hello World```. Создадим файл ```helloworld.pyx``` со следующим кодом внутри:\n",
    "```python\n",
    "print(\"Hello World!\")\n",
    "```\n",
    "\n",
    "Сделать это на linux или colab можно с помощью следующей команды:"
   ]
  },
  {
   "cell_type": "code",
   "execution_count": 1,
   "metadata": {},
   "outputs": [],
   "source": [
    "!mkdir hello_world -p\n",
    "!echo \"print(\\\"Hello World!\\\")\" > hello_world/helloworld.pyx"
   ]
  },
  {
   "cell_type": "code",
   "execution_count": 3,
   "metadata": {},
   "outputs": [
    {
     "name": "stdout",
     "output_type": "stream",
     "text": [
      "helloworld.pyx\tsetup.py\r\n"
     ]
    }
   ],
   "source": [
    "!cd hello_world && ls"
   ]
  },
  {
   "cell_type": "markdown",
   "metadata": {},
   "source": [
    "Теперь создадим файл ```setup.py```, который нужен нам для компиляции. Запишем в него следующий код:\n",
    "\n",
    "```python\n",
    "from setuptools import setup\n",
    "from Cython.Build import cythonize\n",
    "\n",
    "setup(\n",
    "    ext_modules = cythonize(\"helloworld.pyx\")\n",
    ")\n",
    "```\n",
    "\n",
    "Теперь, чтобы собрать Cython файл нужно написать команду:"
   ]
  },
  {
   "cell_type": "code",
   "execution_count": 4,
   "metadata": {},
   "outputs": [
    {
     "name": "stdout",
     "output_type": "stream",
     "text": [
      "Compiling helloworld.pyx because it changed.\n",
      "[1/1] Cythonizing helloworld.pyx\n",
      "/home/tv-home/.local/lib/python3.8/site-packages/Cython/Compiler/Main.py:369: FutureWarning: Cython directive 'language_level' not set, using 2 for now (Py2). This will change in a later release! File: /home/tv-home/Desktop/mipt/2020/python/seminar-10/hello_world/helloworld.pyx\n",
      "  tree = Parsing.p_module(s, pxd, full_module_name)\n",
      "running build_ext\n",
      "building 'helloworld' extension\n",
      "creating build\n",
      "creating build/temp.linux-x86_64-3.8\n",
      "x86_64-linux-gnu-gcc -pthread -Wno-unused-result -Wsign-compare -DNDEBUG -g -fwrapv -O2 -Wall -g -fstack-protector-strong -Wformat -Werror=format-security -g -fwrapv -O2 -g -fstack-protector-strong -Wformat -Werror=format-security -Wdate-time -D_FORTIFY_SOURCE=2 -fPIC -I/usr/include/python3.8 -c helloworld.c -o build/temp.linux-x86_64-3.8/helloworld.o\n",
      "creating build/lib.linux-x86_64-3.8\n",
      "x86_64-linux-gnu-gcc -pthread -shared -Wl,-O1 -Wl,-Bsymbolic-functions -Wl,-Bsymbolic-functions -Wl,-z,relro -g -fwrapv -O2 -Wl,-Bsymbolic-functions -Wl,-z,relro -g -fwrapv -O2 -g -fstack-protector-strong -Wformat -Werror=format-security -Wdate-time -D_FORTIFY_SOURCE=2 build/temp.linux-x86_64-3.8/helloworld.o -o build/lib.linux-x86_64-3.8/helloworld.cpython-38-x86_64-linux-gnu.so\n",
      "copying build/lib.linux-x86_64-3.8/helloworld.cpython-38-x86_64-linux-gnu.so -> \n"
     ]
    }
   ],
   "source": [
    "!cd hello_world && python3 setup.py build_ext --inplace"
   ]
  },
  {
   "cell_type": "markdown",
   "metadata": {},
   "source": [
    "В результате в текущей директории появился файл helloworld.so (helloworld.pyd в Windows). Теперь, для того, чтобы его запустить нам нужно импортировать его, как обычный python модуль. "
   ]
  },
  {
   "cell_type": "code",
   "execution_count": 5,
   "metadata": {},
   "outputs": [
    {
     "name": "stdout",
     "output_type": "stream",
     "text": [
      "Hello World!\n"
     ]
    }
   ],
   "source": [
    "from hello_world import helloworld"
   ]
  },
  {
   "cell_type": "markdown",
   "metadata": {},
   "source": [
    "Отлично! Теперь мы знаем, как создать и скомпилировать код, с помощью Cython.  "
   ]
  },
  {
   "cell_type": "markdown",
   "metadata": {},
   "source": [
    "### Fibonacci\n",
    "Рассмотрим пример интереснее. В официальном руководстве Python есть вот такая функция для печати чисел Фибоначчи:\n",
    "```python\n",
    "from __future__ import print_function\n",
    "\n",
    "def fib(n):\n",
    "    \"\"\"Print the Fibonacci series up to n.\"\"\"\n",
    "    a, b = 0, 1\n",
    "    while b < n:\n",
    "        print(b, end=' ')\n",
    "        a, b = b, a + b\n",
    "\n",
    "    print()\n",
    "```\n",
    "\n",
    "\n",
    "Теперь, следуя шагам для примера c \"Hello World\", мы сначала переименовываем файл, чтобы он имел расширение ```.pyx```, скажем, ```fib.pyx```, а затем создаем файл ```setup.py```. "
   ]
  },
  {
   "cell_type": "code",
   "execution_count": 6,
   "metadata": {},
   "outputs": [
    {
     "name": "stdout",
     "output_type": "stream",
     "text": [
      "running build_ext\n",
      "copying build/lib.linux-x86_64-3.8/fib.cpython-38-x86_64-linux-gnu.so -> \n"
     ]
    }
   ],
   "source": [
    "!cd fib && python3 setup.py build_ext --inplace"
   ]
  },
  {
   "cell_type": "code",
   "execution_count": 7,
   "metadata": {},
   "outputs": [
    {
     "name": "stdout",
     "output_type": "stream",
     "text": [
      "1 1 2 3 5 8 13 21 34 55 89 144 233 377 610 987 1597 \n"
     ]
    }
   ],
   "source": [
    "from fib.fib import fib\n",
    "\n",
    "fib(2020)"
   ]
  },
  {
   "cell_type": "markdown",
   "metadata": {},
   "source": [
    "Хорошо, мы разобрали пример интереснее, единственная проблема $-$ мы не поняли, зачем же нам вообще нужно что-то компилировать."
   ]
  },
  {
   "cell_type": "markdown",
   "metadata": {},
   "source": [
    "### Primes\n",
    "\n",
    "\n",
    "Вот небольшой пример, показывающий, зачем нам нужен Cython. Есть обычная функция, для поиска простых чисел. Вы сообщаете ей, сколько простых чисел вы хотите, и она возвращает их в виде списка:\n",
    "\n",
    "```cython\n",
    "def primes(int nb_primes):\n",
    "    cdef int n, i, len_p\n",
    "    cdef int p[1000]\n",
    "    if nb_primes > 1000:\n",
    "        nb_primes = 1000\n",
    "\n",
    "    len_p = 0  # The current number of elements in p.\n",
    "    n = 2\n",
    "    while len_p < nb_primes:\n",
    "        # Is n prime?\n",
    "        for i in p[:len_p]:\n",
    "            if n % i == 0:\n",
    "                break\n",
    "\n",
    "        # If no break occurred in the loop,\n",
    "        # we have a prime.\n",
    "        else:\n",
    "            p[len_p] = n\n",
    "            len_p += 1\n",
    "        n += 1\n",
    "\n",
    "    # Let's return the result in a python list:\n",
    "    result_as_list  = [prime for prime in p[:len_p]]\n",
    "    return result_as_list\n",
    "```\n",
    "\n",
    "\n",
    "Можно заметить, что код начинается так же, как при определении обычной функции, за исключением того, что параметр nb_primes объявлен с типом int. Это означает, что переданный объект будет преобразован в целое число C (или будет получена ошибка TypeError, если это невозможно).\n",
    "\n",
    "Обратим внимание на строки:\n",
    "```python\n",
    "cdef int n, i, len_p\n",
    "cdef int p[1000]\n",
    "```\n",
    "\n",
    "Обратим внимание на массив ```p```, он будет преобразован в список после выполнения 22-ой строки ``` return result_as_list```."
   ]
  },
  {
   "cell_type": "markdown",
   "metadata": {},
   "source": [
    "*Примечание. Очень большие массивы таким образом создать не получится, т.к. они размещаются в стеке функций C (function call stack), который является довольно ценным и дефицитным ресурсом. Как запросить массивы большей размерности в Cython  вы можете узнать здесь: [C memory allocation](https://cython.readthedocs.io/en/latest/src/tutorial/memory_allocation.html#memory-allocation), [memory_allocation](https://cython.readthedocs.io/en/latest/src/tutorial/array.html#array-array) и [NumPy arrays](https://cython.readthedocs.io/en/latest/src/userguide/memoryviews.html#memoryviews).*"
   ]
  },
  {
   "cell_type": "code",
   "execution_count": 8,
   "metadata": {},
   "outputs": [
    {
     "name": "stdout",
     "output_type": "stream",
     "text": [
      "running build_ext\r\n",
      "copying build/lib.linux-x86_64-3.8/primes.cpython-38-x86_64-linux-gnu.so -> \r\n"
     ]
    }
   ],
   "source": [
    "!cd primes && python3 setup.py build_ext --inplace"
   ]
  },
  {
   "cell_type": "code",
   "execution_count": 11,
   "metadata": {},
   "outputs": [
    {
     "data": {
      "text/plain": [
       "[2, 3, 5, 7, 11, 13, 17, 19, 23, 29]"
      ]
     },
     "execution_count": 11,
     "metadata": {},
     "output_type": "execute_result"
    }
   ],
   "source": [
    "from primes.primes import primes\n",
    "\n",
    "primes(10)"
   ]
  },
  {
   "cell_type": "markdown",
   "metadata": {},
   "source": [
    "Сравним эту функцию со следующей:"
   ]
  },
  {
   "cell_type": "code",
   "execution_count": 12,
   "metadata": {},
   "outputs": [],
   "source": [
    "def primes_slow(nb_primes):\n",
    "    p = []\n",
    "    n = 2\n",
    "    while len(p) < nb_primes:\n",
    "        # Is n prime?\n",
    "        for i in p:\n",
    "            if n % i == 0:\n",
    "                break\n",
    "\n",
    "        # If no break occurred in the loop\n",
    "        else:\n",
    "            p.append(n)\n",
    "        n += 1\n",
    "    return p"
   ]
  },
  {
   "cell_type": "code",
   "execution_count": 15,
   "metadata": {},
   "outputs": [
    {
     "name": "stdout",
     "output_type": "stream",
     "text": [
      "CPU times: user 3.33 ms, sys: 0 ns, total: 3.33 ms\n",
      "Wall time: 4.09 ms\n"
     ]
    }
   ],
   "source": [
    "%time primes(10**5)\n",
    "pass"
   ]
  },
  {
   "cell_type": "code",
   "execution_count": 16,
   "metadata": {},
   "outputs": [
    {
     "name": "stdout",
     "output_type": "stream",
     "text": [
      "CPU times: user 2min 43s, sys: 43 ms, total: 2min 43s\n",
      "Wall time: 2min 43s\n"
     ]
    }
   ],
   "source": [
    "%time primes_slow(10**5)\n",
    "pass"
   ]
  },
  {
   "cell_type": "markdown",
   "metadata": {},
   "source": [
    "Также, мы могли бы добавить к сравнению ```primes_slow``` скомпилированную с помощью Cython."
   ]
  },
  {
   "cell_type": "markdown",
   "metadata": {},
   "source": [
    "### Primes & C++\n",
    "\n",
    "Cython дает нам возможность использовать преимущества языка C++, в частности, часть стандартной библиотеки C++ напрямую импортируется из кода Cython.\n",
    "\n",
    "Давайте посмотрим, во что превратится ```primes.pyx``` при использовании vector, из стандартной библиотеки C++.\n",
    "\n",
    "Создадим файл ```cpp/cpp_primes.pyx``` со следующим кодом: \n",
    "\n",
    "```cython\n",
    "# distutils: language=c++\n",
    "\n",
    "from libcpp.vector cimport vector\n",
    "\n",
    "def primes(unsigned int nb_primes):\n",
    "    cdef int n, i\n",
    "    cdef vector[int] p\n",
    "    # allocate memory for 'nb_primes' elements.\n",
    "    p.reserve(nb_primes)  \n",
    "\n",
    "    n = 2\n",
    "    # size() for vectors is similar to len()\n",
    "    while p.size() < nb_primes:  \n",
    "        for i in p:\n",
    "            if n % i == 0:\n",
    "                break\n",
    "        else:\n",
    "            # push_back is similar to append()\n",
    "            p.push_back(n)  \n",
    "        n += 1\n",
    "\n",
    "    # Vectors are automatically converted to Python\n",
    "    # lists when converted to Python objects.\n",
    "    return p\n",
    "```"
   ]
  },
  {
   "cell_type": "code",
   "execution_count": 17,
   "metadata": {},
   "outputs": [
    {
     "name": "stdout",
     "output_type": "stream",
     "text": [
      "running build_ext\n",
      "copying build/lib.linux-x86_64-3.8/cpp_primes.cpython-38-x86_64-linux-gnu.so -> \n"
     ]
    }
   ],
   "source": [
    "!cd cpp && python3 setup.py build_ext --inplace"
   ]
  },
  {
   "cell_type": "code",
   "execution_count": 19,
   "metadata": {},
   "outputs": [
    {
     "data": {
      "text/plain": [
       "[2, 3, 5, 7, 11, 13, 17, 19, 23, 29]"
      ]
     },
     "execution_count": 19,
     "metadata": {},
     "output_type": "execute_result"
    }
   ],
   "source": [
    "from cpp.cpp_primes import primes as cpp_primes\n",
    "\n",
    "cpp_primes(10)"
   ]
  },
  {
   "cell_type": "code",
   "execution_count": 20,
   "metadata": {},
   "outputs": [
    {
     "name": "stdout",
     "output_type": "stream",
     "text": [
      "CPU times: user 17.6 s, sys: 28 ms, total: 17.7 s\n",
      "Wall time: 17.6 s\n"
     ]
    }
   ],
   "source": [
    "%time cpp_primes(10**5)\n",
    "pass"
   ]
  },
  {
   "cell_type": "markdown",
   "metadata": {},
   "source": [
    "Дополнительная литература:\n",
    "\n",
    "* [Cython Tutorials](https://cython.readthedocs.io/en/latest/src/tutorial/index.html)"
   ]
  }
 ],
 "metadata": {
  "kernelspec": {
   "display_name": "Python 3",
   "language": "python",
   "name": "python3"
  },
  "language_info": {
   "codemirror_mode": {
    "name": "ipython",
    "version": 3
   },
   "file_extension": ".py",
   "mimetype": "text/x-python",
   "name": "python",
   "nbconvert_exporter": "python",
   "pygments_lexer": "ipython3",
   "version": "3.8.5"
  }
 },
 "nbformat": 4,
 "nbformat_minor": 4
}
