{
 "cells": [
  {
   "cell_type": "markdown",
   "metadata": {},
   "source": [
    "## Что такое PyTorch?\n",
    "\n",
    "Это пакет научных вычислений на основе Python, ориентированный \n",
    "на:\n",
    "\n",
    "-  Замена NumPy для использования мощности графических процессоров\n",
    "-  исследовательская платформа глубокого обучения, обеспечивающая максимальную гибкость и скорость\n",
    "\n",
    "\n",
    "\n",
    "\n",
    "\n",
    "\n",
    "Тензоры похожи на ndarrays NumPy, но они могут использоваться на графическом процессоре, для ускорения вычислений.\n",
    "\n"
   ]
  },
  {
   "cell_type": "code",
   "execution_count": null,
   "metadata": {},
   "outputs": [],
   "source": [
    "%matplotlib inline"
   ]
  },
  {
   "cell_type": "code",
   "execution_count": null,
   "metadata": {},
   "outputs": [],
   "source": [
    "from __future__ import print_function\n",
    "import torch"
   ]
  },
  {
   "cell_type": "markdown",
   "metadata": {},
   "source": [
    "Создаем неинициализрованную матрицу 5x3:\n",
    "\n"
   ]
  },
  {
   "cell_type": "code",
   "execution_count": null,
   "metadata": {},
   "outputs": [],
   "source": [
    "x = torch.empty(5, 3)\n",
    "print(x)"
   ]
  },
  {
   "cell_type": "markdown",
   "metadata": {},
   "source": [
    "Создает случайно инициализированную матрицу:\n",
    "\n"
   ]
  },
  {
   "cell_type": "code",
   "execution_count": null,
   "metadata": {},
   "outputs": [],
   "source": [
    "x = torch.rand(5, 3)\n",
    "print(x)"
   ]
  },
  {
   "cell_type": "markdown",
   "metadata": {},
   "source": [
    "Заполняем матрицу нулями:\n",
    "\n"
   ]
  },
  {
   "cell_type": "code",
   "execution_count": null,
   "metadata": {},
   "outputs": [],
   "source": [
    "x = torch.zeros(5, 3, dtype=torch.long)\n",
    "print(x)"
   ]
  },
  {
   "cell_type": "markdown",
   "metadata": {},
   "source": [
    "Создаем тензор из имеющихся данных:\n",
    "\n"
   ]
  },
  {
   "cell_type": "code",
   "execution_count": null,
   "metadata": {},
   "outputs": [],
   "source": [
    "x = torch.tensor([5.5, 3])\n",
    "print(x)"
   ]
  },
  {
   "cell_type": "markdown",
   "metadata": {},
   "source": [
    "Можем посмотреть размер:\n",
    "\n"
   ]
  },
  {
   "cell_type": "code",
   "execution_count": null,
   "metadata": {},
   "outputs": [],
   "source": [
    "print(x.size())"
   ]
  },
  {
   "cell_type": "markdown",
   "metadata": {},
   "source": [
    "Сложение тензоров:\n",
    "\n"
   ]
  },
  {
   "cell_type": "code",
   "execution_count": null,
   "metadata": {},
   "outputs": [],
   "source": [
    "y = torch.tensor([3.14, 15.92])\n",
    "\n",
    "result = torch.empty(5, 3)\n",
    "torch.add(x, y, out=result)\n",
    "print(result)"
   ]
  },
  {
   "cell_type": "code",
   "execution_count": null,
   "metadata": {},
   "outputs": [],
   "source": [
    "# adds x to y\n",
    "y.add_(x)"
   ]
  },
  {
   "cell_type": "markdown",
   "metadata": {},
   "source": [
    "Вы можете использовать стандартную индексацию, подобную NumPy, со всеми наворотами!"
   ]
  },
  {
   "cell_type": "code",
   "execution_count": null,
   "metadata": {},
   "outputs": [],
   "source": [
    "print(x[:, 1])"
   ]
  },
  {
   "cell_type": "markdown",
   "metadata": {},
   "source": [
    "Для изменение размера: если вы хотите изменить размер/форму тензора, вы можете использовать ``torch.view``:\n",
    "\n"
   ]
  },
  {
   "cell_type": "code",
   "execution_count": null,
   "metadata": {},
   "outputs": [],
   "source": [
    "x = torch.randn(4, 4)\n",
    "y = x.view(16)\n",
    "# the size -1 is inferred from other dimensions\n",
    "z = x.view(-1, 8)  \n",
    "print(x.size(), y.size(), z.size())"
   ]
  },
  {
   "cell_type": "markdown",
   "metadata": {},
   "source": [
    "\n",
    "Если у вас есть одноэлементный тензор, используйте ```.item()```, чтобы получить значение:"
   ]
  },
  {
   "cell_type": "code",
   "execution_count": null,
   "metadata": {},
   "outputs": [],
   "source": [
    "x = torch.randn(1)\n",
    "print(x)\n",
    "print(type(x.item()), x.item())"
   ]
  },
  {
   "cell_type": "markdown",
   "metadata": {},
   "source": [
    "**Дополнительно:**\n",
    "\n",
    "\n",
    "  \n",
    "100+ тензорных операций, включая транспонирование, индексирование, нарезку,\n",
    "  математические операции, линейная алгебра, случайные числа и т. д.:\n",
    "  [docs torch](https://pytorch.org/docs/torch).\n",
    "\n",
    "### NumPy Bridge\n",
    "\n",
    "\n",
    "Преобразование Tensor Torch в массив NumPy и наоборот $-$ это просто:\n",
    "\n",
    "\n"
   ]
  },
  {
   "cell_type": "code",
   "execution_count": 23,
   "metadata": {},
   "outputs": [
    {
     "name": "stdout",
     "output_type": "stream",
     "text": [
      "tensor([1., 1., 1., 1., 1.])\n"
     ]
    }
   ],
   "source": [
    "a = torch.ones(5)\n",
    "print(a)"
   ]
  },
  {
   "cell_type": "code",
   "execution_count": 24,
   "metadata": {},
   "outputs": [
    {
     "name": "stdout",
     "output_type": "stream",
     "text": [
      "[1. 1. 1. 1. 1.]\n"
     ]
    }
   ],
   "source": [
    "b = a.numpy()\n",
    "print(b)"
   ]
  },
  {
   "cell_type": "markdown",
   "metadata": {},
   "source": [
    "Обратите внимание, что зна значение массива numpy также изменилось:"
   ]
  },
  {
   "cell_type": "code",
   "execution_count": 25,
   "metadata": {},
   "outputs": [
    {
     "name": "stdout",
     "output_type": "stream",
     "text": [
      "tensor([2., 2., 2., 2., 2.])\n",
      "[2. 2. 2. 2. 2.]\n"
     ]
    }
   ],
   "source": [
    "a.add_(1)\n",
    "print(a)\n",
    "print(b)"
   ]
  },
  {
   "cell_type": "markdown",
   "metadata": {},
   "source": [
    "Изменение массива numpy автоматически изменяет тензор Torch:"
   ]
  },
  {
   "cell_type": "code",
   "execution_count": 26,
   "metadata": {},
   "outputs": [
    {
     "name": "stdout",
     "output_type": "stream",
     "text": [
      "[2. 2. 2. 2. 2.]\n",
      "tensor([2., 2., 2., 2., 2.], dtype=torch.float64)\n"
     ]
    }
   ],
   "source": [
    "import numpy as np\n",
    "a = np.ones(5)\n",
    "b = torch.from_numpy(a)\n",
    "np.add(a, 1, out=a)\n",
    "print(a)\n",
    "print(b)"
   ]
  },
  {
   "cell_type": "markdown",
   "metadata": {},
   "source": [
    "Все тензоры на CPU, кроме CharTensor, поддерживают преобразование в NumPy и обратно.\n",
    "\n",
    "### CUDA Tensors\n",
    "\n",
    "\n",
    "Тензоры можно перенести на любое устройство с помощью метода ``.to`` .\n",
    "\n"
   ]
  },
  {
   "cell_type": "code",
   "execution_count": 27,
   "metadata": {},
   "outputs": [
    {
     "name": "stdout",
     "output_type": "stream",
     "text": [
      "tensor([0.4906], device='cuda:0')\n",
      "tensor([0.4906], dtype=torch.float64)\n"
     ]
    }
   ],
   "source": [
    "# let us run this cell only if CUDA is available\n",
    "# We will use ``torch.device`` objects to move tensors in and out of GPU\n",
    "if torch.cuda.is_available():\n",
    "    # a CUDA device object\n",
    "    device = torch.device(\"cuda\")          \n",
    "    # directly create a tensor on GPU\n",
    "    y = torch.ones_like(x, device=device)  \n",
    "    # or just use strings ``.to(\"cuda\")``\n",
    "    x = x.to(device)                       \n",
    "    z = x + y\n",
    "    print(z)\n",
    "    # ``.to`` can also change dtype together!\n",
    "    print(z.to(\"cpu\", torch.double))       "
   ]
  },
  {
   "cell_type": "markdown",
   "metadata": {},
   "source": [
    "### AUTOGRAD: Automatic Differentiation\n",
    "\n",
    "\n",
    "\n",
    "Центральным элементом всех нейронных сетей в PyTorch является пакет autograd. \n",
    "Пакет autograd обеспечивает автоматическое дифференцирование для всех операций с тензорами. Это «define by run» фреймворк , что означает, что обратная связь определяется тем, как выполняется код, и что каждая итерация может отличаться.\n",
    "\n",
    "\n",
    "```torch.Tensor``` - центральный класс пакета. Если вы установите для его атрибута ```.requires_grad``` значение True, он начнет отслеживать все операции с ним. Когда вы закончите свои вычисления, вы можете вызвать ```.backward()```, и все градиенты будут вычислены автоматически. Градиент для этого тензора будет накапливаться в атрибуте ```.grad```.\n",
    "\n",
    "Чтобы тензор не отслеживал историю, вы можете вызвать ```.detach()```, чтобы отделить его от истории вычислений и предотвратить отслеживание будущих вычислений.\n",
    "\n",
    "Чтобы предотвратить отслеживание истории (и использование памяти), вы также можете заключить блок кода в ``torch.no_grad():``. Это может быть особенно полезно при оценке модели, поскольку у модели могут быть обучаемые параметры с require_grad = True, для которых нам не нужны градиенты.\n"
   ]
  },
  {
   "cell_type": "code",
   "execution_count": 28,
   "metadata": {},
   "outputs": [
    {
     "name": "stdout",
     "output_type": "stream",
     "text": [
      "tensor([[1., 1.],\n",
      "        [1., 1.]], requires_grad=True)\n"
     ]
    }
   ],
   "source": [
    "x = torch.ones(2, 2, requires_grad=True)\n",
    "print(x)"
   ]
  },
  {
   "cell_type": "code",
   "execution_count": 29,
   "metadata": {},
   "outputs": [
    {
     "name": "stdout",
     "output_type": "stream",
     "text": [
      "tensor([[3., 3.],\n",
      "        [3., 3.]], grad_fn=<AddBackward0>)\n"
     ]
    }
   ],
   "source": [
    "y = x + 2\n",
    "print(y)"
   ]
  },
  {
   "cell_type": "markdown",
   "metadata": {},
   "source": [
    "``y`` был создан в результате операции, поэтому у него есть ``grad_fn``."
   ]
  },
  {
   "cell_type": "code",
   "execution_count": 30,
   "metadata": {},
   "outputs": [
    {
     "name": "stdout",
     "output_type": "stream",
     "text": [
      "<AddBackward0 object at 0x7fc7aac8ca00>\n"
     ]
    }
   ],
   "source": [
    "print(y.grad_fn)"
   ]
  },
  {
   "cell_type": "markdown",
   "metadata": {},
   "source": [
    "Добавим еще одну операцию:"
   ]
  },
  {
   "cell_type": "code",
   "execution_count": 31,
   "metadata": {},
   "outputs": [
    {
     "name": "stdout",
     "output_type": "stream",
     "text": [
      "tensor([[27., 27.],\n",
      "        [27., 27.]], grad_fn=<MulBackward0>) tensor(27., grad_fn=<MeanBackward0>)\n"
     ]
    }
   ],
   "source": [
    "z = y * y * 3\n",
    "out = z.mean()\n",
    "\n",
    "print(z, out)"
   ]
  },
  {
   "cell_type": "markdown",
   "metadata": {},
   "source": [
    "### Gradients\n",
    "\n",
    "А теперь посмотрим, как будет действовать backprop. Поскольку out содержит один скаляр, ``out.backward()`` эквивалентен `out.backward(torch.tensor(1.))``."
   ]
  },
  {
   "cell_type": "code",
   "execution_count": 32,
   "metadata": {},
   "outputs": [],
   "source": [
    "out.backward()"
   ]
  },
  {
   "cell_type": "markdown",
   "metadata": {},
   "source": [
    "Напечатаем градиенты: d(out)/dx:"
   ]
  },
  {
   "cell_type": "code",
   "execution_count": 33,
   "metadata": {},
   "outputs": [
    {
     "name": "stdout",
     "output_type": "stream",
     "text": [
      "tensor([[4.5000, 4.5000],\n",
      "        [4.5000, 4.5000]])\n"
     ]
    }
   ],
   "source": [
    "print(x.grad)"
   ]
  },
  {
   "cell_type": "markdown",
   "metadata": {},
   "source": [
    "Мы получили матрицу, которая состоит из ``4.5``. \n",
    "Пусть $o$ это тензор ``out``, тогда $$o = \\frac{1}{4}\\sum_i z_i,$$\n",
    "$$z_i = 3(x_i+2)^2$$ и $$z_i\\bigr\\rvert_{x_i=1} = 27.$$\n",
    "\n",
    "Получаем:\n",
    "$$\\frac{\\partial o}{\\partial x_i} = \\frac{3}{2}(x_i+2),$$ следовательно\n",
    "$$\\frac{\\partial o}{\\partial x_i}\\bigr\\rvert_{x_i=1} = \\frac{9}{2} = 4.5.$$"
   ]
  },
  {
   "cell_type": "markdown",
   "metadata": {},
   "source": [
    "### Training a classifier\n",
    "\n"
   ]
  },
  {
   "cell_type": "code",
   "execution_count": 36,
   "metadata": {},
   "outputs": [],
   "source": [
    "import torch\n",
    "import torchvision"
   ]
  },
  {
   "cell_type": "code",
   "execution_count": 37,
   "metadata": {},
   "outputs": [
    {
     "data": {
      "text/plain": [
       "<torch._C.Generator at 0x7fc75ac18610>"
      ]
     },
     "execution_count": 37,
     "metadata": {},
     "output_type": "execute_result"
    }
   ],
   "source": [
    "n_epochs = 3\n",
    "batch_size_train = 64\n",
    "batch_size_test = 1000\n",
    "learning_rate = 0.01\n",
    "momentum = 0.5\n",
    "log_interval = 10\n",
    "\n",
    "random_seed = 1\n",
    "torch.backends.cudnn.enabled = False\n",
    "torch.manual_seed(random_seed)"
   ]
  },
  {
   "cell_type": "code",
   "execution_count": 38,
   "metadata": {},
   "outputs": [],
   "source": [
    "train_loader = torch.utils.data.DataLoader(\n",
    "  torchvision.datasets.MNIST('.files/', train=True, download=True,\n",
    "                             transform=torchvision.transforms.Compose([\n",
    "                               torchvision.transforms.ToTensor(),\n",
    "                               torchvision.transforms.Normalize(\n",
    "                                 (0.1307,), (0.3081,))\n",
    "                             ])),\n",
    "  batch_size=batch_size_train, shuffle=True)\n"
   ]
  },
  {
   "cell_type": "markdown",
   "metadata": {},
   "source": [
    "Посмотрим на датасет:"
   ]
  },
  {
   "cell_type": "code",
   "execution_count": 39,
   "metadata": {},
   "outputs": [],
   "source": [
    "examples = enumerate(train_loader)\n",
    "batch_idx, (example_data, example_targets) = next(examples)"
   ]
  },
  {
   "cell_type": "code",
   "execution_count": 40,
   "metadata": {},
   "outputs": [
    {
     "data": {
      "image/png": "[encoded data removed]",
      "text/plain": [
       "<Figure size 432x288 with 6 Axes>"
      ]
     },
     "execution_count": 40,
     "metadata": {},
     "output_type": "execute_result"
    },
    {
     "data": {
      "image/png": "[encoded data removed]",
      "text/plain": [
       "<Figure size 432x288 with 6 Axes>"
      ]
     },
     "metadata": {},
     "output_type": "display_data"
    }
   ],
   "source": [
    "import matplotlib.pyplot as plt\n",
    "\n",
    "fig = plt.figure()\n",
    "for i in range(6):\n",
    "    plt.subplot(2,3,i+1)\n",
    "    plt.tight_layout()\n",
    "    plt.imshow(example_data[i][0], cmap='gray', interpolation='none')\n",
    "    plt.title(\"Ground Truth: {}\".format(example_targets[i]))\n",
    "    plt.xticks([])\n",
    "    plt.yticks([])\n",
    "fig"
   ]
  },
  {
   "cell_type": "code",
   "execution_count": 41,
   "metadata": {},
   "outputs": [],
   "source": [
    "import torch.nn as nn\n",
    "import torch.nn.functional as F\n",
    "import torch.optim as optim"
   ]
  },
  {
   "cell_type": "markdown",
   "metadata": {},
   "source": [
    "Задаем граф вычислений:"
   ]
  },
  {
   "cell_type": "code",
   "execution_count": 43,
   "metadata": {},
   "outputs": [],
   "source": [
    "class Net(nn.Module):\n",
    "    def __init__(self):\n",
    "        super(Net, self).__init__()\n",
    "        self.conv1 = nn.Conv2d(1, 10, kernel_size=5)\n",
    "        self.conv2 = nn.Conv2d(10, 20, kernel_size=5)\n",
    "        self.conv2_drop = nn.Dropout2d()\n",
    "        self.fc1 = nn.Linear(320, 50)\n",
    "        self.fc2 = nn.Linear(50, 10)\n",
    "\n",
    "    def forward(self, x):\n",
    "        x = F.relu(F.max_pool2d(self.conv1(x), 2))\n",
    "        x = F.relu(F.max_pool2d(self.conv2_drop(self.conv2(x)), 2))\n",
    "        x = x.view(-1, 320)\n",
    "        x = F.relu(self.fc1(x))\n",
    "        x = F.dropout(x, training=self.training)\n",
    "        x = self.fc2(x)\n",
    "        return F.log_softmax(x)"
   ]
  },
  {
   "cell_type": "markdown",
   "metadata": {},
   "source": [
    "Инициализируем сеть:"
   ]
  },
  {
   "cell_type": "code",
   "execution_count": 44,
   "metadata": {},
   "outputs": [],
   "source": [
    "network = Net()\n",
    "optimizer = optim.SGD(network.parameters(), lr=learning_rate,\n",
    "                      momentum=momentum)"
   ]
  },
  {
   "cell_type": "code",
   "execution_count": 45,
   "metadata": {},
   "outputs": [],
   "source": [
    "train_losses = []\n",
    "train_counter = []"
   ]
  },
  {
   "cell_type": "markdown",
   "metadata": {},
   "source": [
    "Функция обучения:"
   ]
  },
  {
   "cell_type": "code",
   "execution_count": 46,
   "metadata": {},
   "outputs": [],
   "source": [
    "def train(epoch):\n",
    "    network.train()\n",
    "    for batch_idx, (data, target) in enumerate(train_loader):\n",
    "        optimizer.zero_grad()\n",
    "        output = network(data)\n",
    "        loss = F.nll_loss(output, target)\n",
    "        loss.backward()\n",
    "        optimizer.step()\n",
    "        if batch_idx % log_interval == 0:\n",
    "            print('Train Epoch: {} [{}/{} ({:.0f}%)]\\tLoss: {:.6f}'.format(\n",
    "            epoch, batch_idx * len(data), len(train_loader.dataset),\n",
    "            100. * batch_idx / len(train_loader), loss.item()))\n",
    "\n",
    "            train_losses.append(loss.item())\n",
    "            train_counter.append(\n",
    "            (batch_idx*64) + ((epoch-1)*len(train_loader.dataset)))\n",
    "            torch.save(network.state_dict(), './model.pth')\n",
    "            torch.save(optimizer.state_dict(), './optimizer.pth')"
   ]
  },
  {
   "cell_type": "code",
   "execution_count": 47,
   "metadata": {},
   "outputs": [
    {
     "name": "stderr",
     "output_type": "stream",
     "text": [
      "<ipython-input-43-6c2218f37724>:17: UserWarning: Implicit dimension choice for log_softmax has been deprecated. Change the call to include dim=X as an argument.\n",
      "  return F.log_softmax(x)\n"
     ]
    },
    {
     "name": "stdout",
     "output_type": "stream",
     "text": [
      "Train Epoch: 1 [0/60000 (0%)]\tLoss: 2.315883\n",
      "Train Epoch: 1 [640/60000 (1%)]\tLoss: 2.313233\n",
      "Train Epoch: 1 [1280/60000 (2%)]\tLoss: 2.293234\n",
      "Train Epoch: 1 [1920/60000 (3%)]\tLoss: 2.240104\n",
      "Train Epoch: 1 [2560/60000 (4%)]\tLoss: 2.265325\n",
      "Train Epoch: 1 [3200/60000 (5%)]\tLoss: 2.272384\n",
      "Train Epoch: 1 [3840/60000 (6%)]\tLoss: 2.178395\n",
      "Train Epoch: 1 [4480/60000 (7%)]\tLoss: 2.172720\n",
      "Train Epoch: 1 [5120/60000 (9%)]\tLoss: 2.101447\n",
      "Train Epoch: 1 [5760/60000 (10%)]\tLoss: 2.084201\n",
      "Train Epoch: 1 [6400/60000 (11%)]\tLoss: 1.924963\n",
      "Train Epoch: 1 [7040/60000 (12%)]\tLoss: 1.843520\n",
      "Train Epoch: 1 [7680/60000 (13%)]\tLoss: 1.667681\n",
      "Train Epoch: 1 [8320/60000 (14%)]\tLoss: 1.573414\n",
      "Train Epoch: 1 [8960/60000 (15%)]\tLoss: 1.332311\n",
      "Train Epoch: 1 [9600/60000 (16%)]\tLoss: 1.414763\n",
      "Train Epoch: 1 [10240/60000 (17%)]\tLoss: 1.253356\n",
      "Train Epoch: 1 [10880/60000 (18%)]\tLoss: 1.061739\n",
      "Train Epoch: 1 [11520/60000 (19%)]\tLoss: 1.047650\n",
      "Train Epoch: 1 [12160/60000 (20%)]\tLoss: 1.253063\n",
      "Train Epoch: 1 [12800/60000 (21%)]\tLoss: 1.218870\n",
      "Train Epoch: 1 [13440/60000 (22%)]\tLoss: 1.062225\n",
      "Train Epoch: 1 [14080/60000 (23%)]\tLoss: 1.068753\n",
      "Train Epoch: 1 [14720/60000 (25%)]\tLoss: 0.904710\n",
      "Train Epoch: 1 [15360/60000 (26%)]\tLoss: 1.154457\n",
      "Train Epoch: 1 [16000/60000 (27%)]\tLoss: 0.891118\n",
      "Train Epoch: 1 [16640/60000 (28%)]\tLoss: 0.767908\n",
      "Train Epoch: 1 [17280/60000 (29%)]\tLoss: 0.786938\n",
      "Train Epoch: 1 [17920/60000 (30%)]\tLoss: 0.905368\n",
      "Train Epoch: 1 [18560/60000 (31%)]\tLoss: 0.819849\n",
      "Train Epoch: 1 [19200/60000 (32%)]\tLoss: 0.881361\n",
      "Train Epoch: 1 [19840/60000 (33%)]\tLoss: 0.732746\n",
      "Train Epoch: 1 [20480/60000 (34%)]\tLoss: 0.757719\n",
      "Train Epoch: 1 [21120/60000 (35%)]\tLoss: 0.954310\n",
      "Train Epoch: 1 [21760/60000 (36%)]\tLoss: 0.582739\n",
      "Train Epoch: 1 [22400/60000 (37%)]\tLoss: 0.858589\n",
      "Train Epoch: 1 [23040/60000 (38%)]\tLoss: 1.007312\n",
      "Train Epoch: 1 [23680/60000 (39%)]\tLoss: 0.650266\n",
      "Train Epoch: 1 [24320/60000 (41%)]\tLoss: 0.943860\n",
      "Train Epoch: 1 [24960/60000 (42%)]\tLoss: 0.718830\n",
      "Train Epoch: 1 [25600/60000 (43%)]\tLoss: 0.545255\n",
      "Train Epoch: 1 [26240/60000 (44%)]\tLoss: 0.602158\n",
      "Train Epoch: 1 [26880/60000 (45%)]\tLoss: 0.549576\n",
      "Train Epoch: 1 [27520/60000 (46%)]\tLoss: 0.397825\n",
      "Train Epoch: 1 [28160/60000 (47%)]\tLoss: 0.714415\n",
      "Train Epoch: 1 [28800/60000 (48%)]\tLoss: 0.615427\n",
      "Train Epoch: 1 [29440/60000 (49%)]\tLoss: 0.758642\n",
      "Train Epoch: 1 [30080/60000 (50%)]\tLoss: 0.702058\n",
      "Train Epoch: 1 [30720/60000 (51%)]\tLoss: 0.600614\n",
      "Train Epoch: 1 [31360/60000 (52%)]\tLoss: 0.629505\n",
      "Train Epoch: 1 [32000/60000 (53%)]\tLoss: 0.759026\n",
      "Train Epoch: 1 [32640/60000 (54%)]\tLoss: 0.799196\n",
      "Train Epoch: 1 [33280/60000 (55%)]\tLoss: 0.652575\n",
      "Train Epoch: 1 [33920/60000 (57%)]\tLoss: 0.380619\n",
      "Train Epoch: 1 [34560/60000 (58%)]\tLoss: 0.559376\n",
      "Train Epoch: 1 [35200/60000 (59%)]\tLoss: 0.626324\n",
      "Train Epoch: 1 [35840/60000 (60%)]\tLoss: 0.852991\n",
      "Train Epoch: 1 [36480/60000 (61%)]\tLoss: 0.609774\n",
      "Train Epoch: 1 [37120/60000 (62%)]\tLoss: 0.666999\n",
      "Train Epoch: 1 [37760/60000 (63%)]\tLoss: 0.853832\n",
      "Train Epoch: 1 [38400/60000 (64%)]\tLoss: 0.392199\n",
      "Train Epoch: 1 [39040/60000 (65%)]\tLoss: 0.664526\n",
      "Train Epoch: 1 [39680/60000 (66%)]\tLoss: 0.611533\n",
      "Train Epoch: 1 [40320/60000 (67%)]\tLoss: 0.455964\n",
      "Train Epoch: 1 [40960/60000 (68%)]\tLoss: 0.565617\n",
      "Train Epoch: 1 [41600/60000 (69%)]\tLoss: 0.538842\n",
      "Train Epoch: 1 [42240/60000 (70%)]\tLoss: 0.693306\n",
      "Train Epoch: 1 [42880/60000 (71%)]\tLoss: 0.555706\n",
      "Train Epoch: 1 [43520/60000 (72%)]\tLoss: 0.539860\n",
      "Train Epoch: 1 [44160/60000 (74%)]\tLoss: 0.519407\n",
      "Train Epoch: 1 [44800/60000 (75%)]\tLoss: 0.468865\n",
      "Train Epoch: 1 [45440/60000 (76%)]\tLoss: 0.294641\n",
      "Train Epoch: 1 [46080/60000 (77%)]\tLoss: 0.710889\n",
      "Train Epoch: 1 [46720/60000 (78%)]\tLoss: 0.510438\n",
      "Train Epoch: 1 [47360/60000 (79%)]\tLoss: 0.590016\n",
      "Train Epoch: 1 [48000/60000 (80%)]\tLoss: 0.564654\n",
      "Train Epoch: 1 [48640/60000 (81%)]\tLoss: 0.368366\n",
      "Train Epoch: 1 [49280/60000 (82%)]\tLoss: 0.470262\n",
      "Train Epoch: 1 [49920/60000 (83%)]\tLoss: 0.373877\n",
      "Train Epoch: 1 [50560/60000 (84%)]\tLoss: 0.465355\n",
      "Train Epoch: 1 [51200/60000 (85%)]\tLoss: 0.869335\n",
      "Train Epoch: 1 [51840/60000 (86%)]\tLoss: 0.427748\n",
      "Train Epoch: 1 [52480/60000 (87%)]\tLoss: 0.514574\n",
      "Train Epoch: 1 [53120/60000 (88%)]\tLoss: 0.439438\n",
      "Train Epoch: 1 [53760/60000 (90%)]\tLoss: 0.407028\n",
      "Train Epoch: 1 [54400/60000 (91%)]\tLoss: 0.359887\n",
      "Train Epoch: 1 [55040/60000 (92%)]\tLoss: 0.456903\n",
      "Train Epoch: 1 [55680/60000 (93%)]\tLoss: 0.717307\n",
      "Train Epoch: 1 [56320/60000 (94%)]\tLoss: 0.729657\n",
      "Train Epoch: 1 [56960/60000 (95%)]\tLoss: 0.458139\n",
      "Train Epoch: 1 [57600/60000 (96%)]\tLoss: 0.421863\n",
      "Train Epoch: 1 [58240/60000 (97%)]\tLoss: 0.507352\n",
      "Train Epoch: 1 [58880/60000 (98%)]\tLoss: 0.508152\n",
      "Train Epoch: 1 [59520/60000 (99%)]\tLoss: 0.351966\n",
      "Train Epoch: 2 [0/60000 (0%)]\tLoss: 0.353961\n",
      "Train Epoch: 2 [640/60000 (1%)]\tLoss: 0.414121\n",
      "Train Epoch: 2 [1280/60000 (2%)]\tLoss: 0.751847\n",
      "Train Epoch: 2 [1920/60000 (3%)]\tLoss: 0.612605\n",
      "Train Epoch: 2 [2560/60000 (4%)]\tLoss: 0.341925\n",
      "Train Epoch: 2 [3200/60000 (5%)]\tLoss: 0.350104\n",
      "Train Epoch: 2 [3840/60000 (6%)]\tLoss: 0.267764\n",
      "Train Epoch: 2 [4480/60000 (7%)]\tLoss: 0.433731\n",
      "Train Epoch: 2 [5120/60000 (9%)]\tLoss: 0.499475\n",
      "Train Epoch: 2 [5760/60000 (10%)]\tLoss: 0.351472\n",
      "Train Epoch: 2 [6400/60000 (11%)]\tLoss: 0.287867\n",
      "Train Epoch: 2 [7040/60000 (12%)]\tLoss: 0.437786\n",
      "Train Epoch: 2 [7680/60000 (13%)]\tLoss: 0.284041\n",
      "Train Epoch: 2 [8320/60000 (14%)]\tLoss: 0.297150\n",
      "Train Epoch: 2 [8960/60000 (15%)]\tLoss: 0.459858\n",
      "Train Epoch: 2 [9600/60000 (16%)]\tLoss: 0.670899\n",
      "Train Epoch: 2 [10240/60000 (17%)]\tLoss: 0.326012\n",
      "Train Epoch: 2 [10880/60000 (18%)]\tLoss: 0.481357\n",
      "Train Epoch: 2 [11520/60000 (19%)]\tLoss: 0.305156\n",
      "Train Epoch: 2 [12160/60000 (20%)]\tLoss: 0.289776\n",
      "Train Epoch: 2 [12800/60000 (21%)]\tLoss: 0.350869\n",
      "Train Epoch: 2 [13440/60000 (22%)]\tLoss: 0.585313\n",
      "Train Epoch: 2 [14080/60000 (23%)]\tLoss: 0.515719\n",
      "Train Epoch: 2 [14720/60000 (25%)]\tLoss: 0.475713\n",
      "Train Epoch: 2 [15360/60000 (26%)]\tLoss: 0.627333\n",
      "Train Epoch: 2 [16000/60000 (27%)]\tLoss: 0.388258\n",
      "Train Epoch: 2 [16640/60000 (28%)]\tLoss: 0.313236\n",
      "Train Epoch: 2 [17280/60000 (29%)]\tLoss: 0.256123\n",
      "Train Epoch: 2 [17920/60000 (30%)]\tLoss: 0.540892\n",
      "Train Epoch: 2 [18560/60000 (31%)]\tLoss: 0.442018\n",
      "Train Epoch: 2 [19200/60000 (32%)]\tLoss: 0.398342\n",
      "Train Epoch: 2 [19840/60000 (33%)]\tLoss: 0.449541\n",
      "Train Epoch: 2 [20480/60000 (34%)]\tLoss: 0.528519\n",
      "Train Epoch: 2 [21120/60000 (35%)]\tLoss: 0.423778\n",
      "Train Epoch: 2 [21760/60000 (36%)]\tLoss: 0.483112\n",
      "Train Epoch: 2 [22400/60000 (37%)]\tLoss: 0.468645\n",
      "Train Epoch: 2 [23040/60000 (38%)]\tLoss: 0.204035\n",
      "Train Epoch: 2 [23680/60000 (39%)]\tLoss: 0.529706\n",
      "Train Epoch: 2 [24320/60000 (41%)]\tLoss: 0.518332\n",
      "Train Epoch: 2 [24960/60000 (42%)]\tLoss: 0.275521\n",
      "Train Epoch: 2 [25600/60000 (43%)]\tLoss: 0.375762\n",
      "Train Epoch: 2 [26240/60000 (44%)]\tLoss: 0.373070\n",
      "Train Epoch: 2 [26880/60000 (45%)]\tLoss: 0.495279\n",
      "Train Epoch: 2 [27520/60000 (46%)]\tLoss: 0.416662\n",
      "Train Epoch: 2 [28160/60000 (47%)]\tLoss: 0.277756\n",
      "Train Epoch: 2 [28800/60000 (48%)]\tLoss: 0.251694\n",
      "Train Epoch: 2 [29440/60000 (49%)]\tLoss: 0.473116\n",
      "Train Epoch: 2 [30080/60000 (50%)]\tLoss: 0.332858\n",
      "Train Epoch: 2 [30720/60000 (51%)]\tLoss: 0.456376\n",
      "Train Epoch: 2 [31360/60000 (52%)]\tLoss: 0.415671\n",
      "Train Epoch: 2 [32000/60000 (53%)]\tLoss: 0.284047\n",
      "Train Epoch: 2 [32640/60000 (54%)]\tLoss: 0.351718\n",
      "Train Epoch: 2 [33280/60000 (55%)]\tLoss: 0.441329\n",
      "Train Epoch: 2 [33920/60000 (57%)]\tLoss: 0.330415\n",
      "Train Epoch: 2 [34560/60000 (58%)]\tLoss: 0.352462\n",
      "Train Epoch: 2 [35200/60000 (59%)]\tLoss: 0.492677\n",
      "Train Epoch: 2 [35840/60000 (60%)]\tLoss: 0.450406\n",
      "Train Epoch: 2 [36480/60000 (61%)]\tLoss: 0.286540\n",
      "Train Epoch: 2 [37120/60000 (62%)]\tLoss: 0.463245\n",
      "Train Epoch: 2 [37760/60000 (63%)]\tLoss: 0.442325\n",
      "Train Epoch: 2 [38400/60000 (64%)]\tLoss: 0.386355\n",
      "Train Epoch: 2 [39040/60000 (65%)]\tLoss: 0.305992\n",
      "Train Epoch: 2 [39680/60000 (66%)]\tLoss: 0.280219\n",
      "Train Epoch: 2 [40320/60000 (67%)]\tLoss: 0.283502\n",
      "Train Epoch: 2 [40960/60000 (68%)]\tLoss: 0.242969\n",
      "Train Epoch: 2 [41600/60000 (69%)]\tLoss: 0.358782\n",
      "Train Epoch: 2 [42240/60000 (70%)]\tLoss: 0.431860\n",
      "Train Epoch: 2 [42880/60000 (71%)]\tLoss: 0.351839\n",
      "Train Epoch: 2 [43520/60000 (72%)]\tLoss: 0.363077\n",
      "Train Epoch: 2 [44160/60000 (74%)]\tLoss: 0.515387\n",
      "Train Epoch: 2 [44800/60000 (75%)]\tLoss: 0.495800\n",
      "Train Epoch: 2 [45440/60000 (76%)]\tLoss: 0.245798\n"
     ]
    },
    {
     "name": "stdout",
     "output_type": "stream",
     "text": [
      "Train Epoch: 2 [46080/60000 (77%)]\tLoss: 0.172070\n",
      "Train Epoch: 2 [46720/60000 (78%)]\tLoss: 0.309964\n",
      "Train Epoch: 2 [47360/60000 (79%)]\tLoss: 0.333713\n",
      "Train Epoch: 2 [48000/60000 (80%)]\tLoss: 0.263543\n",
      "Train Epoch: 2 [48640/60000 (81%)]\tLoss: 0.227558\n",
      "Train Epoch: 2 [49280/60000 (82%)]\tLoss: 0.512598\n",
      "Train Epoch: 2 [49920/60000 (83%)]\tLoss: 0.431775\n",
      "Train Epoch: 2 [50560/60000 (84%)]\tLoss: 0.441260\n",
      "Train Epoch: 2 [51200/60000 (85%)]\tLoss: 0.380131\n",
      "Train Epoch: 2 [51840/60000 (86%)]\tLoss: 0.337714\n",
      "Train Epoch: 2 [52480/60000 (87%)]\tLoss: 0.320832\n",
      "Train Epoch: 2 [53120/60000 (88%)]\tLoss: 0.213622\n",
      "Train Epoch: 2 [53760/60000 (90%)]\tLoss: 0.310908\n",
      "Train Epoch: 2 [54400/60000 (91%)]\tLoss: 0.300072\n",
      "Train Epoch: 2 [55040/60000 (92%)]\tLoss: 0.197835\n",
      "Train Epoch: 2 [55680/60000 (93%)]\tLoss: 0.291199\n",
      "Train Epoch: 2 [56320/60000 (94%)]\tLoss: 0.381986\n",
      "Train Epoch: 2 [56960/60000 (95%)]\tLoss: 0.416790\n",
      "Train Epoch: 2 [57600/60000 (96%)]\tLoss: 0.227417\n",
      "Train Epoch: 2 [58240/60000 (97%)]\tLoss: 0.543262\n",
      "Train Epoch: 2 [58880/60000 (98%)]\tLoss: 0.304832\n",
      "Train Epoch: 2 [59520/60000 (99%)]\tLoss: 0.260845\n",
      "Train Epoch: 3 [0/60000 (0%)]\tLoss: 0.404390\n",
      "Train Epoch: 3 [640/60000 (1%)]\tLoss: 0.521565\n",
      "Train Epoch: 3 [1280/60000 (2%)]\tLoss: 0.347870\n",
      "Train Epoch: 3 [1920/60000 (3%)]\tLoss: 0.620578\n",
      "Train Epoch: 3 [2560/60000 (4%)]\tLoss: 0.315266\n",
      "Train Epoch: 3 [3200/60000 (5%)]\tLoss: 0.206370\n",
      "Train Epoch: 3 [3840/60000 (6%)]\tLoss: 0.258746\n",
      "Train Epoch: 3 [4480/60000 (7%)]\tLoss: 0.247074\n",
      "Train Epoch: 3 [5120/60000 (9%)]\tLoss: 0.424363\n",
      "Train Epoch: 3 [5760/60000 (10%)]\tLoss: 0.224935\n",
      "Train Epoch: 3 [6400/60000 (11%)]\tLoss: 0.243389\n",
      "Train Epoch: 3 [7040/60000 (12%)]\tLoss: 0.408598\n",
      "Train Epoch: 3 [7680/60000 (13%)]\tLoss: 0.388842\n",
      "Train Epoch: 3 [8320/60000 (14%)]\tLoss: 0.303160\n",
      "Train Epoch: 3 [8960/60000 (15%)]\tLoss: 0.285667\n",
      "Train Epoch: 3 [9600/60000 (16%)]\tLoss: 0.262364\n",
      "Train Epoch: 3 [10240/60000 (17%)]\tLoss: 0.271308\n",
      "Train Epoch: 3 [10880/60000 (18%)]\tLoss: 0.282093\n",
      "Train Epoch: 3 [11520/60000 (19%)]\tLoss: 0.227654\n",
      "Train Epoch: 3 [12160/60000 (20%)]\tLoss: 0.257030\n",
      "Train Epoch: 3 [12800/60000 (21%)]\tLoss: 0.191471\n",
      "Train Epoch: 3 [13440/60000 (22%)]\tLoss: 0.394986\n",
      "Train Epoch: 3 [14080/60000 (23%)]\tLoss: 0.399212\n",
      "Train Epoch: 3 [14720/60000 (25%)]\tLoss: 0.336125\n",
      "Train Epoch: 3 [15360/60000 (26%)]\tLoss: 0.377319\n",
      "Train Epoch: 3 [16000/60000 (27%)]\tLoss: 0.376460\n",
      "Train Epoch: 3 [16640/60000 (28%)]\tLoss: 0.417032\n",
      "Train Epoch: 3 [17280/60000 (29%)]\tLoss: 0.210215\n",
      "Train Epoch: 3 [17920/60000 (30%)]\tLoss: 0.148838\n",
      "Train Epoch: 3 [18560/60000 (31%)]\tLoss: 0.340372\n",
      "Train Epoch: 3 [19200/60000 (32%)]\tLoss: 0.369249\n",
      "Train Epoch: 3 [19840/60000 (33%)]\tLoss: 0.426153\n",
      "Train Epoch: 3 [20480/60000 (34%)]\tLoss: 0.190551\n",
      "Train Epoch: 3 [21120/60000 (35%)]\tLoss: 0.281485\n",
      "Train Epoch: 3 [21760/60000 (36%)]\tLoss: 0.322449\n",
      "Train Epoch: 3 [22400/60000 (37%)]\tLoss: 0.248884\n",
      "Train Epoch: 3 [23040/60000 (38%)]\tLoss: 0.209493\n",
      "Train Epoch: 3 [23680/60000 (39%)]\tLoss: 0.171873\n",
      "Train Epoch: 3 [24320/60000 (41%)]\tLoss: 0.405588\n",
      "Train Epoch: 3 [24960/60000 (42%)]\tLoss: 0.351690\n",
      "Train Epoch: 3 [25600/60000 (43%)]\tLoss: 0.379368\n",
      "Train Epoch: 3 [26240/60000 (44%)]\tLoss: 0.503691\n",
      "Train Epoch: 3 [26880/60000 (45%)]\tLoss: 0.266964\n",
      "Train Epoch: 3 [27520/60000 (46%)]\tLoss: 0.306833\n",
      "Train Epoch: 3 [28160/60000 (47%)]\tLoss: 0.374814\n",
      "Train Epoch: 3 [28800/60000 (48%)]\tLoss: 0.332395\n",
      "Train Epoch: 3 [29440/60000 (49%)]\tLoss: 0.352305\n",
      "Train Epoch: 3 [30080/60000 (50%)]\tLoss: 0.386057\n",
      "Train Epoch: 3 [30720/60000 (51%)]\tLoss: 0.595334\n",
      "Train Epoch: 3 [31360/60000 (52%)]\tLoss: 0.295568\n",
      "Train Epoch: 3 [32000/60000 (53%)]\tLoss: 0.220593\n",
      "Train Epoch: 3 [32640/60000 (54%)]\tLoss: 0.303679\n",
      "Train Epoch: 3 [33280/60000 (55%)]\tLoss: 0.268681\n",
      "Train Epoch: 3 [33920/60000 (57%)]\tLoss: 0.169526\n",
      "Train Epoch: 3 [34560/60000 (58%)]\tLoss: 0.380132\n",
      "Train Epoch: 3 [35200/60000 (59%)]\tLoss: 0.357465\n",
      "Train Epoch: 3 [35840/60000 (60%)]\tLoss: 0.513495\n",
      "Train Epoch: 3 [36480/60000 (61%)]\tLoss: 0.221283\n",
      "Train Epoch: 3 [37120/60000 (62%)]\tLoss: 0.156583\n",
      "Train Epoch: 3 [37760/60000 (63%)]\tLoss: 0.177357\n",
      "Train Epoch: 3 [38400/60000 (64%)]\tLoss: 0.178748\n",
      "Train Epoch: 3 [39040/60000 (65%)]\tLoss: 0.412927\n",
      "Train Epoch: 3 [39680/60000 (66%)]\tLoss: 0.236274\n",
      "Train Epoch: 3 [40320/60000 (67%)]\tLoss: 0.456990\n",
      "Train Epoch: 3 [40960/60000 (68%)]\tLoss: 0.163153\n",
      "Train Epoch: 3 [41600/60000 (69%)]\tLoss: 0.210731\n",
      "Train Epoch: 3 [42240/60000 (70%)]\tLoss: 0.261895\n",
      "Train Epoch: 3 [42880/60000 (71%)]\tLoss: 0.223300\n",
      "Train Epoch: 3 [43520/60000 (72%)]\tLoss: 0.278898\n",
      "Train Epoch: 3 [44160/60000 (74%)]\tLoss: 0.131825\n",
      "Train Epoch: 3 [44800/60000 (75%)]\tLoss: 0.304683\n",
      "Train Epoch: 3 [45440/60000 (76%)]\tLoss: 0.269744\n",
      "Train Epoch: 3 [46080/60000 (77%)]\tLoss: 0.208119\n",
      "Train Epoch: 3 [46720/60000 (78%)]\tLoss: 0.360053\n",
      "Train Epoch: 3 [47360/60000 (79%)]\tLoss: 0.368706\n",
      "Train Epoch: 3 [48000/60000 (80%)]\tLoss: 0.156018\n",
      "Train Epoch: 3 [48640/60000 (81%)]\tLoss: 0.226578\n",
      "Train Epoch: 3 [49280/60000 (82%)]\tLoss: 0.182416\n",
      "Train Epoch: 3 [49920/60000 (83%)]\tLoss: 0.477321\n",
      "Train Epoch: 3 [50560/60000 (84%)]\tLoss: 0.412197\n",
      "Train Epoch: 3 [51200/60000 (85%)]\tLoss: 0.113564\n",
      "Train Epoch: 3 [51840/60000 (86%)]\tLoss: 0.328585\n",
      "Train Epoch: 3 [52480/60000 (87%)]\tLoss: 0.490180\n",
      "Train Epoch: 3 [53120/60000 (88%)]\tLoss: 0.196943\n",
      "Train Epoch: 3 [53760/60000 (90%)]\tLoss: 0.290791\n",
      "Train Epoch: 3 [54400/60000 (91%)]\tLoss: 0.268931\n",
      "Train Epoch: 3 [55040/60000 (92%)]\tLoss: 0.246261\n",
      "Train Epoch: 3 [55680/60000 (93%)]\tLoss: 0.298326\n",
      "Train Epoch: 3 [56320/60000 (94%)]\tLoss: 0.285846\n",
      "Train Epoch: 3 [56960/60000 (95%)]\tLoss: 0.489938\n",
      "Train Epoch: 3 [57600/60000 (96%)]\tLoss: 0.289636\n",
      "Train Epoch: 3 [58240/60000 (97%)]\tLoss: 0.421257\n",
      "Train Epoch: 3 [58880/60000 (98%)]\tLoss: 0.325892\n",
      "Train Epoch: 3 [59520/60000 (99%)]\tLoss: 0.245925\n"
     ]
    }
   ],
   "source": [
    "for epoch in range(1, n_epochs + 1):\n",
    "    train(epoch)"
   ]
  },
  {
   "cell_type": "markdown",
   "metadata": {},
   "source": [
    "Нарисуем loss кривую:"
   ]
  },
  {
   "cell_type": "code",
   "execution_count": 48,
   "metadata": {},
   "outputs": [
    {
     "data": {
      "text/plain": [
       "Text(0, 0.5, 'negative log likelihood loss')"
      ]
     },
     "execution_count": 48,
     "metadata": {},
     "output_type": "execute_result"
    },
    {
     "data": {
      "image/png": "[encoded data removed]",
      "text/plain": [
       "<Figure size 432x288 with 1 Axes>"
      ]
     },
     "metadata": {
      "needs_background": "light"
     },
     "output_type": "display_data"
    }
   ],
   "source": [
    "fig = plt.figure()\n",
    "plt.plot(train_counter, train_losses, color='blue')\n",
    "plt.legend(['Train Loss'], loc='upper right')\n",
    "plt.xlabel('number of training examples seen')\n",
    "plt.ylabel('negative log likelihood loss')"
   ]
  },
  {
   "cell_type": "markdown",
   "metadata": {},
   "source": [
    "Дополнительная информация:\n",
    "* [PyTorch tutorials](https://pytorch.org/tutorials/)"
   ]
  }
 ],
 "metadata": {
  "kernelspec": {
   "display_name": "Python 3",
   "language": "python",
   "name": "python3"
  },
  "language_info": {
   "codemirror_mode": {
    "name": "ipython",
    "version": 3
   },
   "file_extension": ".py",
   "mimetype": "text/x-python",
   "name": "python",
   "nbconvert_exporter": "python",
   "pygments_lexer": "ipython3",
   "version": "3.8.5"
  }
 },
 "nbformat": 4,
 "nbformat_minor": 1
}
