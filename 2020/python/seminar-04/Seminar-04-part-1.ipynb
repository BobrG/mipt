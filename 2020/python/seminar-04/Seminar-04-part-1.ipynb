{
 "cells": [
  {
   "cell_type": "markdown",
   "metadata": {},
   "source": [
    "# МФТИ: МТИИ 2020 Python. \n",
    "## Семинар 4: Часть 1: Погружаемся в Python: Functions, Lambdas, Decorators,  Assertations, Context Managers, Underscores, Dunders.\n",
    "\n",
    "<br>"
   ]
  },
  {
   "cell_type": "markdown",
   "metadata": {},
   "source": [
    "## Разминка :)\n",
    "Что будет напечатано после выполнения данного кода?"
   ]
  },
  {
   "cell_type": "code",
   "execution_count": 1,
   "metadata": {},
   "outputs": [
    {
     "name": "stdout",
     "output_type": "stream",
     "text": [
      "4\n"
     ]
    }
   ],
   "source": [
    "lst = [0, 1, 2]\n",
    "lst[-1] += lst.pop()\n",
    "print(lst[-1])"
   ]
  },
  {
   "cell_type": "code",
   "execution_count": 3,
   "metadata": {},
   "outputs": [
    {
     "name": "stdout",
     "output_type": "stream",
     "text": [
      "[0, 4]\n"
     ]
    }
   ],
   "source": [
    "lst = [0, 1, 2]\n",
    "lst[-1] = lst[-1] + lst.pop()\n",
    "print(lst)"
   ]
  },
  {
   "cell_type": "markdown",
   "metadata": {},
   "source": [
    "<br> \n",
    "<br>\n",
    "<br>"
   ]
  },
  {
   "cell_type": "markdown",
   "metadata": {},
   "source": [
    "## Функции (Functions)"
   ]
  },
  {
   "cell_type": "code",
   "execution_count": 4,
   "metadata": {},
   "outputs": [
    {
     "name": "stdout",
     "output_type": "stream",
     "text": [
      "HELLO!\n"
     ]
    }
   ],
   "source": [
    "def yell(text):\n",
    "    return text.upper() + '!'\n",
    "\n",
    "print(yell(\"hello\"))"
   ]
  },
  {
   "cell_type": "markdown",
   "metadata": {},
   "source": [
    "#### Функции являются объектами:"
   ]
  },
  {
   "cell_type": "code",
   "execution_count": 6,
   "metadata": {},
   "outputs": [
    {
     "data": {
      "text/plain": [
       "'WOOF!'"
      ]
     },
     "execution_count": 6,
     "metadata": {},
     "output_type": "execute_result"
    }
   ],
   "source": [
    "bark = yell\n",
    "\n",
    "bark(\"woof\")"
   ]
  },
  {
   "cell_type": "markdown",
   "metadata": {},
   "source": [
    "#### Python добавляет строку идентификатор к каждой функции в момент ее создания. К этому идентификатору можно обратиться через атрибут \\_\\_name\\_\\_:"
   ]
  },
  {
   "cell_type": "code",
   "execution_count": 7,
   "metadata": {},
   "outputs": [
    {
     "data": {
      "text/plain": [
       "'yell'"
      ]
     },
     "execution_count": 7,
     "metadata": {},
     "output_type": "execute_result"
    }
   ],
   "source": [
    "bark.__name__"
   ]
  },
  {
   "cell_type": "markdown",
   "metadata": {},
   "source": [
    "#### Функции могут храниться в структурах данных:"
   ]
  },
  {
   "cell_type": "code",
   "execution_count": 8,
   "metadata": {},
   "outputs": [
    {
     "name": "stdout",
     "output_type": "stream",
     "text": [
      "[<function yell at 0x7fee8857bca0>, <method 'lower' of 'str' objects>, <method 'capitalize' of 'str' objects>]\n"
     ]
    }
   ],
   "source": [
    "funcs = [bark, str.lower, str.capitalize]\n",
    "print(funcs)"
   ]
  },
  {
   "cell_type": "code",
   "execution_count": 9,
   "metadata": {},
   "outputs": [
    {
     "name": "stdout",
     "output_type": "stream",
     "text": [
      "<function yell at 0x7fee8857bca0> HEY THERE!\n",
      "<method 'lower' of 'str' objects> hey there\n",
      "<method 'capitalize' of 'str' objects> Hey there\n"
     ]
    }
   ],
   "source": [
    "for f in funcs:\n",
    "    print(f, f('hey there'))"
   ]
  },
  {
   "cell_type": "markdown",
   "metadata": {},
   "source": [
    "#### Функции могут создаваться внутри других функций:"
   ]
  },
  {
   "cell_type": "code",
   "execution_count": 10,
   "metadata": {},
   "outputs": [
    {
     "data": {
      "text/plain": [
       "'hello, world...'"
      ]
     },
     "execution_count": 10,
     "metadata": {},
     "output_type": "execute_result"
    }
   ],
   "source": [
    "def speak(text):\n",
    "    def whisper(t):\n",
    "        return t.lower() + '...'\n",
    "    return whisper(text)\n",
    "\n",
    "speak('Hello, World')"
   ]
  },
  {
   "cell_type": "markdown",
   "metadata": {},
   "source": [
    "#### Объекты могут вести себя как функции:"
   ]
  },
  {
   "cell_type": "code",
   "execution_count": null,
   "metadata": {},
   "outputs": [],
   "source": [
    "class Adder:\n",
    "    def __init__(self, n):\n",
    "        self.n = n\n",
    "        \n",
    "    def __call__(self, x):\n",
    "        return self.n + x\n",
    "\n",
    "plus_3 = Adder(3)\n",
    "plus_3(4)\n",
    "print(plus_3(4))"
   ]
  },
  {
   "cell_type": "markdown",
   "metadata": {},
   "source": [
    "## Лямбда функции (Lambdas)\n",
    "Лямбда-функции - небольшие анонимные функции, которые ведут себя так же, как обычные функции объявленые с помощью def. "
   ]
  },
  {
   "cell_type": "code",
   "execution_count": 11,
   "metadata": {},
   "outputs": [
    {
     "name": "stdout",
     "output_type": "stream",
     "text": [
      "<function <lambda> at 0x7fee884a4e50> 8\n",
      "<function add at 0x7fee884a4af0> 8\n"
     ]
    }
   ],
   "source": [
    "add = lambda x, y: x + y\n",
    "\n",
    "print(add, add(5, 3))\n",
    "\n",
    "def add(x, y):\n",
    "    return x + y\n",
    "\n",
    "print(add, add(5, 3))"
   ]
  },
  {
   "cell_type": "markdown",
   "metadata": {},
   "source": [
    "Пример: сортировка списка кортежей по второму аргументу:"
   ]
  },
  {
   "cell_type": "code",
   "execution_count": 13,
   "metadata": {},
   "outputs": [
    {
     "name": "stdout",
     "output_type": "stream",
     "text": [
      "[4, 3, 2, 1]\n"
     ]
    }
   ],
   "source": [
    "tuples = [(1, 'd'), (2, 'b'), (4, 'a'), (3, 'c')]\n",
    "\n",
    "a = [1, 2, 3, 4]\n",
    "print(sorted(a, key = lambda x: -x))"
   ]
  },
  {
   "cell_type": "markdown",
   "metadata": {},
   "source": [
    "## Декораторы\n",
    "\n",
    "Декораторы — это просто pythonic-реализация паттерна проектирования «Декоратор».\n",
    "По своей сути, декораторы Python позволяют расширять и изменять поведение вызываемой функции.\n",
    "\n",
    "Любая достаточно общая функциональность, которую вы можете привязать к существующей\n",
    "функции прекрасно подходит для декорирования. Примеры:\n",
    "* логирование\n",
    "* контроль доступа и аутентификация\n",
    "* различные ограничение \n",
    "* кэширование и т.д.\n",
    "\n",
    "#### Самый простой декоратор:"
   ]
  },
  {
   "cell_type": "code",
   "execution_count": 14,
   "metadata": {},
   "outputs": [
    {
     "name": "stdout",
     "output_type": "stream",
     "text": [
      "Hello!\n"
     ]
    }
   ],
   "source": [
    "def null_decorator(func):\n",
    "    return func\n",
    "\n",
    "def greet():\n",
    "    return 'Hello!'\n",
    "\n",
    "greet = null_decorator(greet)\n",
    "\n",
    "print(greet())"
   ]
  },
  {
   "cell_type": "markdown",
   "metadata": {},
   "source": [
    "В языке python есть специальный синтаксис, которй можно использовать вместо явного вызова:"
   ]
  },
  {
   "cell_type": "code",
   "execution_count": null,
   "metadata": {},
   "outputs": [],
   "source": [
    "@null_decorator\n",
    "def greet():\n",
    "    return 'Hello!'\n",
    "\n",
    "print(greet())"
   ]
  },
  {
   "cell_type": "markdown",
   "metadata": {},
   "source": [
    "#### Декораторы могут изменять поведение:"
   ]
  },
  {
   "cell_type": "code",
   "execution_count": 15,
   "metadata": {},
   "outputs": [],
   "source": [
    "def uppercase(func):\n",
    "    \n",
    "    def wrapper():\n",
    "        original_result = func()\n",
    "        modified_result = original_result.upper()\n",
    "        return modified_result\n",
    "    \n",
    "    return wrapper"
   ]
  },
  {
   "cell_type": "code",
   "execution_count": 16,
   "metadata": {},
   "outputs": [
    {
     "name": "stdout",
     "output_type": "stream",
     "text": [
      "HELLO!\n"
     ]
    }
   ],
   "source": [
    "@uppercase\n",
    "def greet():\n",
    "    return 'Hello!'\n",
    "\n",
    "print(greet())"
   ]
  },
  {
   "cell_type": "markdown",
   "metadata": {},
   "source": [
    "#### Можно применять несколько декораторов последовательно:"
   ]
  },
  {
   "cell_type": "code",
   "execution_count": 18,
   "metadata": {},
   "outputs": [],
   "source": [
    "from IPython.core.display import display, HTML\n",
    "\n",
    "def strong(func):\n",
    "    def wrapper():\n",
    "        return '<strong>' + func() + '</strong>'\n",
    "    return wrapper\n",
    "\n",
    "def emphasis(func):\n",
    "    def wrapper():\n",
    "        return '<em>' + func() + '</em>'\n",
    "    return wrapper"
   ]
  },
  {
   "cell_type": "code",
   "execution_count": 19,
   "metadata": {},
   "outputs": [
    {
     "data": {
      "text/html": [
       "<strong>Hello!</strong>"
      ],
      "text/plain": [
       "<IPython.core.display.HTML object>"
      ]
     },
     "metadata": {},
     "output_type": "display_data"
    }
   ],
   "source": [
    "@strong\n",
    "def greet():\n",
    "    return 'Hello!'\n",
    "\n",
    "\n",
    "display(HTML(greet()))"
   ]
  },
  {
   "cell_type": "code",
   "execution_count": 20,
   "metadata": {},
   "outputs": [
    {
     "data": {
      "text/html": [
       "<em><strong>Hello!</strong></em>"
      ],
      "text/plain": [
       "<IPython.core.display.HTML object>"
      ]
     },
     "metadata": {},
     "output_type": "display_data"
    }
   ],
   "source": [
    "@emphasis\n",
    "@strong\n",
    "def greet():\n",
    "    return 'Hello!'\n",
    "\n",
    "display(HTML(greet()))"
   ]
  },
  {
   "cell_type": "code",
   "execution_count": 21,
   "metadata": {},
   "outputs": [
    {
     "data": {
      "text/html": [
       "<em><strong>HELLO!</strong></em>"
      ],
      "text/plain": [
       "<IPython.core.display.HTML object>"
      ]
     },
     "metadata": {},
     "output_type": "display_data"
    }
   ],
   "source": [
    "@emphasis\n",
    "@strong\n",
    "@uppercase\n",
    "def greet():\n",
    "    return 'Hello!'\n",
    "\n",
    "display(HTML(greet()))"
   ]
  },
  {
   "cell_type": "markdown",
   "metadata": {},
   "source": [
    "#### Декорирование функций с аргументами:"
   ]
  },
  {
   "cell_type": "code",
   "execution_count": 22,
   "metadata": {},
   "outputs": [
    {
     "name": "stdout",
     "output_type": "stream",
     "text": [
      "kwargs: {'name': 'Alisa'}\n",
      "Hello!\n"
     ]
    }
   ],
   "source": [
    "def kwargs_logger(func):\n",
    "    \n",
    "    def wrapper(*args, **kwargs):\n",
    "        print(\"kwargs:\", kwargs)\n",
    "        return func(*args, **kwargs)\n",
    "    \n",
    "    return wrapper\n",
    "\n",
    "@kwargs_logger\n",
    "def greet(name='Vasya'):\n",
    "    return 'Hello!'\n",
    "\n",
    "print(greet(name='Alisa'))"
   ]
  },
  {
   "cell_type": "markdown",
   "metadata": {},
   "source": [
    "Декоратор для подсчета времени работы функции:"
   ]
  },
  {
   "cell_type": "code",
   "execution_count": 24,
   "metadata": {},
   "outputs": [
    {
     "name": "stdout",
     "output_type": "stream",
     "text": [
      "sort: 8.511543273925781e-05\n",
      "stupid_sort: 2.7980191707611084\n"
     ]
    }
   ],
   "source": [
    "import time\n",
    "\n",
    "def time_counter(func):\n",
    "    \n",
    "    def wrapper(*args, **kwargs):\n",
    "        start_time = time.time()\n",
    "        result = func(*args, **kwargs)\n",
    "        finish_time = time.time()\n",
    "        print(func.__name__ + \":\", finish_time - start_time)\n",
    "        \n",
    "        return result\n",
    "    \n",
    "    return wrapper\n",
    "\n",
    "@time_counter\n",
    "def sort(a: list) -> list:\n",
    "    return list(sorted(a))\n",
    "\n",
    "@time_counter\n",
    "def stupid_sort(a: list) -> list:\n",
    "    for index_x, x in enumerate(a):\n",
    "        for index_y, y in enumerate(a):\n",
    "            if x > y:\n",
    "                a[index_x], a[index_y] = y, x\n",
    "    return list(sorted(a))\n",
    "\n",
    "a = list(reversed(range(10000)))\n",
    "\n",
    "sort(a)\n",
    "stupid_sort(a);"
   ]
  },
  {
   "cell_type": "code",
   "execution_count": 46,
   "metadata": {},
   "outputs": [],
   "source": [
    "class Adder:\n",
    "    \n",
    "    def __init__(self, y):\n",
    "        self.y = y\n",
    "        \n",
    "class Summer:\n",
    "    \n",
    "    def __init__(self, y):\n",
    "        self.y = y"
   ]
  },
  {
   "cell_type": "code",
   "execution_count": 48,
   "metadata": {},
   "outputs": [
    {
     "name": "stdout",
     "output_type": "stream",
     "text": [
      "<class 'type'> <class 'type'>\n",
      "<class '__main__.Adder'> <class '__main__.Summer'>\n"
     ]
    }
   ],
   "source": [
    "print(type(Adder), type(Summer))\n",
    "print(type(Adder(3)), type(Summer(3)))"
   ]
  },
  {
   "cell_type": "code",
   "execution_count": 39,
   "metadata": {},
   "outputs": [
    {
     "name": "stdout",
     "output_type": "stream",
     "text": [
      "<function Adder.static_add at 0x7fee88446d30> <function Adder.static_add at 0x7fee88446d30>\n",
      "None\n"
     ]
    }
   ],
   "source": [
    "print(Adder(5).normal_add(5))"
   ]
  },
  {
   "cell_type": "code",
   "execution_count": null,
   "metadata": {},
   "outputs": [],
   "source": [
    "class Rectangle:\n",
    "    def __init__(self, length, width):\n",
    "        self.length = length\n",
    "        self.width = width\n",
    "\n",
    "    def area(self):\n",
    "        return self.length * self.width\n",
    "\n",
    "    def perimeter(self):\n",
    "        return 2 * self.length + 2 * self.width\n",
    "\n",
    "# Here we declare that the Square class inherits from the Rectangle class\n",
    "class Square(Rectangle):\n",
    "    def __init__(self, length):\n",
    "        super().__init__(length, length)"
   ]
  },
  {
   "cell_type": "markdown",
   "metadata": {},
   "source": [
    "## Assertions"
   ]
  },
  {
   "cell_type": "code",
   "execution_count": 49,
   "metadata": {},
   "outputs": [],
   "source": [
    "def apply_discount(product, discount):\n",
    "    new_price = int(product['price'] * (1.0 - discount))\n",
    "    assert 0 <= new_price <= product['price'], \"New price should be: 0 <= new_price <= price\"\n",
    "    \n",
    "    return new_price"
   ]
  },
  {
   "cell_type": "code",
   "execution_count": 51,
   "metadata": {},
   "outputs": [
    {
     "name": "stdout",
     "output_type": "stream",
     "text": [
      "10430\n"
     ]
    }
   ],
   "source": [
    "shoes = {'name': 'Fancy Shoes', 'price': 14900}\n",
    "\n",
    "print(apply_discount(product=shoes, discount=0.3))"
   ]
  },
  {
   "cell_type": "code",
   "execution_count": 52,
   "metadata": {},
   "outputs": [
    {
     "ename": "AssertionError",
     "evalue": "New price should be: 0 <= new_price <= price",
     "output_type": "error",
     "traceback": [
      "\u001b[0;31m---------------------------------------------------------------------------\u001b[0m",
      "\u001b[0;31mAssertionError\u001b[0m                            Traceback (most recent call last)",
      "\u001b[0;32m<ipython-input-52-b61980e9909c>\u001b[0m in \u001b[0;36m<module>\u001b[0;34m\u001b[0m\n\u001b[1;32m      1\u001b[0m \u001b[0;31m# получаем ошибку, но так и задумано\u001b[0m\u001b[0;34m\u001b[0m\u001b[0;34m\u001b[0m\u001b[0;34m\u001b[0m\u001b[0m\n\u001b[0;32m----> 2\u001b[0;31m \u001b[0mprint\u001b[0m\u001b[0;34m(\u001b[0m\u001b[0mapply_discount\u001b[0m\u001b[0;34m(\u001b[0m\u001b[0mproduct\u001b[0m\u001b[0;34m=\u001b[0m\u001b[0mshoes\u001b[0m\u001b[0;34m,\u001b[0m \u001b[0mdiscount\u001b[0m\u001b[0;34m=\u001b[0m\u001b[0;36m2.0\u001b[0m\u001b[0;34m)\u001b[0m\u001b[0;34m)\u001b[0m\u001b[0;34m\u001b[0m\u001b[0;34m\u001b[0m\u001b[0m\n\u001b[0m",
      "\u001b[0;32m<ipython-input-49-740b942b57fb>\u001b[0m in \u001b[0;36mapply_discount\u001b[0;34m(product, discount)\u001b[0m\n\u001b[1;32m      1\u001b[0m \u001b[0;32mdef\u001b[0m \u001b[0mapply_discount\u001b[0m\u001b[0;34m(\u001b[0m\u001b[0mproduct\u001b[0m\u001b[0;34m,\u001b[0m \u001b[0mdiscount\u001b[0m\u001b[0;34m)\u001b[0m\u001b[0;34m:\u001b[0m\u001b[0;34m\u001b[0m\u001b[0;34m\u001b[0m\u001b[0m\n\u001b[1;32m      2\u001b[0m     \u001b[0mnew_price\u001b[0m \u001b[0;34m=\u001b[0m \u001b[0mint\u001b[0m\u001b[0;34m(\u001b[0m\u001b[0mproduct\u001b[0m\u001b[0;34m[\u001b[0m\u001b[0;34m'price'\u001b[0m\u001b[0;34m]\u001b[0m \u001b[0;34m*\u001b[0m \u001b[0;34m(\u001b[0m\u001b[0;36m1.0\u001b[0m \u001b[0;34m-\u001b[0m \u001b[0mdiscount\u001b[0m\u001b[0;34m)\u001b[0m\u001b[0;34m)\u001b[0m\u001b[0;34m\u001b[0m\u001b[0;34m\u001b[0m\u001b[0m\n\u001b[0;32m----> 3\u001b[0;31m     \u001b[0;32massert\u001b[0m \u001b[0;36m0\u001b[0m \u001b[0;34m<=\u001b[0m \u001b[0mnew_price\u001b[0m \u001b[0;34m<=\u001b[0m \u001b[0mproduct\u001b[0m\u001b[0;34m[\u001b[0m\u001b[0;34m'price'\u001b[0m\u001b[0;34m]\u001b[0m\u001b[0;34m,\u001b[0m \u001b[0;34m\"New price should be: 0 <= new_price <= price\"\u001b[0m\u001b[0;34m\u001b[0m\u001b[0;34m\u001b[0m\u001b[0m\n\u001b[0m\u001b[1;32m      4\u001b[0m \u001b[0;34m\u001b[0m\u001b[0m\n\u001b[1;32m      5\u001b[0m     \u001b[0;32mreturn\u001b[0m \u001b[0mnew_price\u001b[0m\u001b[0;34m\u001b[0m\u001b[0;34m\u001b[0m\u001b[0m\n",
      "\u001b[0;31mAssertionError\u001b[0m: New price should be: 0 <= new_price <= price"
     ]
    }
   ],
   "source": [
    "# получаем ошибку, но так и задумано\n",
    "print(apply_discount(product=shoes, discount=2.0))"
   ]
  },
  {
   "cell_type": "markdown",
   "metadata": {},
   "source": [
    "#### Правильный способ использования assert-ов $-$ это информирование разработчика о неисправимых ошибках!\n",
    "\n",
    "----\n",
    "\n",
    "Синтаксис выражения assert в соответствии с документацией Python.\n",
    "```python\n",
    "assert_stmt ::= \"assert\" expression1 [\",\" expression2]\n",
    "```\n",
    "\n",
    "----\n",
    "\n",
    "Интерпретатор Python преобразует каждый оператор assert в примерно такую последовательность:\n",
    "\n",
    "\n",
    "```python\n",
    "if __debug__:\n",
    "    if not expression1:\n",
    "        raise AssertionError(expression2)\n",
    "```"
   ]
  },
  {
   "cell_type": "code",
   "execution_count": 53,
   "metadata": {},
   "outputs": [
    {
     "ename": "AssertionError",
     "evalue": "1 != 2",
     "output_type": "error",
     "traceback": [
      "\u001b[0;31m---------------------------------------------------------------------------\u001b[0m",
      "\u001b[0;31mAssertionError\u001b[0m                            Traceback (most recent call last)",
      "\u001b[0;32m<ipython-input-53-c11387ba7718>\u001b[0m in \u001b[0;36m<module>\u001b[0;34m\u001b[0m\n\u001b[0;32m----> 1\u001b[0;31m \u001b[0;32massert\u001b[0m \u001b[0;36m1\u001b[0m \u001b[0;34m==\u001b[0m \u001b[0;36m2\u001b[0m\u001b[0;34m,\u001b[0m \u001b[0;34m\"1 != 2\"\u001b[0m\u001b[0;34m\u001b[0m\u001b[0;34m\u001b[0m\u001b[0m\n\u001b[0m",
      "\u001b[0;31mAssertionError\u001b[0m: 1 != 2"
     ]
    }
   ],
   "source": [
    "assert 1 == 2, \"1 != 2\""
   ]
  },
  {
   "cell_type": "markdown",
   "metadata": {},
   "source": [
    "#### В чем проблема данного кода?"
   ]
  },
  {
   "cell_type": "code",
   "execution_count": null,
   "metadata": {},
   "outputs": [],
   "source": [
    "def delete_product(prod_id, user):\n",
    "    \n",
    "    assert user.is_admin(), 'Must be admin'\n",
    "    assert store.has_product(prod_id), 'Unknown product'\n",
    "    \n",
    "    store.get_product(prod_id).delete()"
   ]
  },
  {
   "cell_type": "markdown",
   "metadata": {},
   "source": [
    "## Менеджеры контекста (Context Managers) и оператор *with*\n",
    "\n",
    "Встроенная функция open() предоставляет нам отличный пример:"
   ]
  },
  {
   "cell_type": "code",
   "execution_count": null,
   "metadata": {},
   "outputs": [],
   "source": [
    "with open('hello.txt', 'w') as file:\n",
    "    file.write('hello, world!')"
   ]
  },
  {
   "cell_type": "markdown",
   "metadata": {},
   "source": [
    "Код выше транслируется во что-то подобное:\n",
    "```python\n",
    "f = open('hello.txt', 'w')\n",
    "try:\n",
    "    f.write('hello, world')\n",
    "finally:\n",
    "    f.close()\n",
    "```\n",
    "\n",
    "Оператор Finally является ключевым:\n",
    "```python\n",
    "f = open('hello.txt', 'w')\n",
    "f.write('hello, world')\n",
    "f.close()\n",
    "```"
   ]
  },
  {
   "cell_type": "markdown",
   "metadata": {},
   "source": [
    "Еще один хороший пример использования with - это threading.Lock class в стандартной библиотеке:\n",
    "\n",
    "```python\n",
    "some_lock = threading.Lock()\n",
    "\n",
    "# Harmful:\n",
    "some_lock.acquire()\n",
    "try:\n",
    "    # Do something...\n",
    "finally:\n",
    "    some_lock.release()\n",
    "```\n",
    "    \n",
    "```python\n",
    "# Better:\n",
    "with some_lock:\n",
    "# Do something...\n",
    "```\n",
    "В обоих случаях оператор with позволяет абстрагировать внутреннюю логику, вместо написания лишних try и finally.\n",
    "Контекст менеджер обычно используется для сохранения и восстановления глобальных состояний, блокирования и разблокирования ресурсов, открытия и закрытия файлов."
   ]
  },
  {
   "cell_type": "markdown",
   "metadata": {},
   "source": [
    "#### Написание своего менеджера\n",
    "\n",
    "Мы можем реализовать такую же функциональность в собственном\n",
    "классе. Обычно для этого нужно реализовать методы: \\_\\_enter\\_\\_ и \\_\\_exit\\_\\_, если мы хотим, чтобы он функционировал как менджер контекста. Python сам вызовет эти функции в нужный момент. "
   ]
  },
  {
   "cell_type": "code",
   "execution_count": 54,
   "metadata": {},
   "outputs": [],
   "source": [
    "class ManagedFile:\n",
    "    \n",
    "    def __init__(self, name):\n",
    "        self.name = name\n",
    "    \n",
    "    def __enter__(self):\n",
    "        self.file = open(self.name, 'w')\n",
    "        return self.file\n",
    "    \n",
    "    def __exit__(self, exc_type, exc_val, exc_tb):\n",
    "        if self.file:\n",
    "            self.file.close() "
   ]
  },
  {
   "cell_type": "code",
   "execution_count": 55,
   "metadata": {},
   "outputs": [],
   "source": [
    "with ManagedFile('hello.txt') as f:\n",
    "    f.write('hello, world!\\n')\n",
    "    f.write('bye now')"
   ]
  },
  {
   "cell_type": "code",
   "execution_count": 56,
   "metadata": {},
   "outputs": [
    {
     "name": "stdout",
     "output_type": "stream",
     "text": [
      "['hello, world!\\n', 'bye now']\n"
     ]
    }
   ],
   "source": [
    "with open('hello.txt', \"r\") as f:\n",
    "    print(f.readlines())"
   ]
  },
  {
   "cell_type": "markdown",
   "metadata": {},
   "source": [
    "### Бонус: для создания менеджера контекста можно использовать декоратор из библиотеки contextmanager\n",
    "```python\n",
    "from contextlib import contextmanager\n",
    "\n",
    "\n",
    "@contextmanager\n",
    "def managed_file(name):\n",
    "    try:\n",
    "        f = open(name, 'w')\n",
    "        yield f\n",
    "    finally:\n",
    "        f.close()\n",
    "\n",
    ">>> with managed_file('hello.txt') as f:\n",
    "...     f.write('hello, world!')\n",
    "...     f.write('bye now')\n",
    "```"
   ]
  },
  {
   "cell_type": "markdown",
   "metadata": {},
   "source": [
    "## Underscores, Dunders и многое другое\n",
    "\n",
    "1. Одно подчеркивание в начале (Single Leading Underscore): \n",
    "```python\n",
    "_var```\n",
    "2. Одно подчеркивание в конце (Single Trailing Underscore): \n",
    "```python\n",
    "var_```\n",
    "3. Двойное подчеркивание в начале (Double Leading Underscore): \n",
    "```python\n",
    "__var```\n",
    "4. Двойное подчеркивание в начале и конце (Double Leading and Trailing Underscore): \n",
    "```python\n",
    "__var__```\n",
    "5. Одиночное подчеркивание (Single Underscore): \n",
    "```python\n",
    "_```"
   ]
  },
  {
   "cell_type": "markdown",
   "metadata": {},
   "source": [
    "#### 1. Одно подчеркивание в начале (Single Leading Underscore): \n",
    "```python\n",
    "_var```\n",
    "Переменная только для внутреннего использования!"
   ]
  },
  {
   "cell_type": "code",
   "execution_count": 57,
   "metadata": {},
   "outputs": [
    {
     "name": "stdout",
     "output_type": "stream",
     "text": [
      "11\n",
      "23\n"
     ]
    }
   ],
   "source": [
    "class Test:\n",
    "    def __init__(self):\n",
    "        self.foo = 11\n",
    "        self._bar = 23\n",
    "        \n",
    "t = Test()\n",
    "print(t.foo)\n",
    "print(t._bar) # (?)"
   ]
  },
  {
   "cell_type": "markdown",
   "metadata": {},
   "source": [
    "Как вы заметили, нижнее подчеркивание у ```_bar``` не помешало нам залезть внутрь класса и получить доступ к переменную. Все из-за того, что одинарного подчеркивания лишь соглашение, если это касается переменных и названий методов. Однако, leading underscores могут влиять на импортирование из модулей. \n",
    "Предположим у вас есть следующий код в модуле my_module.py:\n",
    "\n",
    "```python\n",
    "# my_module.py:\n",
    "def external_func():\n",
    "    return 23\n",
    "\n",
    "def _internal_func():\n",
    "    return 42\n",
    "```\n",
    "---\n",
    "\n",
    "\n",
    "\n",
    "Теперь, если мы попробуем импортировать все из данного модуля (используя ```import *```), Python не будет импортировать имена с одинарным подчеркиванием в начале:\n",
    "\n",
    "```python\n",
    ">>> from my_module import *\n",
    ">>> external_func()\n",
    "23\n",
    ">>> _internal_func()\n",
    "NameError: \"name '_internal_func' is not defined\"\n",
    "```\n",
    "---\n",
    "\n",
    "Но добраться до него через модуль, мы можем:\n",
    "```python\n",
    ">>> import my_module\n",
    ">>> my_module.external_func()\n",
    "23\n",
    ">>> my_module._internal_func()\n",
    "42\n",
    "```"
   ]
  },
  {
   "cell_type": "markdown",
   "metadata": {},
   "source": [
    "#### 2. Одно подчеркивание в конце (Single Trailing Underscore): \n",
    "```python\n",
    "var_```\n",
    "\n",
    "Если имя занято самим python'ом у нас есть способ разрешить этот конфликт:"
   ]
  },
  {
   "cell_type": "code",
   "execution_count": 58,
   "metadata": {},
   "outputs": [
    {
     "ename": "SyntaxError",
     "evalue": "invalid syntax (<ipython-input-58-88a174f47223>, line 1)",
     "output_type": "error",
     "traceback": [
      "\u001b[0;36m  File \u001b[0;32m\"<ipython-input-58-88a174f47223>\"\u001b[0;36m, line \u001b[0;32m1\u001b[0m\n\u001b[0;31m    def make_object(name, class):\u001b[0m\n\u001b[0m                          ^\u001b[0m\n\u001b[0;31mSyntaxError\u001b[0m\u001b[0;31m:\u001b[0m invalid syntax\n"
     ]
    }
   ],
   "source": [
    "def make_object(name, class):\n",
    "    pass"
   ]
  },
  {
   "cell_type": "code",
   "execution_count": 59,
   "metadata": {},
   "outputs": [],
   "source": [
    "def make_object(name, class_):\n",
    "    pass"
   ]
  },
  {
   "cell_type": "markdown",
   "metadata": {},
   "source": [
    "#### 3. Двойное подчеркивание в начале (Double Leading Underscore): \n",
    "```python\n",
    "__var```\n",
    "\n",
    "Двойной underscore заставляет интерпретатор Python перезаписывать\n",
    "имя атрибута, чтобы избежать конфликтов имен в подклассах.\n",
    "\n",
    "Разбираемся на примере:"
   ]
  },
  {
   "cell_type": "code",
   "execution_count": 60,
   "metadata": {},
   "outputs": [
    {
     "data": {
      "text/plain": [
       "['_Test__baz',\n",
       " '__class__',\n",
       " '__delattr__',\n",
       " '__dict__',\n",
       " '__dir__',\n",
       " '__doc__',\n",
       " '__eq__',\n",
       " '__format__',\n",
       " '__ge__',\n",
       " '__getattribute__',\n",
       " '__gt__',\n",
       " '__hash__',\n",
       " '__init__',\n",
       " '__init_subclass__',\n",
       " '__le__',\n",
       " '__lt__',\n",
       " '__module__',\n",
       " '__ne__',\n",
       " '__new__',\n",
       " '__reduce__',\n",
       " '__reduce_ex__',\n",
       " '__repr__',\n",
       " '__setattr__',\n",
       " '__sizeof__',\n",
       " '__str__',\n",
       " '__subclasshook__',\n",
       " '__weakref__',\n",
       " '_bar',\n",
       " 'foo']"
      ]
     },
     "execution_count": 60,
     "metadata": {},
     "output_type": "execute_result"
    }
   ],
   "source": [
    "class Test:\n",
    "    def __init__(self):\n",
    "        self.foo = 11\n",
    "        self._bar = 23\n",
    "        self.__baz = 23\n",
    "        \n",
    "t = Test()\n",
    "\n",
    "# dir возвращает список валидных атрибутов объекта\n",
    "dir(t)"
   ]
  },
  {
   "cell_type": "markdown",
   "metadata": {},
   "source": [
    "Обращаем внимание на созданные нами переменные в ```__init__```. Куда пропал ```self.__baz```???"
   ]
  },
  {
   "cell_type": "markdown",
   "metadata": {},
   "source": [
    "---\n",
    "Создадим еще один класс, который расширяет ```Test``` и попытаемся перегрузить (override) атрибуты в конструкторе:"
   ]
  },
  {
   "cell_type": "code",
   "execution_count": 61,
   "metadata": {},
   "outputs": [
    {
     "name": "stdout",
     "output_type": "stream",
     "text": [
      "overridden\n",
      "overridden\n"
     ]
    },
    {
     "ename": "AttributeError",
     "evalue": "'ExtendedTest' object has no attribute '__baz'",
     "output_type": "error",
     "traceback": [
      "\u001b[0;31m---------------------------------------------------------------------------\u001b[0m",
      "\u001b[0;31mAttributeError\u001b[0m                            Traceback (most recent call last)",
      "\u001b[0;32m<ipython-input-61-1023e72ab525>\u001b[0m in \u001b[0;36m<module>\u001b[0;34m\u001b[0m\n\u001b[1;32m      9\u001b[0m \u001b[0mprint\u001b[0m\u001b[0;34m(\u001b[0m\u001b[0mt2\u001b[0m\u001b[0;34m.\u001b[0m\u001b[0mfoo\u001b[0m\u001b[0;34m)\u001b[0m\u001b[0;34m\u001b[0m\u001b[0;34m\u001b[0m\u001b[0m\n\u001b[1;32m     10\u001b[0m \u001b[0mprint\u001b[0m\u001b[0;34m(\u001b[0m\u001b[0mt2\u001b[0m\u001b[0;34m.\u001b[0m\u001b[0m_bar\u001b[0m\u001b[0;34m)\u001b[0m\u001b[0;34m\u001b[0m\u001b[0;34m\u001b[0m\u001b[0m\n\u001b[0;32m---> 11\u001b[0;31m \u001b[0mprint\u001b[0m\u001b[0;34m(\u001b[0m\u001b[0mt2\u001b[0m\u001b[0;34m.\u001b[0m\u001b[0m__baz\u001b[0m\u001b[0;34m)\u001b[0m\u001b[0;34m\u001b[0m\u001b[0;34m\u001b[0m\u001b[0m\n\u001b[0m",
      "\u001b[0;31mAttributeError\u001b[0m: 'ExtendedTest' object has no attribute '__baz'"
     ]
    }
   ],
   "source": [
    "class ExtendedTest(Test):\n",
    "    def __init__(self):\n",
    "        super().__init__()\n",
    "        self.foo = 'overridden'\n",
    "        self._bar = 'overridden'\n",
    "        self.__baz = 'overridden'\n",
    "\n",
    "t2 = ExtendedTest()\n",
    "print(t2.foo)\n",
    "print(t2._bar)\n",
    "print(t2.__baz)"
   ]
  },
  {
   "cell_type": "markdown",
   "metadata": {},
   "source": [
    "Почему так происходит? \n",
    "\n",
    "Процесс называется name mangling (искажение имени?), и используется интерпретатором Python, чтобы защитить переменную от переопределения в подклассах."
   ]
  },
  {
   "cell_type": "code",
   "execution_count": 62,
   "metadata": {},
   "outputs": [
    {
     "data": {
      "text/plain": [
       "['_ExtendedTest__baz',\n",
       " '_Test__baz',\n",
       " '__class__',\n",
       " '__delattr__',\n",
       " '__dict__',\n",
       " '__dir__',\n",
       " '__doc__',\n",
       " '__eq__',\n",
       " '__format__',\n",
       " '__ge__',\n",
       " '__getattribute__',\n",
       " '__gt__',\n",
       " '__hash__',\n",
       " '__init__',\n",
       " '__init_subclass__',\n",
       " '__le__',\n",
       " '__lt__',\n",
       " '__module__',\n",
       " '__ne__',\n",
       " '__new__',\n",
       " '__reduce__',\n",
       " '__reduce_ex__',\n",
       " '__repr__',\n",
       " '__setattr__',\n",
       " '__sizeof__',\n",
       " '__str__',\n",
       " '__subclasshook__',\n",
       " '__weakref__',\n",
       " '_bar',\n",
       " 'foo']"
      ]
     },
     "execution_count": 62,
     "metadata": {},
     "output_type": "execute_result"
    }
   ],
   "source": [
    "dir(t2)"
   ]
  },
  {
   "cell_type": "code",
   "execution_count": 63,
   "metadata": {},
   "outputs": [
    {
     "name": "stdout",
     "output_type": "stream",
     "text": [
      "overridden\n",
      "23\n"
     ]
    }
   ],
   "source": [
    "print(t2._ExtendedTest__baz)\n",
    "print(t2._Test__baz)"
   ]
  },
  {
   "cell_type": "markdown",
   "metadata": {},
   "source": [
    "Если мы используем данную конструкцию внутри класса, то все прозрачно:"
   ]
  },
  {
   "cell_type": "code",
   "execution_count": 65,
   "metadata": {},
   "outputs": [
    {
     "name": "stdout",
     "output_type": "stream",
     "text": [
      "hello\n",
      "['_ManglingTest__mangled', '__class__', '__delattr__', '__dict__', '__dir__', '__doc__', '__eq__', '__format__', '__ge__', '__getattribute__', '__gt__', '__hash__', '__init__', '__init_subclass__', '__le__', '__lt__', '__module__', '__ne__', '__new__', '__reduce__', '__reduce_ex__', '__repr__', '__setattr__', '__sizeof__', '__str__', '__subclasshook__', '__weakref__', 'get_mangled']\n"
     ]
    }
   ],
   "source": [
    "class ManglingTest:\n",
    "    \n",
    "    def __init__(self):\n",
    "        self.__mangled = 'hello'\n",
    "        \n",
    "    def get_mangled(self):\n",
    "        return self.__mangled\n",
    "    \n",
    "print(ManglingTest().get_mangled())\n",
    "print(ManglingTest().__mangled)"
   ]
  },
  {
   "cell_type": "markdown",
   "metadata": {},
   "source": [
    "#### 4. Двойное подчеркивание в начале и конце (Double Leading and Trailing Underscore): \n",
    "```python\n",
    "__var__```\n",
    "\n",
    "Может показаться удивительным, но name mangling не применяется, если имя начинается и заканчивается двойным подчеркиванием:"
   ]
  },
  {
   "cell_type": "code",
   "execution_count": null,
   "metadata": {},
   "outputs": [],
   "source": [
    "class PrefixPostfixTest:\n",
    "    def __init__(self):\n",
    "        self.__bam__ = 42\n",
    "        \n",
    "print(PrefixPostfixTest().__bam__)"
   ]
  },
  {
   "cell_type": "markdown",
   "metadata": {},
   "source": [
    "Эти имена зарезервированы в Python для специального использования (например: ```__init__```, ```__call__```.\n",
    "Лучшей практикой является не использовать такие имена в своих программах."
   ]
  },
  {
   "cell_type": "markdown",
   "metadata": {},
   "source": [
    "#### 5. Одиночное подчеркивание (Single Underscore): \n",
    "```python\n",
    "_```"
   ]
  },
  {
   "cell_type": "markdown",
   "metadata": {},
   "source": [
    "В соответствии с соглашением, одиночное подчеркивание иногда используется как\n",
    "имя, указывающее, что переменная является временной или несущественной."
   ]
  },
  {
   "cell_type": "code",
   "execution_count": 66,
   "metadata": {},
   "outputs": [
    {
     "name": "stdout",
     "output_type": "stream",
     "text": [
      "3 14 [15, 92, 65]\n"
     ]
    }
   ],
   "source": [
    "x, y, *_ = (3, 14, 15, 92, 65)\n",
    "\n",
    "print(x, y, _)"
   ]
  },
  {
   "cell_type": "markdown",
   "metadata": {},
   "source": [
    "Доп. литература: Python Tricks: A Buffet of Awesome Python Features 1st Edition by Dan Bader"
   ]
  }
 ],
 "metadata": {
  "kernelspec": {
   "display_name": "Python 3",
   "language": "python",
   "name": "python3"
  },
  "language_info": {
   "codemirror_mode": {
    "name": "ipython",
    "version": 3
   },
   "file_extension": ".py",
   "mimetype": "text/x-python",
   "name": "python",
   "nbconvert_exporter": "python",
   "pygments_lexer": "ipython3",
   "version": "3.8.5"
  }
 },
 "nbformat": 4,
 "nbformat_minor": 4
}
