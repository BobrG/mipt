{
 "cells": [
  {
   "cell_type": "markdown",
   "metadata": {
    "colab_type": "text",
    "id": "dzNng6vCL9eP"
   },
   "source": [
    "# МФТИ: МТИИ 2020 Python. \n",
    "## Семинар 7: Loguru. BS. Requests. Wandb."
   ]
  },
  {
   "cell_type": "markdown",
   "metadata": {},
   "source": [
    "## Логирование, библиотека Loguru:\n",
    "\n",
    "Loguru is a library which aims to bring enjoyable logging in Python."
   ]
  },
  {
   "cell_type": "code",
   "execution_count": 48,
   "metadata": {},
   "outputs": [
    {
     "name": "stderr",
     "output_type": "stream",
     "text": [
      "2020-10-22 10:52:56.308 | DEBUG    | __main__:<module>:3 - That's it, beautiful and simple logging!\n"
     ]
    }
   ],
   "source": [
    "from loguru import logger\n",
    "\n",
    "logger.debug(\"That's it, beautiful and simple logging!\")"
   ]
  },
  {
   "cell_type": "code",
   "execution_count": 49,
   "metadata": {},
   "outputs": [
    {
     "name": "stderr",
     "output_type": "stream",
     "text": [
      "2020-10-22 10:53:52.965 | ERROR    | __main__:nested:10 - What?!\n",
      "Traceback (most recent call last):\n",
      "\n",
      "  File \"/usr/lib/python3.8/runpy.py\", line 194, in _run_module_as_main\n",
      "    return _run_code(code, main_globals, None,\n",
      "           │         │     └ {'__name__': '__main__', '__doc__': 'Entry point for launching an IPython kernel.\\n\\nThis is separate from the ipykernel pack...\n",
      "           │         └ <code object <module> at 0x7f5c692735b0, file \"/home/tv-home/.local/lib/python3.8/site-packages/ipykernel_launcher.py\", line 1>\n",
      "           └ <function _run_code at 0x7f5c692554c0>\n",
      "  File \"/usr/lib/python3.8/runpy.py\", line 87, in _run_code\n",
      "    exec(code, run_globals)\n",
      "         │     └ {'__name__': '__main__', '__doc__': 'Entry point for launching an IPython kernel.\\n\\nThis is separate from the ipykernel pack...\n",
      "         └ <code object <module> at 0x7f5c692735b0, file \"/home/tv-home/.local/lib/python3.8/site-packages/ipykernel_launcher.py\", line 1>\n",
      "  File \"/home/tv-home/.local/lib/python3.8/site-packages/ipykernel_launcher.py\", line 16, in <module>\n",
      "    app.launch_new_instance()\n",
      "    │   └ <bound method Application.launch_instance of <class 'ipykernel.kernelapp.IPKernelApp'>>\n",
      "    └ <module 'ipykernel.kernelapp' from '/home/tv-home/.local/lib/python3.8/site-packages/ipykernel/kernelapp.py'>\n",
      "\n",
      "  File \"/usr/local/lib/python3.8/dist-packages/traitlets/config/application.py\", line 664, in launch_instance\n",
      "    app.start()\n",
      "    │   └ <function IPKernelApp.start at 0x7f5c65a318b0>\n",
      "    └ <ipykernel.kernelapp.IPKernelApp object at 0x7f5c6937c0a0>\n",
      "\n",
      "  File \"/home/tv-home/.local/lib/python3.8/site-packages/ipykernel/kernelapp.py\", line 612, in start\n",
      "    self.io_loop.start()\n",
      "    │    │       └ <function BaseAsyncIOLoop.start at 0x7f5c65abb670>\n",
      "    │    └ <tornado.platform.asyncio.AsyncIOMainLoop object at 0x7f5c659ec130>\n",
      "    └ <ipykernel.kernelapp.IPKernelApp object at 0x7f5c6937c0a0>\n",
      "  File \"/home/tv-home/.local/lib/python3.8/site-packages/tornado/platform/asyncio.py\", line 149, in start\n",
      "    self.asyncio_loop.run_forever()\n",
      "    │    │            └ <function BaseEventLoop.run_forever at 0x7f5c683c38b0>\n",
      "    │    └ <_UnixSelectorEventLoop running=True closed=False debug=False>\n",
      "    └ <tornado.platform.asyncio.AsyncIOMainLoop object at 0x7f5c659ec130>\n",
      "  File \"/usr/lib/python3.8/asyncio/base_events.py\", line 570, in run_forever\n",
      "    self._run_once()\n",
      "    │    └ <function BaseEventLoop._run_once at 0x7f5c683c5430>\n",
      "    └ <_UnixSelectorEventLoop running=True closed=False debug=False>\n",
      "  File \"/usr/lib/python3.8/asyncio/base_events.py\", line 1859, in _run_once\n",
      "    handle._run()\n",
      "    │      └ <function Handle._run at 0x7f5c684771f0>\n",
      "    └ <Handle IOLoop.add_future.<locals>.<lambda>(<Future finis...b1a0>, ...]))>) at /home/tv-home/.local/lib/python3.8/site-packag...\n",
      "  File \"/usr/lib/python3.8/asyncio/events.py\", line 81, in _run\n",
      "    self._context.run(self._callback, *self._args)\n",
      "    │    │            │    │           │    └ <member '_args' of 'Handle' objects>\n",
      "    │    │            │    │           └ <Handle IOLoop.add_future.<locals>.<lambda>(<Future finis...b1a0>, ...]))>) at /home/tv-home/.local/lib/python3.8/site-packag...\n",
      "    │    │            │    └ <member '_callback' of 'Handle' objects>\n",
      "    │    │            └ <Handle IOLoop.add_future.<locals>.<lambda>(<Future finis...b1a0>, ...]))>) at /home/tv-home/.local/lib/python3.8/site-packag...\n",
      "    │    └ <member '_context' of 'Handle' objects>\n",
      "    └ <Handle IOLoop.add_future.<locals>.<lambda>(<Future finis...b1a0>, ...]))>) at /home/tv-home/.local/lib/python3.8/site-packag...\n",
      "  File \"/home/tv-home/.local/lib/python3.8/site-packages/tornado/ioloop.py\", line 690, in <lambda>\n",
      "    lambda f: self._run_callback(functools.partial(callback, future))\n",
      "           │  │    │             │         │       │         └ <Future finished result=(10, 65, <bound method...7f5c659ec5b0>>, (<zmq.eventloo...x7f5c659e2ee0>, [<zmq.sugar.fr...x7f5c6414e...\n",
      "           │  │    │             │         │       └ <function Runner.handle_yield.<locals>.inner at 0x7f5bbd884790>\n",
      "           │  │    │             │         └ <class 'functools.partial'>\n",
      "           │  │    │             └ <module 'functools' from '/usr/lib/python3.8/functools.py'>\n",
      "           │  │    └ <function IOLoop._run_callback at 0x7f5c65bc94c0>\n",
      "           │  └ <tornado.platform.asyncio.AsyncIOMainLoop object at 0x7f5c659ec130>\n",
      "           └ <Future finished result=(10, 65, <bound method...7f5c659ec5b0>>, (<zmq.eventloo...x7f5c659e2ee0>, [<zmq.sugar.fr...x7f5c6414e...\n",
      "  File \"/home/tv-home/.local/lib/python3.8/site-packages/tornado/ioloop.py\", line 743, in _run_callback\n",
      "    ret = callback()\n",
      "          └ functools.partial(<function Runner.handle_yield.<locals>.inner at 0x7f5bbd884790>, <Future finished result=(10, 65, <bound me...\n",
      "  File \"/home/tv-home/.local/lib/python3.8/site-packages/tornado/gen.py\", line 787, in inner\n",
      "    self.run()\n",
      "    │    └ <function Runner.run at 0x7f5c65bd0ee0>\n",
      "    └ <tornado.gen.Runner object at 0x7f5a9adb8c10>\n",
      "  File \"/home/tv-home/.local/lib/python3.8/site-packages/tornado/gen.py\", line 748, in run\n",
      "    yielded = self.gen.send(value)\n",
      "              │    │   │    └ (10, 65, <bound method Kernel.dispatch_shell of <ipykernel.ipkernel.IPythonKernel object at 0x7f5c659ec5b0>>, (<zmq.eventloop...\n",
      "              │    │   └ <method 'send' of 'generator' objects>\n",
      "              │    └ <generator object Kernel.process_one at 0x7f5c688417b0>\n",
      "              └ <tornado.gen.Runner object at 0x7f5a9adb8c10>\n",
      "  File \"/home/tv-home/.local/lib/python3.8/site-packages/ipykernel/kernelbase.py\", line 365, in process_one\n",
      "    yield gen.maybe_future(dispatch(*args))\n",
      "          │   │            │         └ (<zmq.eventloop.zmqstream.ZMQStream object at 0x7f5c659e2ee0>, [<zmq.sugar.frame.Frame object at 0x7f5c6414ea90>, <zmq.sugar....\n",
      "          │   │            └ <bound method Kernel.dispatch_shell of <ipykernel.ipkernel.IPythonKernel object at 0x7f5c659ec5b0>>\n",
      "          │   └ <function maybe_future at 0x7f5c65bd0af0>\n",
      "          └ <module 'tornado.gen' from '/home/tv-home/.local/lib/python3.8/site-packages/tornado/gen.py'>\n",
      "  File \"/home/tv-home/.local/lib/python3.8/site-packages/tornado/gen.py\", line 209, in wrapper\n",
      "    yielded = next(result)\n",
      "                   └ <generator object Kernel.dispatch_shell at 0x7f5c48465350>\n",
      "  File \"/home/tv-home/.local/lib/python3.8/site-packages/ipykernel/kernelbase.py\", line 268, in dispatch_shell\n",
      "    yield gen.maybe_future(handler(stream, idents, msg))\n",
      "          │   │            │       │       │       └ {'header': {'msg_id': '1ff1654c853442abb19a95769a88ba9c', 'username': 'username', 'session': '8b8d27450b9043049feb379ec79d16e...\n",
      "          │   │            │       │       └ [b'8b8d27450b9043049feb379ec79d16e6']\n",
      "          │   │            │       └ <zmq.eventloop.zmqstream.ZMQStream object at 0x7f5c659e2ee0>\n",
      "          │   │            └ <bound method Kernel.execute_request of <ipykernel.ipkernel.IPythonKernel object at 0x7f5c659ec5b0>>\n",
      "          │   └ <function maybe_future at 0x7f5c65bd0af0>\n",
      "          └ <module 'tornado.gen' from '/home/tv-home/.local/lib/python3.8/site-packages/tornado/gen.py'>\n",
      "  File \"/home/tv-home/.local/lib/python3.8/site-packages/tornado/gen.py\", line 209, in wrapper\n",
      "    yielded = next(result)\n",
      "                   └ <generator object Kernel.execute_request at 0x7f5a9ada7a50>\n",
      "  File \"/home/tv-home/.local/lib/python3.8/site-packages/ipykernel/kernelbase.py\", line 543, in execute_request\n",
      "    self.do_execute(\n",
      "    │    └ <function IPythonKernel.do_execute at 0x7f5c65a2b160>\n",
      "    └ <ipykernel.ipkernel.IPythonKernel object at 0x7f5c659ec5b0>\n",
      "  File \"/home/tv-home/.local/lib/python3.8/site-packages/tornado/gen.py\", line 209, in wrapper\n",
      "    yielded = next(result)\n",
      "                   └ <generator object IPythonKernel.do_execute at 0x7f5a99d643c0>\n",
      "  File \"/home/tv-home/.local/lib/python3.8/site-packages/ipykernel/ipkernel.py\", line 306, in do_execute\n",
      "    res = shell.run_cell(code, store_history=store_history, silent=silent)\n",
      "          │     │        │                   │                     └ False\n",
      "          │     │        │                   └ True\n",
      "          │     │        └ 'logger.add(\"out.log\", backtrace=True, diagnose=True)  # Caution, may leak sensitive data in prod\\n\\ndef func(a, b):\\n    ret...\n",
      "          │     └ <function ZMQInteractiveShell.run_cell at 0x7f5c65a138b0>\n",
      "          └ <ipykernel.zmqshell.ZMQInteractiveShell object at 0x7f5c659e29d0>\n",
      "  File \"/home/tv-home/.local/lib/python3.8/site-packages/ipykernel/zmqshell.py\", line 536, in run_cell\n",
      "    return super(ZMQInteractiveShell, self).run_cell(*args, **kwargs)\n",
      "                 │                    │               │       └ {'store_history': True, 'silent': False}\n",
      "                 │                    │               └ ('logger.add(\"out.log\", backtrace=True, diagnose=True)  # Caution, may leak sensitive data in prod\\n\\ndef func(a, b):\\n    re...\n",
      "                 │                    └ <ipykernel.zmqshell.ZMQInteractiveShell object at 0x7f5c659e29d0>\n",
      "                 └ <class 'ipykernel.zmqshell.ZMQInteractiveShell'>\n",
      "\n",
      "  File \"/usr/local/lib/python3.8/dist-packages/IPython/core/interactiveshell.py\", line 2866, in run_cell\n",
      "    result = self._run_cell(\n",
      "             │    └ <function InteractiveShell._run_cell at 0x7f5c685e0940>\n",
      "             └ <ipykernel.zmqshell.ZMQInteractiveShell object at 0x7f5c659e29d0>\n",
      "\n",
      "  File \"/usr/local/lib/python3.8/dist-packages/IPython/core/interactiveshell.py\", line 2895, in _run_cell\n",
      "    return runner(coro)\n",
      "           │      └ <coroutine object InteractiveShell.run_cell_async at 0x7f5a9ab77040>\n",
      "           └ <function _pseudo_sync_runner at 0x7f5c685d2040>\n",
      "\n",
      "  File \"/usr/local/lib/python3.8/dist-packages/IPython/core/async_helpers.py\", line 68, in _pseudo_sync_runner\n",
      "    coro.send(None)\n",
      "    │    └ <method 'send' of 'coroutine' objects>\n",
      "    └ <coroutine object InteractiveShell.run_cell_async at 0x7f5a9ab77040>\n",
      "\n",
      "  File \"/usr/local/lib/python3.8/dist-packages/IPython/core/interactiveshell.py\", line 3071, in run_cell_async\n",
      "    has_raised = await self.run_ast_nodes(code_ast.body, cell_name,\n",
      "                       │    │             │        │     └ '<ipython-input-49-13116e8ab604>'\n",
      "                       │    │             │        └ [<_ast.Expr object at 0x7f5a99d63ac0>, <_ast.FunctionDef object at 0x7f5a99d63ca0>, <_ast.FunctionDef object at 0x7f5a99d63e5...\n",
      "                       │    │             └ <_ast.Module object at 0x7f5a99d638e0>\n",
      "                       │    └ <function InteractiveShell.run_ast_nodes at 0x7f5c685e0c10>\n",
      "                       └ <ipykernel.zmqshell.ZMQInteractiveShell object at 0x7f5c659e29d0>\n",
      "\n",
      "  File \"/usr/local/lib/python3.8/dist-packages/IPython/core/interactiveshell.py\", line 3263, in run_ast_nodes\n",
      "    if (await self.run_code(code, result,  async_=asy)):\n",
      "              │    │        │     │               └ False\n",
      "              │    │        │     └ <ExecutionResult object at 7f5a9ab73b80, execution_count=49 error_before_exec=None error_in_exec=None info=<ExecutionInfo obj...\n",
      "              │    │        └ <code object <module> at 0x7f5a99d65710, file \"<ipython-input-49-13116e8ab604>\", line 12>\n",
      "              │    └ <function InteractiveShell.run_code at 0x7f5c685e0d30>\n",
      "              └ <ipykernel.zmqshell.ZMQInteractiveShell object at 0x7f5c659e29d0>\n",
      "\n",
      "  File \"/usr/local/lib/python3.8/dist-packages/IPython/core/interactiveshell.py\", line 3343, in run_code\n",
      "    exec(code_obj, self.user_global_ns, self.user_ns)\n",
      "         │         │    │               │    └ {'__name__': '__main__', '__doc__': 'Automatically created module for IPython interactive environment', '__package__': None, ...\n",
      "         │         │    │               └ <ipykernel.zmqshell.ZMQInteractiveShell object at 0x7f5c659e29d0>\n",
      "         │         │    └ <property object at 0x7f5c685d3630>\n",
      "         │         └ <ipykernel.zmqshell.ZMQInteractiveShell object at 0x7f5c659e29d0>\n",
      "         └ <code object <module> at 0x7f5a99d65710, file \"<ipython-input-49-13116e8ab604>\", line 12>\n",
      "\n",
      "  File \"<ipython-input-49-13116e8ab604>\", line 12, in <module>\n",
      "    nested(0)\n",
      "    └ <function nested at 0x7f5a99d6ed30>\n",
      "> File \"<ipython-input-49-13116e8ab604>\", line 8, in nested\n",
      "    func(5, c)\n",
      "    │       └ 0\n",
      "    └ <function func at 0x7f5c498ef5e0>\n",
      "  File \"<ipython-input-49-13116e8ab604>\", line 4, in func\n",
      "    return a / b\n",
      "           │   └ 0\n",
      "           └ 5\n",
      "\n",
      "ZeroDivisionError: division by zero\n"
     ]
    }
   ],
   "source": [
    "logger.add(\"out.log\", backtrace=True, diagnose=True)  # Caution, may leak sensitive data in prod\n",
    "\n",
    "def func(a, b):\n",
    "    return a / b\n",
    "\n",
    "def nested(c):\n",
    "    try:\n",
    "        func(5, c)\n",
    "    except ZeroDivisionError:\n",
    "        logger.exception(\"What?!\")\n",
    "\n",
    "nested(0)"
   ]
  },
  {
   "cell_type": "markdown",
   "metadata": {},
   "source": [
    "Рассмотрим подробнее в [документации](https://github.com/Delgan/loguru)"
   ]
  },
  {
   "cell_type": "markdown",
   "metadata": {},
   "source": [
    "### Извлечение данных из ```xml``` и ```html``` файлов. Библиотека Beautiful Soup:\n",
    "\n",
    "Начнем с искусственного примера:"
   ]
  },
  {
   "cell_type": "code",
   "execution_count": 50,
   "metadata": {},
   "outputs": [],
   "source": [
    "html_doc = \"\"\"<html><head><title>The Dormouse's story</title></head>\n",
    "<body>\n",
    "<p class=\"title\"><b>The Dormouse's story</b></p>\n",
    "\n",
    "<p class=\"story\">Once upon a time there were three little sisters; and their names were\n",
    "<a href=\"http://example.com/elsie\" class=\"sister\" id=\"link1\">Elsie</a>,\n",
    "<a href=\"http://example.com/lacie\" class=\"sister\" id=\"link2\">Lacie</a> and\n",
    "<a href=\"http://example.com/tillie\" class=\"sister\" id=\"link3\">Tillie</a>;\n",
    "and they lived at the bottom of a well.</p>\n",
    "\n",
    "<p class=\"story\">...</p>\n",
    "\"\"\""
   ]
  },
  {
   "cell_type": "markdown",
   "metadata": {},
   "source": [
    "Парсим html данные:"
   ]
  },
  {
   "cell_type": "code",
   "execution_count": 52,
   "metadata": {},
   "outputs": [],
   "source": [
    "from bs4 import BeautifulSoup\n",
    "soup = BeautifulSoup(html_doc, 'html.parser')"
   ]
  },
  {
   "cell_type": "markdown",
   "metadata": {},
   "source": [
    "Теперь напечатаем код странички с форматированием:"
   ]
  },
  {
   "cell_type": "code",
   "execution_count": 53,
   "metadata": {},
   "outputs": [
    {
     "name": "stdout",
     "output_type": "stream",
     "text": [
      "<html>\n",
      " <head>\n",
      "  <title>\n",
      "   The Dormouse's story\n",
      "  </title>\n",
      " </head>\n",
      " <body>\n",
      "  <p class=\"title\">\n",
      "   <b>\n",
      "    The Dormouse's story\n",
      "   </b>\n",
      "  </p>\n",
      "  <p class=\"story\">\n",
      "   Once upon a time there were three little sisters; and their names were\n",
      "   <a class=\"sister\" href=\"http://example.com/elsie\" id=\"link1\">\n",
      "    Elsie\n",
      "   </a>\n",
      "   ,\n",
      "   <a class=\"sister\" href=\"http://example.com/lacie\" id=\"link2\">\n",
      "    Lacie\n",
      "   </a>\n",
      "   and\n",
      "   <a class=\"sister\" href=\"http://example.com/tillie\" id=\"link3\">\n",
      "    Tillie\n",
      "   </a>\n",
      "   ;\n",
      "and they lived at the bottom of a well.\n",
      "  </p>\n",
      "  <p class=\"story\">\n",
      "   ...\n",
      "  </p>\n",
      " </body>\n",
      "</html>\n"
     ]
    }
   ],
   "source": [
    "print(soup.prettify())"
   ]
  },
  {
   "cell_type": "markdown",
   "metadata": {},
   "source": [
    "Библиотека позволяет перемещаться по DOM дереву и получать нужные нам элементы:\n",
    "\n",
    "### ```title```"
   ]
  },
  {
   "cell_type": "code",
   "execution_count": 54,
   "metadata": {},
   "outputs": [
    {
     "name": "stdout",
     "output_type": "stream",
     "text": [
      "<title>The Dormouse's story</title>\n"
     ]
    }
   ],
   "source": [
    "print(soup.title)"
   ]
  },
  {
   "cell_type": "markdown",
   "metadata": {},
   "source": [
    "### ```title.name```"
   ]
  },
  {
   "cell_type": "code",
   "execution_count": 55,
   "metadata": {},
   "outputs": [
    {
     "name": "stdout",
     "output_type": "stream",
     "text": [
      "title\n"
     ]
    }
   ],
   "source": [
    "print(soup.title.name)"
   ]
  },
  {
   "cell_type": "markdown",
   "metadata": {},
   "source": [
    "### ```title.string```"
   ]
  },
  {
   "cell_type": "code",
   "execution_count": 56,
   "metadata": {},
   "outputs": [
    {
     "name": "stdout",
     "output_type": "stream",
     "text": [
      "The Dormouse's story\n"
     ]
    }
   ],
   "source": [
    "print(soup.title.string)"
   ]
  },
  {
   "cell_type": "markdown",
   "metadata": {},
   "source": [
    "### ```title.parent.name```"
   ]
  },
  {
   "cell_type": "code",
   "execution_count": 57,
   "metadata": {},
   "outputs": [
    {
     "name": "stdout",
     "output_type": "stream",
     "text": [
      "head\n"
     ]
    }
   ],
   "source": [
    "print(soup.title.parent.name)"
   ]
  },
  {
   "cell_type": "markdown",
   "metadata": {},
   "source": [
    "### ```p```"
   ]
  },
  {
   "cell_type": "code",
   "execution_count": 58,
   "metadata": {},
   "outputs": [
    {
     "name": "stdout",
     "output_type": "stream",
     "text": [
      "<p class=\"title\"><b>The Dormouse's story</b></p>\n"
     ]
    }
   ],
   "source": [
    "print(soup.p)"
   ]
  },
  {
   "cell_type": "markdown",
   "metadata": {},
   "source": [
    "### ```p['class']```"
   ]
  },
  {
   "cell_type": "code",
   "execution_count": 59,
   "metadata": {},
   "outputs": [
    {
     "name": "stdout",
     "output_type": "stream",
     "text": [
      "['title']\n"
     ]
    }
   ],
   "source": [
    "print(soup.p['class'])"
   ]
  },
  {
   "cell_type": "markdown",
   "metadata": {},
   "source": [
    "### ```a```"
   ]
  },
  {
   "cell_type": "code",
   "execution_count": 60,
   "metadata": {},
   "outputs": [
    {
     "name": "stdout",
     "output_type": "stream",
     "text": [
      "<a class=\"sister\" href=\"http://example.com/elsie\" id=\"link1\">Elsie</a>\n"
     ]
    }
   ],
   "source": [
    "print(soup.a)"
   ]
  },
  {
   "cell_type": "markdown",
   "metadata": {},
   "source": [
    "### ```find_all```"
   ]
  },
  {
   "cell_type": "code",
   "execution_count": 62,
   "metadata": {},
   "outputs": [
    {
     "name": "stdout",
     "output_type": "stream",
     "text": [
      "<a class=\"sister\" href=\"http://example.com/elsie\" id=\"link1\">Elsie</a>\n",
      "<a class=\"sister\" href=\"http://example.com/lacie\" id=\"link2\">Lacie</a>\n",
      "<a class=\"sister\" href=\"http://example.com/tillie\" id=\"link3\">Tillie</a>\n"
     ]
    }
   ],
   "source": [
    "for a in soup.find_all('a'):\n",
    "    print(a)"
   ]
  },
  {
   "cell_type": "markdown",
   "metadata": {},
   "source": [
    "### ```find```"
   ]
  },
  {
   "cell_type": "code",
   "execution_count": 63,
   "metadata": {},
   "outputs": [
    {
     "name": "stdout",
     "output_type": "stream",
     "text": [
      "<a class=\"sister\" href=\"http://example.com/tillie\" id=\"link3\">Tillie</a>\n"
     ]
    }
   ],
   "source": [
    "print(soup.find(id=\"link3\"))"
   ]
  },
  {
   "cell_type": "markdown",
   "metadata": {},
   "source": [
    "### Пример парсинга данных из сети:"
   ]
  },
  {
   "cell_type": "code",
   "execution_count": 64,
   "metadata": {},
   "outputs": [],
   "source": [
    "import requests\n",
    "from bs4 import BeautifulSoup\n",
    "import re"
   ]
  },
  {
   "cell_type": "markdown",
   "metadata": {},
   "source": [
    "[Requests](Requests) is an elegant and simple HTTP library for Python, built for human beings.\n",
    "\n",
    "Requests позволяет очень легко отправлять HTTP/1.1 запросы, без необходимости  вручную добавлять query строки к своим URL-адресам или кодировать данные POST. "
   ]
  },
  {
   "cell_type": "code",
   "execution_count": 65,
   "metadata": {},
   "outputs": [
    {
     "data": {
      "text/plain": [
       "<Response [200]>"
      ]
     },
     "execution_count": 65,
     "metadata": {},
     "output_type": "execute_result"
    }
   ],
   "source": [
    "requests.get(\"http://rbc.ru/\")"
   ]
  },
  {
   "cell_type": "markdown",
   "metadata": {},
   "source": [
    "Можем посмотреть всю сопутствующую запросу информацию:"
   ]
  },
  {
   "cell_type": "code",
   "execution_count": 66,
   "metadata": {},
   "outputs": [
    {
     "name": "stdout",
     "output_type": "stream",
     "text": [
      "cookies: <RequestsCookieJar[<Cookie is_mobile=0 for .lenta.ru/>, <Cookie lid=vAsAADM+kV9INSBTAQazCwB= for .lenta.ru/>, <Cookie lids=482135484F8D77CD for .lenta.ru/>]>\n",
      "time to download: 0:00:00.347485\n",
      "page encoding utf-8\n",
      "Server response:  200\n",
      "Is everything ok?  True\n",
      "Page's URL:  https://lenta.ru/brief/2019/03/25/apple/\n",
      "CPU times: user 19.6 ms, sys: 4.51 ms, total: 24.1 ms\n",
      "Wall time: 394 ms\n"
     ]
    }
   ],
   "source": [
    "%%time\n",
    "resp=requests.get(\"https://lenta.ru/brief/2019/03/25/apple/\")\n",
    "print(\"cookies:\", resp.cookies)\n",
    "print(\"time to download:\", resp.elapsed)\n",
    "print(\"page encoding\", resp.encoding)\n",
    "print(\"Server response: \", resp.status_code)\n",
    "print(\"Is everything ok? \", resp.ok)\n",
    "print(\"Page's URL: \", resp.url)"
   ]
  },
  {
   "cell_type": "markdown",
   "metadata": {},
   "source": [
    "И сам текст:"
   ]
  },
  {
   "cell_type": "code",
   "execution_count": 67,
   "metadata": {},
   "outputs": [
    {
     "data": {
      "text/plain": [
       "'<!DOCTYPE html><html xmlns:fb=\"http://www.facebook.com/2008/fbml\" xmlns:og=\"http://ogp.me/ns#\"><head><title>Новинки презентации Apple: Гаджеты: Наука и техника: Lenta.ru</title><meta content=\"Новинки презентации Apple: Гаджеты: Наука и техника: Lenta.ru\" name=\"title\" /><meta content=\"text/html; charset=utf-8\" http-equiv=\"Content-Type\" />\\n<script type=\"text/javascript\">window.NREUM||(NREUM={});NREUM.info={\"beacon\":\"bam-cell.nr-data.net\",\"errorBeacon\":\"bam-cell.nr-data.net\",\"licenseKey\":\"66a8d51230\",\"applicationID\":\"1241738\",\"transactionName\":\"J19cQUoOWA0ERBoQXhRZUUYXElwOFg==\",\"queueTime\":0,\"applicationTime\":224,\"agent\":\"\"}</script>\\n<script type=\"text/javascript\">(window.NREUM||(NREUM={})).loader_config={xpid:\"VQUGU1VRGwICUFBVBAk=\",licenseKey:\"66a8d51230\",applicationID:\"1241738\"};window.NREUM||(NREUM={}),__nr_require=function(t,e,n){function r(n){if(!e[n]){var i=e[n]={exports:{}};t[n][0].call(i.exports,function(e){var i=t[n][1][e];return r(i||e)},i,i.exports)}return e[n].exports}if(\"func'"
      ]
     },
     "execution_count": 67,
     "metadata": {},
     "output_type": "execute_result"
    }
   ],
   "source": [
    "resp.text[:1000]"
   ]
  },
  {
   "cell_type": "code",
   "execution_count": 68,
   "metadata": {},
   "outputs": [
    {
     "data": {
      "text/plain": [
       "'Новинки презентации Apple: Гаджеты: Наука и техника: Lenta.ru\\n\\nГлавноеРоссияМирБывший СССРЭкономикаСиловые структурыНаука и техникаКультураСпортИнтернет и СМИЦенности ПутешествияИз жизниДомСтатьиГалереиВидеоСпецпроектыМоторХочешь видеть только хорошие новости? Жми!Лента добра активирована. Это зона смеха и позитиваЛента добра деактивирована. Добро пожаловать в реальный мир.Лента добраВсё о коронавирусеНаука и техника\\xa0Новая, персональнаяПопробоватьВсеНаукаЖизньКосмосОружиеИсторияТехникаГаджетыИгрыСофт\\xa0АрхивApple провела первую в 2019 году пресс-конференциюApple запустила подписку на журналы и игрыApple выпустила кредитную картуТакже анонсировали онлайн-кинотеатр с эксклюзивными шоуApple уже пыталась показывать собственные шоуНовые устройства Apple показала за неделю до презентации 22:20, 25 марта 2019Новинки презентации AppleПерейти в «Мою Ленту»6Фото: Tony Avelar / APПоследние новости10:41В России выявили 15,9\\xa0тысячи новых случаев заражения коронавирусом11:06Некоторых россиян освободят'"
      ]
     },
     "execution_count": 68,
     "metadata": {},
     "output_type": "execute_result"
    }
   ],
   "source": [
    "BeautifulSoup(resp.text, \"html.parser\").get_text()[:1000]"
   ]
  },
  {
   "cell_type": "markdown",
   "metadata": {},
   "source": [
    "Разбиваем по параграфам и получаем нужный результат:"
   ]
  },
  {
   "cell_type": "code",
   "execution_count": 69,
   "metadata": {},
   "outputs": [
    {
     "name": "stdout",
     "output_type": "stream",
     "text": [
      "Новинки презентации Apple \n",
      "-----\n",
      " 25 марта Apple провела пресс-конференцию, на которой показала свои новые продукты. Вокруг презентации было много слухов, главные из которых — выпуск новой версии AirPods и планшетов iPad mini и Air. Однако все свои новые гаджеты она анонсировала за неделю до мероприятия. Причем сделала это без всякой подготовки и просто разослала журналистам пресс-релизы.\n",
      "\n",
      "В результате в самом начале презентации Тим Кук обозначил, что вся пресс-конференция была посвящена новым сервисам компании. В приложении Apple News, до сих пор недоступном в России, появится подписка News+, которая дает пользователю за ежемесячную плату в 10 долларов доступ к статьям в более чем 300 различных журналах. Вместе с этим пользователям будут доступны статьи в интернет-изданиях с платной подпиской, таких как The Wall Street Journal. Своего рода это пересборка старого приложения Newsstand («Киоск»), в котором пользователь должен был вручную оформлять подписку на интересующие журналы и покупать новые выпуски.\n",
      "\n",
      "Подписка стоит 10 долларов в месяц, первый месяц использования бесплатный. В компании уверяют, что суммарная стоимость подписок на все доступные в News+ СМИ составляет около восьми тысяч долларов. Кроме того, анонсировали выход Apple News в Канаде, а также в Великобритании и Австралии в конце 2019 года.\n",
      "\n",
      "Подписка Apple Arcade дает доступ к более чем 100 эксклюзивным играм. Никаких подробностей не стали раскрывать, лишь показали нарезку из разных проектов, но даже не озвучили стоимость подписки. Среди разработчиков игр для нового сервиса значатся Konami и Sega. Зато можно будет играть на iPhone, iPad и Apple TV, а запустят подписку осенью 2019 года в более чем 150 странах. Вероятно, Россия также будет в списке первых. Корпорация представила кредитную карту Apple Card, которую может оформить любой владелец iPhone. Apple не берет платы за обслуживание. Вместе с этим пользователи Apple Card будут получать ежедневный кешбэк в размере 3 процентов от суммы покупок в магазинах Apple, 2 процентов для покупок через Apple Pay и 1 процент — через физическую карту.\n",
      "\n",
      "Однако работает это лишь на территории США и о появлении в других странах ничего не сказали. Большая часть презентации была посвящена новому стриминговому сервису Apple TV+ с эксклюзивными фильмами и сериалами. Анонсированы проекты Стивена Спилберга (который ранее высказывался против Netflix), Дэмьена Шазелла, Джей Джея Абрамса и других режиссеров. Известные актеры, включая Риз Уизерспун, Стива Каррелла и Джейсона Момоа, рассказали о шоу, доступных в TV+, в которых будут сниматься.\n",
      "\n",
      "Вместе с этим Apple полностью обновила приложение Apple TV. Оно станет доступно на macOS и на телевизорах от Samsung, Sony, LG и Vizio. С его помощью можно будет смотреть шоу каналов HBO, Showtime, Starz и CBS, а также стриминговых сервисов, вроде Amazon Prime и Hulu.  \n",
      "\n",
      "Запустится новое приложение Apple TV с подпиской на каналы и стриминговые сервисы в мае 2019-го, а  TV+ станет доступна осенью 2019 года в более чем 100 странах. В 2016 году Apple выкупила права у CBS на рубрику Carpool Karaoke в американском шоу The Late Late Show with James Corden. Первый эпизод Carpool Karaoke: The Series вышел в августе 2017 года, в рамках первого сезона выпустили 21 эпизод. Второй сезон шоу начался в октябре 2018 года, и на данный момент вышло 18 серий.\n",
      "\n",
      "Также в июне 2017 года Apple запустила шоу Planet of the Apps, в котором разработчики должны были за минуту рассказать жюри о своем приложении и убедить его в значимости своего продукта. Если хотя бы один из судей согласится выслушать идею, то разработчику давали больше времени на презентацию. Всего вышло 10 серий, после чего шоу закрыли. За неделю до мероприятия Apple анонсировала новые устройства. Три дня подряд компания один за другим представила новые iPad, iMac и AirPods. Сперва были показаны новые iPad mini и iPad Air, которые получили процессоры A12 и поддержку стилуса Apple Pencil первого поколения. Mini выпускается в том же дизайне, что и его предшественник четырехлетней давности, а Air получил 10,5-дюймовый экран, как у прошлогоднего iPad Pro. Стоимость mini начинается от 33 тысяч рублей, а Air — от 43 тысяч.\n",
      "\n",
      "iMac получили лишь обновленное железо и никакого редизайна не произошло. Так, iMac 21,5 теперь оснащается четырехъядерными процессорами Intel Core восьмого поколения, впервые для него стали доступны шестиядерные процессоры. Также Apple начнет выпускать версию этого моноблока с видеокартой Radeon Pro Vega. iMac 27 оснастили шести- и восьмиядерные процессоры девятого поколения. iMac 21,5 стоит от 108 тысяч рублей, 27 — от 153 тысяч.\n",
      "\n",
      "AirPods получили лишь новый процессор, благодаря которому время работы наушников при разговоре увеличилось на 50 процентов. Также они получили функцию вызова голосового помощника Siri с помощью голоса. Вместе с этим на рынке появился кейс для AirPods с беспроводной зарядкой, который анонсировали еще в 2017 году. Стоимость новых наушников со стандартным футляром составляет 13,5 тысячи рублей, а с новым кейсом — 17 тысяч. Также его можно купить отдельно за 6,5 тысячи. Влад Массино\n"
     ]
    }
   ],
   "source": [
    "bs=BeautifulSoup(resp.text, \"html.parser\")\n",
    "title=bs.h1.text\n",
    "text=BeautifulSoup(\" \".join([p.text for p in bs.find_all(\"p\")]), \"html.parser\").get_text()\n",
    "print(title, \"\\n-----\\n\", text)"
   ]
  },
  {
   "cell_type": "markdown",
   "metadata": {},
   "source": [
    "## Логирование/отслеживание экспериментов (Experiment tracking). Weights & Biases."
   ]
  },
  {
   "cell_type": "markdown",
   "metadata": {},
   "source": [
    "\n",
    "Чтобы результаты записывались в облако, нужно залогиниться. Предоставить свой api-key. Самый простой способ - использование консоли:\n",
    "```bash \n",
    "$ wandb login\n",
    "```"
   ]
  },
  {
   "cell_type": "code",
   "execution_count": null,
   "metadata": {},
   "outputs": [],
   "source": [
    "import wandb\n",
    "wandb.login()"
   ]
  },
  {
   "cell_type": "markdown",
   "metadata": {},
   "source": [
    "Посмотрим на следующий псевдо-эксперимент:"
   ]
  },
  {
   "cell_type": "code",
   "execution_count": 71,
   "metadata": {},
   "outputs": [
    {
     "name": "stderr",
     "output_type": "stream",
     "text": [
      "\u001b[34m\u001b[1mwandb\u001b[0m: \u001b[33mWARNING\u001b[0m Calling wandb.login() after wandb.init() has no effect.\n"
     ]
    },
    {
     "data": {
      "text/html": [
       "<br/>Waiting for W&B process to finish, PID 36770<br/>Program ended successfully."
      ],
      "text/plain": [
       "<IPython.core.display.HTML object>"
      ]
     },
     "metadata": {},
     "output_type": "display_data"
    },
    {
     "data": {
      "application/vnd.jupyter.widget-view+json": {
       "model_id": "",
       "version_major": 2,
       "version_minor": 0
      },
      "text/plain": [
       "VBox(children=(Label(value=' 0.00MB of 0.00MB uploaded (0.00MB deduped)\\r'), FloatProgress(value=1.0, max=1.0)…"
      ]
     },
     "metadata": {},
     "output_type": "display_data"
    },
    {
     "data": {
      "text/html": [
       "Find user logs for this run at: <code>wandb/run-20201022_112155-15ipzdrj/logs/debug.log</code>"
      ],
      "text/plain": [
       "<IPython.core.display.HTML object>"
      ]
     },
     "metadata": {},
     "output_type": "display_data"
    },
    {
     "data": {
      "text/html": [
       "Find internal logs for this run at: <code>wandb/run-20201022_112155-15ipzdrj/logs/debug-internal.log</code>"
      ],
      "text/plain": [
       "<IPython.core.display.HTML object>"
      ]
     },
     "metadata": {},
     "output_type": "display_data"
    },
    {
     "data": {
      "text/html": [
       "<h3>Run summary:</h3><br/><style>\n",
       "    table.wandb td:nth-child(1) { padding: 0 10px; text-align: right }\n",
       "    </style><table class=\"wandb\">\n",
       "<tr><td>acc</td><td>4.98073</td></tr><tr><td>loss</td><td>6.40512</td></tr><tr><td>_step</td><td>49</td></tr><tr><td>_runtime</td><td>1</td></tr><tr><td>_timestamp</td><td>1603354921</td></tr></table>"
      ],
      "text/plain": [
       "<IPython.core.display.HTML object>"
      ]
     },
     "metadata": {},
     "output_type": "display_data"
    },
    {
     "data": {
      "text/html": [
       "<h3>Run history:</h3><br/><style>\n",
       "    table.wandb td:nth-child(1) { padding: 0 10px; text-align: right }\n",
       "    </style><table class=\"wandb\">\n",
       "<tr><td>acc</td><td>▁▂▂▄▄▅▄▅▅▆▅▆▆▆▆▆▆▆▆▇▆▆▇▆▇▆▇▇▇█▆▇█▇▇█▇███</td></tr><tr><td>loss</td><td>█▆▅▄▅▅▄▄▃▄▃▄▃▄▃▂▃▂▃▃▃▂▂▃▂▃▂▃▂▁▃▁▂▂▁▁▂▂▂▁</td></tr><tr><td>_step</td><td>▁▁▁▁▂▂▂▂▂▃▃▃▃▃▃▄▄▄▄▄▅▅▅▅▅▅▆▆▆▆▆▆▇▇▇▇▇███</td></tr><tr><td>_runtime</td><td>▁▁▁▁▁▁▁▁▁▁▁▁▁▁▁▁▁▁▁▁▁▁▁▁▁▁▁▁▁▁▁▁▁▁▁▁▁▁▁▁</td></tr><tr><td>_timestamp</td><td>▁▁▁▁▁▁▁▁▁▁▁▁▁▁▁▁▁▁▁▁▁▁▁▁▁▁▁▁▁▁▁▁▁▁▁▁▁▁▁▁</td></tr></table><br/>"
      ],
      "text/plain": [
       "<IPython.core.display.HTML object>"
      ]
     },
     "metadata": {},
     "output_type": "display_data"
    },
    {
     "data": {
      "text/html": [
       "Synced 5 W&B file(s), 0 media file(s), 0 artifact file(s) and 0 other file(s)"
      ],
      "text/plain": [
       "<IPython.core.display.HTML object>"
      ]
     },
     "metadata": {},
     "output_type": "display_data"
    },
    {
     "data": {
      "text/html": [
       "\n",
       "                    <br/>Synced <strong style=\"color:#cdcd00\">tough-water-3</strong>: <a href=\"https://wandb.ai/tviskaron/test-drive/runs/15ipzdrj\" target=\"_blank\">https://wandb.ai/tviskaron/test-drive/runs/15ipzdrj</a><br/>\n",
       "                "
      ],
      "text/plain": [
       "<IPython.core.display.HTML object>"
      ]
     },
     "metadata": {},
     "output_type": "display_data"
    },
    {
     "data": {
      "text/html": [
       "\n",
       "                Tracking run with wandb version 0.10.7<br/>\n",
       "                Syncing run <strong style=\"color:#cdcd00\">silver-flower-4</strong> to <a href=\"https://wandb.ai\" target=\"_blank\">Weights & Biases</a> <a href=\"https://docs.wandb.com/integrations/jupyter.html\" target=\"_blank\">(Documentation)</a>.<br/>\n",
       "                Project page: <a href=\"https://wandb.ai/tviskaron/test-drive\" target=\"_blank\">https://wandb.ai/tviskaron/test-drive</a><br/>\n",
       "                Run page: <a href=\"https://wandb.ai/tviskaron/test-drive/runs/1gxmgyuh\" target=\"_blank\">https://wandb.ai/tviskaron/test-drive/runs/1gxmgyuh</a><br/>\n",
       "                Run data is saved locally in <code>wandb/run-20201022_112318-1gxmgyuh</code><br/><br/>\n",
       "            "
      ],
      "text/plain": [
       "<IPython.core.display.HTML object>"
      ]
     },
     "metadata": {},
     "output_type": "display_data"
    }
   ],
   "source": [
    "import math\n",
    "import random\n",
    "\n",
    "# Start a new run, tracking hyperparameters in config\n",
    "wandb.init(project=\"test-drive\", config={\n",
    "    \"learning_rate\": 0.01,\n",
    "    \"dropout\": 0.2,\n",
    "    \"architecture\": \"CNN\",\n",
    "    \"dataset\": \"CIFAR-100\",\n",
    "})\n",
    "config = wandb.config\n",
    "\n",
    "# Simulating a training or evaluation loop\n",
    "for x in range(50):\n",
    "    acc = math.log(1 + x + random.random()*config.learning_rate) + random.random() + config.dropout\n",
    "    loss = 10 - math.log(1 + x + random.random() + config.learning_rate*x) + random.random() + config.dropout\n",
    "    # Log metrics from your script to W&B\n",
    "    wandb.log({\"acc\":acc, \"loss\":loss})"
   ]
  },
  {
   "cell_type": "markdown",
   "metadata": {},
   "source": [
    "По ссылке выше можно смотреть результаты. Данные по одному проекту собираются вместе и их можно сравнивать. Запустите ячейку с этим экспериментов еще один раз и посмотрите, что произойдет."
   ]
  },
  {
   "cell_type": "markdown",
   "metadata": {},
   "source": [
    "Разберем еще несколько примеров:"
   ]
  },
  {
   "cell_type": "code",
   "execution_count": 75,
   "metadata": {},
   "outputs": [
    {
     "name": "stderr",
     "output_type": "stream",
     "text": [
      "\u001b[34m\u001b[1mwandb\u001b[0m: \u001b[33mWARNING\u001b[0m Calling wandb.login() after wandb.init() has no effect.\n"
     ]
    },
    {
     "data": {
      "text/html": [
       "<br/>Waiting for W&B process to finish, PID 40985<br/>Program ended successfully."
      ],
      "text/plain": [
       "<IPython.core.display.HTML object>"
      ]
     },
     "metadata": {},
     "output_type": "display_data"
    },
    {
     "data": {
      "application/vnd.jupyter.widget-view+json": {
       "model_id": "",
       "version_major": 2,
       "version_minor": 0
      },
      "text/plain": [
       "VBox(children=(Label(value=' 0.79MB of 0.79MB uploaded (0.00MB deduped)\\r'), FloatProgress(value=1.0, max=1.0)…"
      ]
     },
     "metadata": {},
     "output_type": "display_data"
    },
    {
     "data": {
      "text/html": [
       "Find user logs for this run at: <code>wandb/run-20201022_113132-30bffp8l/logs/debug.log</code>"
      ],
      "text/plain": [
       "<IPython.core.display.HTML object>"
      ]
     },
     "metadata": {},
     "output_type": "display_data"
    },
    {
     "data": {
      "text/html": [
       "Find internal logs for this run at: <code>wandb/run-20201022_113132-30bffp8l/logs/debug-internal.log</code>"
      ],
      "text/plain": [
       "<IPython.core.display.HTML object>"
      ]
     },
     "metadata": {},
     "output_type": "display_data"
    },
    {
     "data": {
      "text/html": [
       "<h3>Run summary:</h3><br/><style>\n",
       "    table.wandb td:nth-child(1) { padding: 0 10px; text-align: right }\n",
       "    </style><table class=\"wandb\">\n",
       "<tr><td>epoch</td><td>5</td></tr><tr><td>loss</td><td>0.11098</td></tr><tr><td>accuracy</td><td>0.96788</td></tr><tr><td>val_loss</td><td>0.09577</td></tr><tr><td>val_accuracy</td><td>0.9712</td></tr><tr><td>_step</td><td>5</td></tr><tr><td>_runtime</td><td>39</td></tr><tr><td>_timestamp</td><td>1603355536</td></tr><tr><td>best_val_loss</td><td>0.09577</td></tr><tr><td>best_epoch</td><td>5</td></tr></table>"
      ],
      "text/plain": [
       "<IPython.core.display.HTML object>"
      ]
     },
     "metadata": {},
     "output_type": "display_data"
    },
    {
     "data": {
      "text/html": [
       "<h3>Run history:</h3><br/><style>\n",
       "    table.wandb td:nth-child(1) { padding: 0 10px; text-align: right }\n",
       "    </style><table class=\"wandb\">\n",
       "<tr><td>epoch</td><td>▁▂▄▅▇█</td></tr><tr><td>loss</td><td>█▄▂▂▁▁</td></tr><tr><td>accuracy</td><td>▁▅▇▇██</td></tr><tr><td>val_loss</td><td>█▅▃▂▁▁</td></tr><tr><td>val_accuracy</td><td>▁▄▆▇██</td></tr><tr><td>_step</td><td>▁▂▄▅▇█</td></tr><tr><td>_runtime</td><td>▁▂▄▅▇█</td></tr><tr><td>_timestamp</td><td>▁▂▄▅▇█</td></tr></table><br/>"
      ],
      "text/plain": [
       "<IPython.core.display.HTML object>"
      ]
     },
     "metadata": {},
     "output_type": "display_data"
    },
    {
     "data": {
      "text/html": [
       "Synced 5 W&B file(s), 1 media file(s), 0 artifact file(s) and 1 other file(s)"
      ],
      "text/plain": [
       "<IPython.core.display.HTML object>"
      ]
     },
     "metadata": {},
     "output_type": "display_data"
    },
    {
     "data": {
      "text/html": [
       "\n",
       "                    <br/>Synced <strong style=\"color:#cdcd00\">clear-darkness-4</strong>: <a href=\"https://wandb.ai/tviskaron/intro-demo/runs/30bffp8l\" target=\"_blank\">https://wandb.ai/tviskaron/intro-demo/runs/30bffp8l</a><br/>\n",
       "                "
      ],
      "text/plain": [
       "<IPython.core.display.HTML object>"
      ]
     },
     "metadata": {},
     "output_type": "display_data"
    },
    {
     "data": {
      "text/html": [
       "\n",
       "                Tracking run with wandb version 0.10.7<br/>\n",
       "                Syncing run <strong style=\"color:#cdcd00\">exalted-sea-5</strong> to <a href=\"https://wandb.ai\" target=\"_blank\">Weights & Biases</a> <a href=\"https://docs.wandb.com/integrations/jupyter.html\" target=\"_blank\">(Documentation)</a>.<br/>\n",
       "                Project page: <a href=\"https://wandb.ai/tviskaron/intro-demo\" target=\"_blank\">https://wandb.ai/tviskaron/intro-demo</a><br/>\n",
       "                Run page: <a href=\"https://wandb.ai/tviskaron/intro-demo/runs/36v2v8um\" target=\"_blank\">https://wandb.ai/tviskaron/intro-demo/runs/36v2v8um</a><br/>\n",
       "                Run data is saved locally in <code>wandb/run-20201022_113259-36v2v8um</code><br/><br/>\n",
       "            "
      ],
      "text/plain": [
       "<IPython.core.display.HTML object>"
      ]
     },
     "metadata": {},
     "output_type": "display_data"
    },
    {
     "name": "stdout",
     "output_type": "stream",
     "text": [
      "Epoch 1/50\n",
      "1875/1875 [==============================] - 3s 1ms/step - loss: 0.6482 - accuracy: 0.8338 - val_loss: 0.3431 - val_accuracy: 0.9082\n",
      "Epoch 2/50\n",
      "1875/1875 [==============================] - 2s 1ms/step - loss: 0.3451 - accuracy: 0.9036 - val_loss: 0.2784 - val_accuracy: 0.9243\n",
      "Epoch 3/50\n",
      "1875/1875 [==============================] - 2s 1ms/step - loss: 0.2900 - accuracy: 0.9185 - val_loss: 0.2449 - val_accuracy: 0.9332\n",
      "Epoch 4/50\n",
      "1875/1875 [==============================] - 2s 1ms/step - loss: 0.2552 - accuracy: 0.9289 - val_loss: 0.2191 - val_accuracy: 0.9397\n",
      "Epoch 5/50\n",
      "1875/1875 [==============================] - 3s 1ms/step - loss: 0.2304 - accuracy: 0.9354 - val_loss: 0.2005 - val_accuracy: 0.9437\n",
      "Epoch 6/50\n",
      "1875/1875 [==============================] - 2s 1ms/step - loss: 0.2114 - accuracy: 0.9417 - val_loss: 0.1856 - val_accuracy: 0.9484\n",
      "Epoch 7/50\n",
      "1875/1875 [==============================] - 2s 1ms/step - loss: 0.1957 - accuracy: 0.9459 - val_loss: 0.1731 - val_accuracy: 0.9523\n",
      "Epoch 8/50\n",
      "1875/1875 [==============================] - 2s 1ms/step - loss: 0.1813 - accuracy: 0.9492 - val_loss: 0.1613 - val_accuracy: 0.9542\n",
      "Epoch 9/50\n",
      "1875/1875 [==============================] - 2s 1ms/step - loss: 0.1683 - accuracy: 0.9531 - val_loss: 0.1528 - val_accuracy: 0.9560\n",
      "Epoch 10/50\n",
      "1875/1875 [==============================] - 2s 1ms/step - loss: 0.1599 - accuracy: 0.9549 - val_loss: 0.1434 - val_accuracy: 0.9591\n",
      "Epoch 11/50\n",
      "1875/1875 [==============================] - 2s 1ms/step - loss: 0.1497 - accuracy: 0.9587 - val_loss: 0.1356 - val_accuracy: 0.9609\n",
      "Epoch 12/50\n",
      "1875/1875 [==============================] - 2s 1ms/step - loss: 0.1419 - accuracy: 0.9607 - val_loss: 0.1294 - val_accuracy: 0.9631\n",
      "Epoch 13/50\n",
      "1875/1875 [==============================] - 2s 1ms/step - loss: 0.1338 - accuracy: 0.9626 - val_loss: 0.1246 - val_accuracy: 0.9635\n",
      "Epoch 14/50\n",
      "1875/1875 [==============================] - 3s 1ms/step - loss: 0.1288 - accuracy: 0.9644 - val_loss: 0.1193 - val_accuracy: 0.9649\n",
      "Epoch 15/50\n",
      "1875/1875 [==============================] - 2s 1ms/step - loss: 0.1230 - accuracy: 0.9652 - val_loss: 0.1150 - val_accuracy: 0.9665\n",
      "Epoch 16/50\n",
      "1875/1875 [==============================] - 2s 1ms/step - loss: 0.1179 - accuracy: 0.9673 - val_loss: 0.1107 - val_accuracy: 0.9674\n",
      "Epoch 17/50\n",
      "1875/1875 [==============================] - 2s 1ms/step - loss: 0.1139 - accuracy: 0.9688 - val_loss: 0.1084 - val_accuracy: 0.9678\n",
      "Epoch 18/50\n",
      "1875/1875 [==============================] - 3s 1ms/step - loss: 0.1086 - accuracy: 0.9694 - val_loss: 0.1044 - val_accuracy: 0.9695\n",
      "Epoch 19/50\n",
      "1875/1875 [==============================] - 2s 1ms/step - loss: 0.1052 - accuracy: 0.9708 - val_loss: 0.1016 - val_accuracy: 0.9707\n",
      "Epoch 20/50\n",
      "1875/1875 [==============================] - 2s 1ms/step - loss: 0.1011 - accuracy: 0.9719 - val_loss: 0.0991 - val_accuracy: 0.9711\n",
      "Epoch 21/50\n",
      "1875/1875 [==============================] - 2s 1ms/step - loss: 0.0966 - accuracy: 0.9730 - val_loss: 0.0971 - val_accuracy: 0.9716\n",
      "Epoch 22/50\n",
      "1875/1875 [==============================] - 2s 1ms/step - loss: 0.0942 - accuracy: 0.9743 - val_loss: 0.0947 - val_accuracy: 0.9727\n",
      "Epoch 23/50\n",
      "1875/1875 [==============================] - 3s 1ms/step - loss: 0.0915 - accuracy: 0.9748 - val_loss: 0.0923 - val_accuracy: 0.9725\n",
      "Epoch 24/50\n",
      "1875/1875 [==============================] - 2s 1ms/step - loss: 0.0885 - accuracy: 0.9754 - val_loss: 0.0902 - val_accuracy: 0.9740\n",
      "Epoch 25/50\n",
      "1875/1875 [==============================] - 2s 1ms/step - loss: 0.0858 - accuracy: 0.9759 - val_loss: 0.0887 - val_accuracy: 0.9744\n",
      "Epoch 26/50\n",
      "1875/1875 [==============================] - 2s 1ms/step - loss: 0.0835 - accuracy: 0.9767 - val_loss: 0.0867 - val_accuracy: 0.9743\n",
      "Epoch 27/50\n",
      "1875/1875 [==============================] - 2s 1ms/step - loss: 0.0821 - accuracy: 0.9770 - val_loss: 0.0852 - val_accuracy: 0.9759\n",
      "Epoch 28/50\n",
      "1875/1875 [==============================] - 2s 1ms/step - loss: 0.0790 - accuracy: 0.9785 - val_loss: 0.0842 - val_accuracy: 0.9753\n",
      "Epoch 29/50\n",
      "1875/1875 [==============================] - 2s 1ms/step - loss: 0.0772 - accuracy: 0.9792 - val_loss: 0.0819 - val_accuracy: 0.9761\n",
      "Epoch 30/50\n",
      "1875/1875 [==============================] - 2s 1ms/step - loss: 0.0746 - accuracy: 0.9792 - val_loss: 0.0812 - val_accuracy: 0.9764\n",
      "Epoch 31/50\n",
      "1875/1875 [==============================] - 2s 1ms/step - loss: 0.0740 - accuracy: 0.9795 - val_loss: 0.0798 - val_accuracy: 0.9775\n",
      "Epoch 32/50\n",
      "1875/1875 [==============================] - 2s 1ms/step - loss: 0.0709 - accuracy: 0.9801 - val_loss: 0.0793 - val_accuracy: 0.9768\n",
      "Epoch 33/50\n",
      "1875/1875 [==============================] - 2s 1ms/step - loss: 0.0698 - accuracy: 0.9809 - val_loss: 0.0781 - val_accuracy: 0.9770\n",
      "Epoch 34/50\n",
      "1875/1875 [==============================] - 2s 1ms/step - loss: 0.0680 - accuracy: 0.9814 - val_loss: 0.0768 - val_accuracy: 0.9779\n",
      "Epoch 35/50\n",
      "1875/1875 [==============================] - 2s 1ms/step - loss: 0.0659 - accuracy: 0.9817 - val_loss: 0.0763 - val_accuracy: 0.9773\n",
      "Epoch 36/50\n",
      "1875/1875 [==============================] - 2s 1ms/step - loss: 0.0649 - accuracy: 0.9819 - val_loss: 0.0758 - val_accuracy: 0.9772\n",
      "Epoch 37/50\n",
      "1875/1875 [==============================] - 2s 1ms/step - loss: 0.0625 - accuracy: 0.9834 - val_loss: 0.0745 - val_accuracy: 0.9776\n",
      "Epoch 38/50\n",
      "1875/1875 [==============================] - 2s 1ms/step - loss: 0.0615 - accuracy: 0.9831 - val_loss: 0.0735 - val_accuracy: 0.9786\n",
      "Epoch 39/50\n",
      "1875/1875 [==============================] - 2s 1ms/step - loss: 0.0607 - accuracy: 0.9831 - val_loss: 0.0735 - val_accuracy: 0.9784\n",
      "Epoch 40/50\n",
      "1875/1875 [==============================] - 2s 1ms/step - loss: 0.0582 - accuracy: 0.9847 - val_loss: 0.0725 - val_accuracy: 0.9786\n",
      "Epoch 41/50\n",
      "1875/1875 [==============================] - 2s 1ms/step - loss: 0.0577 - accuracy: 0.9843 - val_loss: 0.0719 - val_accuracy: 0.9789\n",
      "Epoch 42/50\n",
      "1875/1875 [==============================] - 3s 1ms/step - loss: 0.0570 - accuracy: 0.9844 - val_loss: 0.0713 - val_accuracy: 0.9788\n",
      "Epoch 43/50\n",
      "1875/1875 [==============================] - 2s 1ms/step - loss: 0.0557 - accuracy: 0.9848 - val_loss: 0.0697 - val_accuracy: 0.9788\n",
      "Epoch 44/50\n",
      "1875/1875 [==============================] - 2s 1ms/step - loss: 0.0546 - accuracy: 0.9846 - val_loss: 0.0695 - val_accuracy: 0.9794\n",
      "Epoch 45/50\n",
      "1875/1875 [==============================] - 2s 1ms/step - loss: 0.0536 - accuracy: 0.9858 - val_loss: 0.0692 - val_accuracy: 0.9790\n",
      "Epoch 46/50\n",
      "1875/1875 [==============================] - 2s 1ms/step - loss: 0.0533 - accuracy: 0.9855 - val_loss: 0.0685 - val_accuracy: 0.9794\n",
      "Epoch 47/50\n",
      "1875/1875 [==============================] - 2s 1ms/step - loss: 0.0516 - accuracy: 0.9862 - val_loss: 0.0679 - val_accuracy: 0.9796\n",
      "Epoch 48/50\n",
      "1875/1875 [==============================] - 2s 1ms/step - loss: 0.0501 - accuracy: 0.9862 - val_loss: 0.0678 - val_accuracy: 0.9797\n",
      "Epoch 49/50\n",
      "1875/1875 [==============================] - 2s 1ms/step - loss: 0.0495 - accuracy: 0.9864 - val_loss: 0.0671 - val_accuracy: 0.9802\n",
      "Epoch 50/50\n",
      "1875/1875 [==============================] - 2s 1ms/step - loss: 0.0483 - accuracy: 0.9868 - val_loss: 0.0670 - val_accuracy: 0.9801\n"
     ]
    }
   ],
   "source": [
    "# Simple Keras Model\n",
    "\n",
    "import tensorflow as tf\n",
    "from tensorflow.keras.callbacks import Callback\n",
    "from wandb.keras import WandbCallback\n",
    "\n",
    "# Set an experiment name to group training and evaluation\n",
    "experiment_name = wandb.util.generate_id()\n",
    "\n",
    "# Start a run, tracking hyperparameters\n",
    "wandb.init(\n",
    "  project=\"intro-demo\",\n",
    "  group=experiment_name,\n",
    "  config={\n",
    "    \"layer_1\": 512,\n",
    "    \"activation_1\": \"relu\",\n",
    "    \"dropout\": 0.2,\n",
    "    \"layer_2\": 10,\n",
    "    \"activation_2\": \"softmax\",\n",
    "    \"optimizer\": \"sgd\",\n",
    "    \"loss\": \"sparse_categorical_crossentropy\",\n",
    "    \"metric\": \"accuracy\",\n",
    "    \"epoch\": 50,\n",
    "    \"batch_size\": 32\n",
    "  })\n",
    "config = wandb.config\n",
    "\n",
    "# Get the data\n",
    "mnist = tf.keras.datasets.mnist\n",
    "(x_train, y_train), (x_test, y_test) = mnist.load_data()\n",
    "x_train, x_test = x_train / 255.0, x_test / 255.0\n",
    "\n",
    "# Build a model\n",
    "model = tf.keras.models.Sequential([\n",
    "    tf.keras.layers.Flatten(input_shape=(28, 28)),\n",
    "    tf.keras.layers.Dense(config.layer_1, activation=config.activation_1),\n",
    "    tf.keras.layers.Dropout(config.dropout),\n",
    "    tf.keras.layers.Dense(config.layer_2, activation=config.activation_2)\n",
    "])\n",
    "model.compile(optimizer=config.optimizer,\n",
    "              loss=config.loss,\n",
    "              metrics=[config.metric]\n",
    "              )\n",
    "\n",
    "history = model.fit(x=x_train,\n",
    "                    y=y_train,\n",
    "                    epochs=config.epoch,\n",
    "                    batch_size=config.batch_size,\n",
    "                    validation_data=(x_test, y_test),\n",
    "                    # Use the WandbCallback to automatically save all the metrics tracked in model.fit() to your dashboard\n",
    "                    callbacks=[WandbCallback()])"
   ]
  },
  {
   "cell_type": "markdown",
   "metadata": {},
   "source": [
    "Можем дополнительно поработать с результатами локально и сохранить их в wandb:"
   ]
  },
  {
   "cell_type": "code",
   "execution_count": 76,
   "metadata": {},
   "outputs": [
    {
     "name": "stderr",
     "output_type": "stream",
     "text": [
      "\u001b[34m\u001b[1mwandb\u001b[0m: \u001b[33mWARNING\u001b[0m Calling wandb.login() after wandb.init() has no effect.\n"
     ]
    },
    {
     "data": {
      "text/html": [
       "<br/>Waiting for W&B process to finish, PID 41687<br/>Program ended successfully."
      ],
      "text/plain": [
       "<IPython.core.display.HTML object>"
      ]
     },
     "metadata": {},
     "output_type": "display_data"
    },
    {
     "data": {
      "application/vnd.jupyter.widget-view+json": {
       "model_id": "",
       "version_major": 2,
       "version_minor": 0
      },
      "text/plain": [
       "VBox(children=(Label(value=' 1.57MB of 1.57MB uploaded (0.00MB deduped)\\r'), FloatProgress(value=1.0, max=1.0)…"
      ]
     },
     "metadata": {},
     "output_type": "display_data"
    },
    {
     "data": {
      "text/html": [
       "Find user logs for this run at: <code>wandb/run-20201022_113259-36v2v8um/logs/debug.log</code>"
      ],
      "text/plain": [
       "<IPython.core.display.HTML object>"
      ]
     },
     "metadata": {},
     "output_type": "display_data"
    },
    {
     "data": {
      "text/html": [
       "Find internal logs for this run at: <code>wandb/run-20201022_113259-36v2v8um/logs/debug-internal.log</code>"
      ],
      "text/plain": [
       "<IPython.core.display.HTML object>"
      ]
     },
     "metadata": {},
     "output_type": "display_data"
    },
    {
     "data": {
      "text/html": [
       "<h3>Run summary:</h3><br/><style>\n",
       "    table.wandb td:nth-child(1) { padding: 0 10px; text-align: right }\n",
       "    </style><table class=\"wandb\">\n",
       "<tr><td>epoch</td><td>49</td></tr><tr><td>loss</td><td>0.04829</td></tr><tr><td>accuracy</td><td>0.98683</td></tr><tr><td>val_loss</td><td>0.06702</td></tr><tr><td>val_accuracy</td><td>0.9801</td></tr><tr><td>_step</td><td>49</td></tr><tr><td>_runtime</td><td>122</td></tr><tr><td>_timestamp</td><td>1603355704</td></tr><tr><td>best_val_loss</td><td>0.06702</td></tr><tr><td>best_epoch</td><td>49</td></tr></table>"
      ],
      "text/plain": [
       "<IPython.core.display.HTML object>"
      ]
     },
     "metadata": {},
     "output_type": "display_data"
    },
    {
     "data": {
      "text/html": [
       "<h3>Run history:</h3><br/><style>\n",
       "    table.wandb td:nth-child(1) { padding: 0 10px; text-align: right }\n",
       "    </style><table class=\"wandb\">\n",
       "<tr><td>epoch</td><td>▁▁▁▁▂▂▂▂▂▃▃▃▃▃▃▄▄▄▄▄▅▅▅▅▅▅▆▆▆▆▆▆▇▇▇▇▇███</td></tr><tr><td>loss</td><td>█▄▄▃▃▃▃▂▂▂▂▂▂▂▂▂▂▂▂▁▁▁▁▁▁▁▁▁▁▁▁▁▁▁▁▁▁▁▁▁</td></tr><tr><td>accuracy</td><td>▁▄▅▅▆▆▆▆▇▇▇▇▇▇▇▇▇▇▇▇████████████████████</td></tr><tr><td>val_loss</td><td>█▆▆▅▄▄▃▃▃▃▂▂▂▂▂▂▂▂▂▂▁▁▁▁▁▁▁▁▁▁▁▁▁▁▁▁▁▁▁▁</td></tr><tr><td>val_accuracy</td><td>▁▃▃▄▅▅▅▆▆▆▆▇▇▇▇▇▇▇▇▇▇███████████████████</td></tr><tr><td>_step</td><td>▁▁▁▁▂▂▂▂▂▃▃▃▃▃▃▄▄▄▄▄▅▅▅▅▅▅▆▆▆▆▆▆▇▇▇▇▇███</td></tr><tr><td>_runtime</td><td>▁▁▁▁▂▂▂▂▂▃▃▃▃▃▃▄▄▄▄▄▅▅▅▅▅▅▆▆▆▆▆▆▇▇▇▇▇███</td></tr><tr><td>_timestamp</td><td>▁▁▁▁▂▂▂▂▂▃▃▃▃▃▃▄▄▄▄▄▅▅▅▅▅▅▆▆▆▆▆▆▇▇▇▇▇███</td></tr></table><br/>"
      ],
      "text/plain": [
       "<IPython.core.display.HTML object>"
      ]
     },
     "metadata": {},
     "output_type": "display_data"
    },
    {
     "data": {
      "text/html": [
       "Synced 5 W&B file(s), 1 media file(s), 0 artifact file(s) and 1 other file(s)"
      ],
      "text/plain": [
       "<IPython.core.display.HTML object>"
      ]
     },
     "metadata": {},
     "output_type": "display_data"
    },
    {
     "data": {
      "text/html": [
       "\n",
       "                    <br/>Synced <strong style=\"color:#cdcd00\">exalted-sea-5</strong>: <a href=\"https://wandb.ai/tviskaron/intro-demo/runs/36v2v8um\" target=\"_blank\">https://wandb.ai/tviskaron/intro-demo/runs/36v2v8um</a><br/>\n",
       "                "
      ],
      "text/plain": [
       "<IPython.core.display.HTML object>"
      ]
     },
     "metadata": {},
     "output_type": "display_data"
    },
    {
     "data": {
      "text/html": [
       "\n",
       "                Tracking run with wandb version 0.10.7<br/>\n",
       "                Syncing run <strong style=\"color:#cdcd00\">clear-feather-6</strong> to <a href=\"https://wandb.ai\" target=\"_blank\">Weights & Biases</a> <a href=\"https://docs.wandb.com/integrations/jupyter.html\" target=\"_blank\">(Documentation)</a>.<br/>\n",
       "                Project page: <a href=\"https://wandb.ai/tviskaron/intro-demo\" target=\"_blank\">https://wandb.ai/tviskaron/intro-demo</a><br/>\n",
       "                Run page: <a href=\"https://wandb.ai/tviskaron/intro-demo/runs/3ndc9a6x\" target=\"_blank\">https://wandb.ai/tviskaron/intro-demo/runs/3ndc9a6x</a><br/>\n",
       "                Run data is saved locally in <code>wandb/run-20201022_113814-3ndc9a6x</code><br/><br/>\n",
       "            "
      ],
      "text/plain": [
       "<IPython.core.display.HTML object>"
      ]
     },
     "metadata": {},
     "output_type": "display_data"
    },
    {
     "data": {
      "image/png": "[encoded data removed]",
      "text/plain": [
       "<Figure size 1152x864 with 2 Axes>"
      ]
     },
     "metadata": {
      "needs_background": "light"
     },
     "output_type": "display_data"
    },
    {
     "data": {
      "image/png": "[encoded data removed]",
      "text/plain": [
       "<Figure size 1152x864 with 1 Axes>"
      ]
     },
     "metadata": {
      "needs_background": "light"
     },
     "output_type": "display_data"
    }
   ],
   "source": [
    "!pip install scikit-plot -qqq\n",
    "\n",
    "import numpy as np\n",
    "from sklearn.metrics import f1_score\n",
    "import matplotlib.pyplot as plt\n",
    "from scikitplot.metrics import plot_confusion_matrix, plot_roc\n",
    "\n",
    "wandb.init(project=\"intro-demo\", group=experiment_name)\n",
    "\n",
    "# Log F1 Score\n",
    "y_test_pred = np.asarray(model.predict(x_test))\n",
    "y_test_pred_class = np.argmax(y_test_pred, axis=1)\n",
    "f1 = f1_score(y_test, y_test_pred_class, average='micro')\n",
    "wandb.log({\"f1\": f1}, commit=False)\n",
    "\n",
    "# Log Confusion Matrix\n",
    "fig, ax = plt.subplots(figsize=(16, 12))\n",
    "plot_confusion_matrix(y_test, y_test_pred_class, ax=ax)\n",
    "wandb.log({\"confusion_matrix\": wandb.Image(fig)}, commit=False)\n",
    "\n",
    "# Log ROC Curve\n",
    "fig, ax = plt.subplots(figsize=(16, 12))\n",
    "plot_roc(y_test, y_test_pred, ax=ax)\n",
    "wandb.log({\"plot_roc\": wandb.Image(fig)}, commit=True)\n",
    "\n",
    "class_score_data = []\n",
    "for test, pred in zip(y_test, y_test_pred):\n",
    "      class_score_data.append([test, pred])\n",
    "wandb.log({\"class_scores\": wandb.Table(data=class_score_data,\n",
    "                                           columns=[\"test\", \"pred\"])})"
   ]
  },
  {
   "cell_type": "markdown",
   "metadata": {},
   "source": [
    "### Лучшие практики:\n",
    "\n",
    "\n",
    "Projects: Логируйте несколько запусков в один проект, чтобы затем сравнить их. ```wandb.init(project=\"project-name\")```\n",
    "\n",
    "Groups: Используйте группы, для группировки нескольки процессов одного эксперимента. ```wandb.init(group='experiment-1')```\n",
    "\n",
    "Tags: Используйте тэги для индикации лучшей модели или текущего бейслайна.\n",
    "\n",
    "Notes: Записывайте дополнительные комментарий к каждому запуску. \n",
    "\n",
    "Reports: Создавайте отчеты по группам экспериментов. \n"
   ]
  },
  {
   "cell_type": "markdown",
   "metadata": {},
   "source": [
    "### Дополнительные возможности:\n",
    "\n",
    "1. Определение [переменных окружения](https://docs.wandb.com/library/environment-variables) (Environment variables). \n",
    "\n",
    "2. [Offline mode](https://docs.wandb.com/library/technical-faq#can-i-run-wandb-offline): Используйте `dryrun` режим, для тренировки офлайн, а синхронизацию можно будет сделать позже.\n",
    "\n",
    "3. [Sweeps](https://docs.wandb.com/sweeps): Позволяют подбирать гиперпараметры просто и быстро.\n",
    "\n",
    "5. [Artifacts](https://docs.wandb.com/artifacts): Позволяет контролить версии моделей и датасетов.\n",
    "\n",
    "На этом возможности не ограничиваются. Примеры можно найти в галерее: https://wandb.ai/gallery. "
   ]
  },
  {
   "cell_type": "markdown",
   "metadata": {},
   "source": [
    "### Задание 1: Зарегистрируйтесь в wandb. Запустите один из экспериментов выше. Добавьте дополнительные переменные. Постройте графики к ним. Создайте отчет. "
   ]
  },
  {
   "cell_type": "code",
   "execution_count": null,
   "metadata": {},
   "outputs": [],
   "source": []
  },
  {
   "cell_type": "markdown",
   "metadata": {},
   "source": [
    "### Задание 2*: Запустите Sweeps для подбора гиперпараметров."
   ]
  },
  {
   "cell_type": "code",
   "execution_count": null,
   "metadata": {},
   "outputs": [],
   "source": []
  }
 ],
 "metadata": {
  "colab": {
   "collapsed_sections": [],
   "name": "colab-tutorial.ipynb",
   "provenance": []
  },
  "kernelspec": {
   "display_name": "Python 3",
   "language": "python",
   "name": "python3"
  },
  "language_info": {
   "codemirror_mode": {
    "name": "ipython",
    "version": 3
   },
   "file_extension": ".py",
   "mimetype": "text/x-python",
   "name": "python",
   "nbconvert_exporter": "python",
   "pygments_lexer": "ipython3",
   "version": "3.8.5"
  }
 },
 "nbformat": 4,
 "nbformat_minor": 1
}
