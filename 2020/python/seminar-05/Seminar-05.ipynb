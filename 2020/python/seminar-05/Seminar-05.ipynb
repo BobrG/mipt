{
 "cells": [
  {
   "cell_type": "markdown",
   "metadata": {
    "colab_type": "text",
    "id": "dzNng6vCL9eP"
   },
   "source": [
    "# МФТИ: МТИИ 2020 Python. \n",
    "## Семинар 5: Python 3.9. Type Annotation. [MynkeyType. ArgParse. Packaging. Numpy HW]. "
   ]
  },
  {
   "cell_type": "markdown",
   "metadata": {},
   "source": [
    "## Python 3.9\n",
    "\n",
    "- Dictionary Unions and Update with Iterables\n",
    "- String methods\n",
    "- Type hinting\n",
    "- New math Functions\n",
    "- New parser\n",
    "- IPv6 Scoped Addresses\n",
    "- New Module: Zoneinfo\n",
    "- Other Language Changes"
   ]
  },
  {
   "cell_type": "markdown",
   "metadata": {},
   "source": [
    "### Объединение словарей (Dictionary Unions)\n",
    "\n",
    "Если у вас есть два словаря a и b, объединить их можно, используя новый оператор ```|```:\n",
    "\n",
    "```python\n",
    "\n",
    ">>> a = {1: 'a', 2: 'b', 3: 'c'}\n",
    ">>> b = {4: 'd', 5: 'e'}\n",
    ">>> c = a | b\n",
    ">>> print(c)\n",
    "\n",
    "{1: 'a', 2: 'b', 3: 'c', 4: 'd', 5: 'e'}\n",
    "```\n",
    "\n",
    "Как мы делали это раньше?"
   ]
  },
  {
   "cell_type": "code",
   "execution_count": 23,
   "metadata": {},
   "outputs": [
    {
     "name": "stdout",
     "output_type": "stream",
     "text": [
      "{1: 'a', 2: 'b', 3: 'c', 4: 'd', 5: 'e'}\n"
     ]
    }
   ],
   "source": [
    "a = {1: 'a', 2: 'b', 3: 'c'}\n",
    "b = {4: 'd', 5: 'e'}\n",
    "c = {}\n",
    "c.update(a)\n",
    "c.update(b)\n",
    "print(c)"
   ]
  },
  {
   "cell_type": "code",
   "execution_count": 24,
   "metadata": {},
   "outputs": [
    {
     "name": "stdout",
     "output_type": "stream",
     "text": [
      "{1: 'a', 2: 'b', 3: 'c', 4: 'd', 5: 'e'}\n"
     ]
    }
   ],
   "source": [
    "a = {1: 'a', 2: 'b', 3: 'c'}\n",
    "b = {4: 'd', 5: 'e'}\n",
    "c = {**a, **b}\n",
    "print(c)"
   ]
  },
  {
   "cell_type": "markdown",
   "metadata": {},
   "source": [
    "Если у словарей есть общий ключ, то будет испольновано значение второго словаря:\n",
    "\n",
    "``` python\n",
    ">>> a = {1: 'a', 2: 'b', 3: 'c', 6: 'in both'}\n",
    ">>> b = {4: 'd', 5: 'e', 6: 'but different'}\n",
    ">>> print(a | b)\n",
    "\n",
    "{1: 'a', 2: 'b', 3: 'c', 6: 'but different', 4: 'd', 5: 'e'}\n",
    "```\n",
    "\n",
    "``` python\n",
    ">>> a = {1: 'a', 2: 'b', 3: 'c', 6: 'in both'}\n",
    ">>> b = {4: 'd', 5: 'e', 6: 'but different'}\n",
    ">>> a |= b\n",
    ">>> print(a)\n",
    "\n",
    "{1: 'a', 2: 'b', 3: 'c', 6: 'but different', 4: 'd', 5: 'e'}\n",
    "```"
   ]
  },
  {
   "cell_type": "markdown",
   "metadata": {},
   "source": [
    "### Еще больше обновления словарей (Dictionary Update with Iterables)\n",
    "\n",
    "Используя оператор ```|=``` мы можем обновить словарь парами ключи/значение, используя список или генератор:\n",
    "\n",
    "``` python\n",
    ">>> a = {'a': 'one', 'b': 'two'}\n",
    ">>> b = ((i, i**2) for i in range(3))\n",
    ">>> a |= b\n",
    ">>> print(a)\n",
    "\n",
    "{'a': 'one', 'b': 'two', 0: 0, 1: 1, 2: 4}\n",
    "```\n",
    "\n",
    "Если мы попробуем сделать это оператором ```|```, то получим ```TypeError```."
   ]
  },
  {
   "cell_type": "markdown",
   "metadata": {},
   "source": [
    "## Новые методы для строк (String methods)\n",
    "\n",
    "Появились функции для удаления заданного префикса и суффикса. Если подстрока не найдена - возвращает оригинальную строку.\n",
    "\n",
    "```python \n",
    "str.removeprefix(substring: str)\n",
    "str.removesuffix(substring: str)\n",
    "```"
   ]
  },
  {
   "cell_type": "markdown",
   "metadata": {},
   "source": [
    "### Type hinting\n",
    "\n",
    "Python имеет динамическую типизацию, это означает, что нам не нужно указывать типы данных в нашем коде.\n",
    "Но иногда это может сбивать с толку!\n",
    "\n",
    "Для статического выделения типов данных используется type annotation. Это было введено в Python 3.5, но до сих пор это выглядело довольно громоздко, т.к. нам приходилось импортировать нужные нам типы: ```import typing.List```. \n",
    "\n",
    "Теперь аннотация прекрасно работает со встроенными типами: \n",
    "\n",
    "```python \n",
    "def greet_all(names: list[str]) -> None:\n",
    "    for name in names:\n",
    "        print(\"Hello\", name)\n",
    "```\n",
    "\n",
    "Старый вариант:\n",
    "```python \n",
    "from typing import List\n",
    "\n",
    "def greet_all(names: List[str]) -> None:\n",
    "    for name in names:\n",
    "        print(\"Hello\", name)\n",
    "```"
   ]
  },
  {
   "cell_type": "markdown",
   "metadata": {},
   "source": [
    "### Новые функции в модуле ```math``` (New math Functions)\n",
    "\n",
    "В модуль ```math``` были добавлены новые функции и улучшены старые.\n",
    "\n",
    "#### Greatest common divisor\n",
    "\n",
    "``` python\n",
    ">>> import math\n",
    "\n",
    ">>> print(math.gcd(80, 64, 152))\n",
    "\n",
    "8\n",
    "```\n",
    "\n",
    "До этого ```gcd``` работала только с двумя аргументами.\n",
    "Старый вариант:\n",
    "``` python\n",
    ">>> import math\n",
    "\n",
    ">>> print(math.gcd(math.gcd(80, 64), 152))\n",
    "\n",
    "8\n",
    "```\n",
    "\n",
    "\n",
    "\n",
    "#### Least common multiple\n",
    "\n",
    "```python \n",
    ">>> math.lcm(4, 8, 5)\n",
    "\n",
    "40\n",
    "```"
   ]
  },
  {
   "cell_type": "markdown",
   "metadata": {},
   "source": [
    "### Новый парсер (New parser)\n",
    "\n",
    "Самое незаметное для нас измненение, которое потенциально может стать одним из самых значительных в дальнешем.\n",
    "\n",
    "Python 3.9 использует новый синтаксический анализатор, основанный на PEG. Раньше Python использовал LL(1). PEG более гибкий, чем LL(1), когда дело доходит до создания новых функций в языке. В официальной документации говорится, что мы заметим это начиная с версии Python 3.10."
   ]
  },
  {
   "cell_type": "markdown",
   "metadata": {},
   "source": [
    "### IPv6 Scoped Addresses\n",
    "\n",
    "Еще одно изменение, внесенное в Python 3.9, - это возможность указывать область адресов IPv6. Области IPv6 используются, чтобы указать, в какой части Интернета будет действителен соответствующий IP-адрес.\n",
    "\n",
    "```python\n",
    "from ipaddress import IPv6Address\n",
    "addr = IPv6Address('ff02::fa51%1')\n",
    "print(addr.scope_id)\n",
    "\n",
    "1\n",
    "```\n",
    "\n",
    "Теперь два адреса будут различаться при сравнении, если у них разные области."
   ]
  },
  {
   "cell_type": "markdown",
   "metadata": {},
   "source": [
    "### Новый модуль (New module) \n",
    "\n",
    "#### Zoneinfo\n",
    "\n",
    "Модуль ```zoneinfo``` обеспечивает поддержку базы данных часовых поясов IANA в стандартной библиотеке. \n",
    "\n",
    "```python\n",
    "\n",
    ">>> from zoneinfo import ZoneInfo\n",
    ">>> from datetime import datetime, timedelta\n",
    "\n",
    ">>> dt = datetime(2020, 10, 31, 12, tzinfo=ZoneInfo(\"America/Los_Angeles\"))\n",
    ">>> print(dt)\n",
    "2020-10-31 12:00:00-07:00\n",
    "\n",
    ">>> dt.tzname()\n",
    "'PDT'\n",
    "```\n",
    "\n",
    "\n",
    "Созданные таким образом даты совместимы, позволяют применять к ним все базовые операции и обрабатывают переходы на летнее время без дополнительного вмешательства:\n",
    "<br>\n",
    "\n",
    "\n",
    "```python\n",
    ">>> dt_add = dt + timedelta(days=1)\n",
    "\n",
    ">>> print(dt_add)\n",
    "2020-11-01 12:00:00-08:00\n",
    "\n",
    ">>> dt_add.tzname()\n",
    "'PST'\n",
    "```\n",
    "\n",
    "[Ссыкла на документацию](https://docs.python.org/3/library/zoneinfo.html)"
   ]
  },
  {
   "cell_type": "markdown",
   "metadata": {},
   "source": [
    "### Другие изменения:\n",
    "\n",
    "1. \n",
    "```python\n",
    "\"\".replace(\"\", s, n)```\n",
    "теперь возвращет ```s``` вместо пустой последоватлеьности, для ненулевых ```n```.\n",
    "\n",
    "2. \n",
    "Теперь ```__import__() ``` выдает ```ImportError``` вместо ```ValueError``` :)\n",
    "\n",
    "3. Python стал работать быстрее, благодаря использованию [vectorcall protocol](https://www.python.org/dev/peps/pep-0590/)."
   ]
  },
  {
   "cell_type": "markdown",
   "metadata": {},
   "source": [
    "## Аннотация типов (Type Annotation)\n",
    "\n",
    "Аннотации типов просто считываются интерпретатором Python и никак более не обрабатываются, если мы импортируем сторонний аннотированный код, то на нас это никак не повлияет. В первую очередь аннотация типов рассчитана на работу со статическими аналазаторами. \n",
    "\n",
    "\n",
    "В самом простом случае аннотацией содержит ожидамеый тип:\n",
    "\n",
    "```python\n",
    "name: str = Petya```\n",
    "\n",
    "Можем ли мы получить какую-то ошибку с аннотацией типов после фазы статистического анализа, при выполнении кода?\n",
    "\n",
    "\n",
    "\n"
   ]
  },
  {
   "cell_type": "code",
   "execution_count": 6,
   "metadata": {},
   "outputs": [
    {
     "name": "stdout",
     "output_type": "stream",
     "text": [
      "100$\n"
     ]
    }
   ],
   "source": [
    "price: int \n",
    "price = '100$' # Incompatible types in assignment (только при стат. анализе!)\n",
    "\n",
    "print(price)"
   ]
  },
  {
   "cell_type": "markdown",
   "metadata": {},
   "source": [
    "Мы можем аннотировать и параметры функции:\n",
    "\n",
    "```python\n",
    "    def render_text_block(self, line: str) -> str:\n",
    "        ...\n",
    "```"
   ]
  },
  {
   "cell_type": "markdown",
   "metadata": {},
   "source": [
    "### Optional\n",
    "Если вы пемечаете переменную типов ```int``` и пытаетесь присвоить ей ```None```, будет ошибка ```Incompatible types```. Для таких случаем в модуле typing предусмотрен тип ```Optional``` (именно для возможности ```None```). \n"
   ]
  },
  {
   "cell_type": "code",
   "execution_count": 25,
   "metadata": {},
   "outputs": [
    {
     "name": "stdout",
     "output_type": "stream",
     "text": [
      "False\n",
      "False\n"
     ]
    }
   ],
   "source": [
    "from typing import Optional\n",
    "\n",
    "def check_price(price: Optional[int] = None) -> bool:\n",
    "    if price is None:\n",
    "        return False\n",
    "    else: \n",
    "        return price > 0\n",
    "\n",
    "print(check_price())\n",
    "print(check_price(-1))"
   ]
  },
  {
   "cell_type": "markdown",
   "metadata": {},
   "source": [
    "### Any\n",
    "Иногда вы не хотите ограничивать возможные типы переменной. Например, если это действительно не важно, или если вы планируете сделать обработку разных типов самостоятельно. В этом случае, можно использовать аннотацию ```Any```."
   ]
  },
  {
   "cell_type": "code",
   "execution_count": 26,
   "metadata": {},
   "outputs": [],
   "source": [
    "from typing import Any\n",
    "\n",
    "smth: Any = 42 \n",
    "smth = '42'"
   ]
  },
  {
   "cell_type": "markdown",
   "metadata": {},
   "source": [
    "### Union\n",
    "\n",
    "Для случаев, когда необходимо допустить использование не любых типов, а только некоторых, можно использовать аннотацию ```typing.Union``` с указанием списка типов в квадратных скобках."
   ]
  },
  {
   "cell_type": "code",
   "execution_count": 28,
   "metadata": {},
   "outputs": [
    {
     "name": "stdout",
     "output_type": "stream",
     "text": [
      "4\n",
      "4.0\n"
     ]
    },
    {
     "ename": "TypeError",
     "evalue": "unsupported operand type(s) for ** or pow(): 'str' and 'int'",
     "output_type": "error",
     "traceback": [
      "\u001b[0;31m---------------------------------------------------------------------------\u001b[0m",
      "\u001b[0;31mTypeError\u001b[0m                                 Traceback (most recent call last)",
      "\u001b[0;32m<ipython-input-28-14c3ff0637ef>\u001b[0m in \u001b[0;36m<module>\u001b[0;34m\u001b[0m\n\u001b[1;32m      6\u001b[0m \u001b[0mprint\u001b[0m\u001b[0;34m(\u001b[0m\u001b[0msquare\u001b[0m\u001b[0;34m(\u001b[0m\u001b[0;36m2\u001b[0m\u001b[0;34m)\u001b[0m\u001b[0;34m)\u001b[0m\u001b[0;34m\u001b[0m\u001b[0;34m\u001b[0m\u001b[0m\n\u001b[1;32m      7\u001b[0m \u001b[0mprint\u001b[0m\u001b[0;34m(\u001b[0m\u001b[0msquare\u001b[0m\u001b[0;34m(\u001b[0m\u001b[0;36m2.0\u001b[0m\u001b[0;34m)\u001b[0m\u001b[0;34m)\u001b[0m\u001b[0;34m\u001b[0m\u001b[0;34m\u001b[0m\u001b[0m\n\u001b[0;32m----> 8\u001b[0;31m \u001b[0mprint\u001b[0m\u001b[0;34m(\u001b[0m\u001b[0msquare\u001b[0m\u001b[0;34m(\u001b[0m\u001b[0;34m\"2\"\u001b[0m\u001b[0;34m)\u001b[0m\u001b[0;34m)\u001b[0m \u001b[0;31m# Argument 1 to \"2\" has incompatible type \"str\"; expected \"Union[int, float]\"\u001b[0m\u001b[0;34m\u001b[0m\u001b[0;34m\u001b[0m\u001b[0m\n\u001b[0m",
      "\u001b[0;32m<ipython-input-28-14c3ff0637ef>\u001b[0m in \u001b[0;36msquare\u001b[0;34m(x)\u001b[0m\n\u001b[1;32m      2\u001b[0m \u001b[0;34m\u001b[0m\u001b[0m\n\u001b[1;32m      3\u001b[0m \u001b[0;32mdef\u001b[0m \u001b[0msquare\u001b[0m\u001b[0;34m(\u001b[0m\u001b[0mx\u001b[0m\u001b[0;34m:\u001b[0m \u001b[0mUnion\u001b[0m\u001b[0;34m[\u001b[0m\u001b[0mint\u001b[0m\u001b[0;34m,\u001b[0m \u001b[0mfloat\u001b[0m\u001b[0;34m]\u001b[0m\u001b[0;34m)\u001b[0m \u001b[0;34m->\u001b[0m \u001b[0mUnion\u001b[0m\u001b[0;34m[\u001b[0m\u001b[0mint\u001b[0m\u001b[0;34m,\u001b[0m \u001b[0mfloat\u001b[0m\u001b[0;34m]\u001b[0m\u001b[0;34m:\u001b[0m\u001b[0;34m\u001b[0m\u001b[0;34m\u001b[0m\u001b[0m\n\u001b[0;32m----> 4\u001b[0;31m     \u001b[0;32mreturn\u001b[0m \u001b[0mx\u001b[0m \u001b[0;34m**\u001b[0m \u001b[0;36m2\u001b[0m\u001b[0;34m\u001b[0m\u001b[0;34m\u001b[0m\u001b[0m\n\u001b[0m\u001b[1;32m      5\u001b[0m \u001b[0;34m\u001b[0m\u001b[0m\n\u001b[1;32m      6\u001b[0m \u001b[0mprint\u001b[0m\u001b[0;34m(\u001b[0m\u001b[0msquare\u001b[0m\u001b[0;34m(\u001b[0m\u001b[0;36m2\u001b[0m\u001b[0;34m)\u001b[0m\u001b[0;34m)\u001b[0m\u001b[0;34m\u001b[0m\u001b[0;34m\u001b[0m\u001b[0m\n",
      "\u001b[0;31mTypeError\u001b[0m: unsupported operand type(s) for ** or pow(): 'str' and 'int'"
     ]
    }
   ],
   "source": [
    "from typing import Union\n",
    "\n",
    "def square(x: Union[int, float]) -> Union[int, float]:\n",
    "    return x ** 2\n",
    "\n",
    "print(square(2))\n",
    "print(square(2.0))\n",
    "print(square(\"2\")) # Argument 1 to \"2\" has incompatible type \"str\"; expected \"Union[int, float]\""
   ]
  },
  {
   "cell_type": "markdown",
   "metadata": {},
   "source": [
    "### Списки (Lists)\n",
    "\n",
    "Для того, чтобы указать, что переменная содержит список, мы можем просто указать ```list```, как ее тип.\n",
    "```python\n",
    "a: list = [1, 2, 3]\n",
    "```\n",
    "Однако, если нам нужно конкретизировать какие элементы этот список может содержать, нам нужно воспользоваться ```typing.List```:"
   ]
  },
  {
   "cell_type": "code",
   "execution_count": 15,
   "metadata": {},
   "outputs": [],
   "source": [
    "from typing import List\n",
    "\n",
    "authors: List[str] = ['James Joyce', 'Stephen King']"
   ]
  },
  {
   "cell_type": "markdown",
   "metadata": {},
   "source": [
    "Пробуем создать матрешку из нескольких типов.\n",
    "Пусть у нас есть ```example.py`` следующего содержания:\n",
    "```python\n",
    "from typing import List, Union\n",
    "\n",
    "a: List[Union[int, float]] = [1.0, 2]\n",
    "```\n",
    "\n",
    "Теперь вызываем ```mypy```:\n",
    "```bash\n",
    "$ mypy example1.py\n",
    "\n",
    "Success: no issues found in 1 source file\n",
    "```"
   ]
  },
  {
   "cell_type": "markdown",
   "metadata": {},
   "source": [
    "### Кортежи (Tuples)\n",
    "\n",
    "Новым тут является то, что мы можем указать тип для каждой позиции кортежа:"
   ]
  },
  {
   "cell_type": "code",
   "execution_count": 18,
   "metadata": {},
   "outputs": [],
   "source": [
    "from typing import Tuple\n",
    "\n",
    "author_with_age: Tuple[str, int] = ('Stephen King', 73)"
   ]
  },
  {
   "cell_type": "markdown",
   "metadata": {},
   "source": [
    "### Словари (Dicts)"
   ]
  },
  {
   "cell_type": "code",
   "execution_count": 19,
   "metadata": {},
   "outputs": [],
   "source": [
    "from typing import Dict\n",
    "\n",
    "book_authors: Dict[str, str] = {\"Fahrenheit 451\": \"Bradbury\"}"
   ]
  },
  {
   "cell_type": "markdown",
   "metadata": {},
   "source": [
    "### Свои классы (Classes)"
   ]
  },
  {
   "cell_type": "code",
   "execution_count": 21,
   "metadata": {},
   "outputs": [],
   "source": [
    "class MyClass:\n",
    "    pass\n",
    "\n",
    "foo: MyClass = MyClass()"
   ]
  },
  {
   "cell_type": "markdown",
   "metadata": {},
   "source": [
    "### Статические анализаторы\n",
    "\n",
    "Входят по-умолчанию во многие IDE и выдают подсказки в процессе набора. (см. [PyCharm](https://www.jetbrains.com/pycharm/)). \n",
    "\n",
    "Существую консольные линтеры (см. [PyLint](https://www.pylint.org/), см. [MyPy](https://github.com/python/mypy)). \n",
    "\n",
    "Исходник ```example.py```: \n",
    "```python\n",
    "price: int \n",
    "price = '100$'\n",
    "```\n",
    "\n",
    "Проверка:\n",
    "``` bash\n",
    "$ mypy example.py\n",
    "\n",
    "example.py:2: error: Incompatible types in assignment (expression has type \"str\", variable has type \"int\")\n",
    "Found 1 error in 1 file (checked 1 source file)\n",
    "```"
   ]
  },
  {
   "cell_type": "markdown",
   "metadata": {},
   "source": [
    "Как поступить если у нас много кода без аннотации, но мы ценим время наших программистов?"
   ]
  },
  {
   "cell_type": "code",
   "execution_count": null,
   "metadata": {},
   "outputs": [],
   "source": []
  }
 ],
 "metadata": {
  "colab": {
   "collapsed_sections": [],
   "name": "colab-tutorial.ipynb",
   "provenance": []
  },
  "kernelspec": {
   "display_name": "Python 3",
   "language": "python",
   "name": "python3"
  },
  "language_info": {
   "codemirror_mode": {
    "name": "ipython",
    "version": 3
   },
   "file_extension": ".py",
   "mimetype": "text/x-python",
   "name": "python",
   "nbconvert_exporter": "python",
   "pygments_lexer": "ipython3",
   "version": "3.8.5"
  }
 },
 "nbformat": 4,
 "nbformat_minor": 1
}
