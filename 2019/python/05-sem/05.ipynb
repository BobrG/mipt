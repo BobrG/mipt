{
 "cells": [
  {
   "cell_type": "markdown",
   "metadata": {},
   "source": [
    "## Context Managers and the *with* Statement\n",
    "\n",
    "built-in функция open() предоставляет нам отличный пример "
   ]
  },
  {
   "cell_type": "code",
   "execution_count": 1,
   "metadata": {},
   "outputs": [],
   "source": [
    "with open('hello.txt', 'w') as file:\n",
    "    file.write('hello, world!')"
   ]
  },
  {
   "cell_type": "markdown",
   "metadata": {},
   "source": [
    "Код выше транслируется во что-то подобное:\n",
    "```python\n",
    "f = open('hello.txt', 'w')\n",
    "try:\n",
    "    f.write('hello, world')\n",
    "finally:\n",
    "    f.close()\n",
    "```\n",
    "\n",
    "Оператор Finally является ключевым, написать вот так - неправильно:\n",
    "```python\n",
    "f = open('hello.txt', 'w')\n",
    "f.write('hello, world')\n",
    "f.close()\n",
    "```\n",
    "\n",
    "\n",
    "Эта реализация не гарантирует, что файл будет закрыт, если во время вызова f.write() возникнет какое-то исключение, что может привести к повреждению дескриптора файла. Именно поэтому оператор with так полезен. Он\n",
    "упрощает получение и высвобождение ресурсов."
   ]
  },
  {
   "cell_type": "markdown",
   "metadata": {},
   "source": [
    "Еще один хороший пример использования with - это threading.Lock class в стандартной библиотеке:\n",
    "\n",
    "```python\n",
    "some_lock = threading.Lock()\n",
    "\n",
    "# некрасиво:\n",
    "some_lock.acquire()\n",
    "try:\n",
    "    # Do something...\n",
    "finally:\n",
    "    some_lock.release()\n",
    "```\n",
    "    \n",
    "```python\n",
    "# лучше:\n",
    "with some_lock:\n",
    "    # Do something...\n",
    "```\n",
    "В обоих случаях оператор with позволяет абстрагировать внутреннюю логику, вместо написания лишних try и finally.\n",
    "Контекст менеджер обычно используется для сохранения и восстановления глобальных состояний, блокирования и разблокирования ресурсов, открытия и закрытия файлов."
   ]
  },
  {
   "cell_type": "markdown",
   "metadata": {},
   "source": [
    "### Написание своего менеджера\n",
    "\n",
    "Мы можем реализовать такую же функциональность в собственном\n",
    "классе. Обычно для этого нужно реализовать методы: \\_\\_enter\\_\\_ и \\_\\_exit\\_\\_, если мы хотим, чтобы он функционировал как менджер контекста. Python сам вызовет эти функции в нужный момент. "
   ]
  },
  {
   "cell_type": "code",
   "execution_count": 3,
   "metadata": {},
   "outputs": [],
   "source": [
    "class ManagedFile:\n",
    "    \n",
    "    def __init__(self, name):\n",
    "        self.name = name\n",
    "    \n",
    "    def __enter__(self):\n",
    "        self.file = open(self.name, 'w')\n",
    "        return self.file\n",
    "    \n",
    "    def __exit__(self, exc_type, exc_val, exc_tb):\n",
    "        if self.file:\n",
    "            self.file.close() "
   ]
  },
  {
   "cell_type": "code",
   "execution_count": 8,
   "metadata": {},
   "outputs": [],
   "source": [
    "with ManagedFile('hello.txt') as f:\n",
    "    f.write('hello, world!\\n')\n",
    "    f.write('bye now')"
   ]
  },
  {
   "cell_type": "code",
   "execution_count": 9,
   "metadata": {},
   "outputs": [
    {
     "name": "stdout",
     "output_type": "stream",
     "text": [
      "['hello, world!\\n', 'bye now']\n"
     ]
    }
   ],
   "source": [
    "with open('hello.txt', \"r\") as f:\n",
    "    print(f.readlines())"
   ]
  },
  {
   "cell_type": "markdown",
   "metadata": {},
   "source": [
    "## Underscores, Dunders, and More\n",
    "\n",
    "1. Single Leading Underscore: _var\n",
    "2. Single Trailing Underscore: var_\n",
    "3. Double Leading Underscore: \\_\\_var\n",
    "4. Double Leading and Trailing Underscore: \\_\\_var\\_\\_\n",
    "5. Single Underscore: _"
   ]
  },
  {
   "cell_type": "markdown",
   "metadata": {},
   "source": [
    "### 1. Single Leading Underscore: _var\n",
    "Только внутреннее использование!"
   ]
  },
  {
   "cell_type": "code",
   "execution_count": null,
   "metadata": {},
   "outputs": [],
   "source": [
    "class Test:\n",
    "    def __init__(self):\n",
    "        self.foo = 11\n",
    "        self._bar = 23\n",
    "        \n",
    "t = Test()\n",
    "print(t.foo)\n",
    "print(t._bar) # ?"
   ]
  },
  {
   "cell_type": "markdown",
   "metadata": {},
   "source": [
    "```python\n",
    "def external_func():\n",
    "    return 23\n",
    "\n",
    "def _internal_func():\n",
    "    return 42\n",
    "```\n",
    "---\n",
    "```python\n",
    ">>> from my_module import *\n",
    ">>> external_func()\n",
    "23\n",
    ">>> _internal_func()\n",
    "NameError: \"name '_internal_func' is not defined\"\n",
    "```\n",
    "---\n",
    "```python\n",
    ">>> import my_module\n",
    ">>> my_module.external_func()\n",
    "23\n",
    ">>> my_module._internal_func()\n",
    "42\n",
    "```"
   ]
  },
  {
   "cell_type": "markdown",
   "metadata": {},
   "source": [
    "### 2. Single Trailing Underscore: var_\n",
    "Если имя занято самим python'ом у нас есть способ разрешить этот конфликт"
   ]
  },
  {
   "cell_type": "code",
   "execution_count": null,
   "metadata": {},
   "outputs": [],
   "source": [
    "def make_object(name, class):\n",
    "    pass"
   ]
  },
  {
   "cell_type": "code",
   "execution_count": null,
   "metadata": {},
   "outputs": [],
   "source": [
    "def make_object(name, class_):\n",
    "    pass"
   ]
  },
  {
   "cell_type": "markdown",
   "metadata": {},
   "source": [
    "### 3. Double Leading Underscore: \\_\\_var\n",
    "Двойной underscore заставляет интерпретатор Python перезаписывать\n",
    "имя атрибута, чтобы избежать конфликтов имен в подклассах."
   ]
  },
  {
   "cell_type": "code",
   "execution_count": null,
   "metadata": {},
   "outputs": [],
   "source": [
    "class Test:\n",
    "    def __init__(self):\n",
    "        self.foo = 11\n",
    "        self._bar = 23\n",
    "        self.__baz = 23\n",
    "        \n",
    "t = Test()\n",
    "dir(t)"
   ]
  },
  {
   "cell_type": "markdown",
   "metadata": {},
   "source": [
    "Где self.\\_\\_baz???"
   ]
  },
  {
   "cell_type": "code",
   "execution_count": null,
   "metadata": {},
   "outputs": [],
   "source": [
    "class ExtendedTest(Test):\n",
    "    def __init__(self):\n",
    "        super().__init__()\n",
    "        self.foo = 'overridden'\n",
    "        self._bar = 'overridden'\n",
    "        self.__baz = 'overridden'\n",
    "\n",
    "t2 = ExtendedTest()\n",
    "print(t2.foo)\n",
    "print(t2._bar)\n",
    "print(t2.__baz)"
   ]
  },
  {
   "cell_type": "markdown",
   "metadata": {},
   "source": [
    "Почему так происходит? \n",
    "\n",
    "Процесс называется name mangling (искажение имени?), и используется интерпретатором Python, чтобы защитить переменную от переопределения в подклассах."
   ]
  },
  {
   "cell_type": "code",
   "execution_count": null,
   "metadata": {},
   "outputs": [],
   "source": [
    "dir(t2)"
   ]
  },
  {
   "cell_type": "code",
   "execution_count": null,
   "metadata": {},
   "outputs": [],
   "source": [
    "print(t2._ExtendedTest__baz)\n",
    "print(t2._Test__baz)"
   ]
  },
  {
   "cell_type": "markdown",
   "metadata": {},
   "source": [
    "*Двойное подчеркивание имен полностью прозрачно для программиста:*"
   ]
  },
  {
   "cell_type": "code",
   "execution_count": null,
   "metadata": {},
   "outputs": [],
   "source": [
    "class ManglingTest:\n",
    "    \n",
    "    def __init__(self):\n",
    "        self.__mangled = 'hello'\n",
    "        \n",
    "    def get_mangled(self):\n",
    "        return self.__mangled\n",
    "    \n",
    "print(ManglingTest().get_mangled())\n",
    "print(ManglingTest().__mangled)"
   ]
  },
  {
   "cell_type": "markdown",
   "metadata": {},
   "source": [
    "### 4. Double Leading and Trailing Underscore: __var__\n",
    "Может показаться удивительным, но name mangling не применяется, если имя начинается и заканчивается двойным подчеркиванием:"
   ]
  },
  {
   "cell_type": "code",
   "execution_count": null,
   "metadata": {},
   "outputs": [],
   "source": [
    "class PrefixPostfixTest:\n",
    "    def __init__(self):\n",
    "        self.__bam__ = 42\n",
    "        \n",
    "print(PrefixPostfixTest().__bam__)"
   ]
  },
  {
   "cell_type": "markdown",
   "metadata": {},
   "source": [
    "Эти имена зарезервированы в Python для специального использования (например: \\_\\_init\\_\\_, \\_\\_call\\_\\_.\n",
    "Лучшей практикой является не использовать такие имена в своих программах"
   ]
  },
  {
   "cell_type": "markdown",
   "metadata": {},
   "source": [
    "### 5. Single Underscore: _\n",
    "В соответствии с соглашением, одиночное подчеркивание иногда используется как\n",
    "имя, указывающее, что переменная является временной или несущественной."
   ]
  },
  {
   "cell_type": "markdown",
   "metadata": {},
   "source": [
    "### Задание 1 Привидите пример кода с Single Underscore: _\n"
   ]
  },
  {
   "cell_type": "code",
   "execution_count": null,
   "metadata": {},
   "outputs": [],
   "source": []
  },
  {
   "cell_type": "markdown",
   "metadata": {},
   "source": [
    "### Задание 2 Реализуйте менеджер контекста для измерения времени работы кода\n",
    "Пример использования:\n",
    "``` python\n",
    "import httplib\n",
    "\n",
    "with Timer() as t:\n",
    "    conn = httplib.HTTPConnection('google.com')\n",
    "    conn.request('GET', '/')\n",
    "\n",
    "print('Request took %.03f sec.' % t.interval)\n",
    "```"
   ]
  },
  {
   "cell_type": "code",
   "execution_count": null,
   "metadata": {},
   "outputs": [],
   "source": []
  },
  {
   "cell_type": "markdown",
   "metadata": {},
   "source": [
    "### Задание 3 Придумайте и реализуйте свой вариант менеджера контекста with:\n"
   ]
  },
  {
   "cell_type": "code",
   "execution_count": null,
   "metadata": {},
   "outputs": [],
   "source": []
  },
  {
   "cell_type": "markdown",
   "metadata": {},
   "source": [
    "### Бонус: для создания менеджера контекста можно использовать декоратор из библиотеки contextmanager\n",
    "```python\n",
    "from contextlib import contextmanager\n",
    "\n",
    "\n",
    "@contextmanager\n",
    "def managed_file(name):\n",
    "    try:\n",
    "        f = open(name, 'w')\n",
    "        yield f\n",
    "    finally:\n",
    "        f.close()\n",
    "\n",
    ">>> with managed_file('hello.txt') as f:\n",
    "...     f.write('hello, world!')\n",
    "...     f.write('bye now')\n",
    "```"
   ]
  }
 ],
 "metadata": {
  "kernelspec": {
   "display_name": "Python 3",
   "language": "python",
   "name": "python3"
  },
  "language_info": {
   "codemirror_mode": {
    "name": "ipython",
    "version": 3
   },
   "file_extension": ".py",
   "mimetype": "text/x-python",
   "name": "python",
   "nbconvert_exporter": "python",
   "pygments_lexer": "ipython3",
   "version": "3.8.2"
  }
 },
 "nbformat": 4,
 "nbformat_minor": 2
}
