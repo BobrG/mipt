{
 "cells": [
  {
   "cell_type": "markdown",
   "metadata": {},
   "source": [
    "# Docker"
   ]
  },
  {
   "cell_type": "markdown",
   "metadata": {},
   "source": [
    "### Изучаем туториал:\n",
    "https://docs.docker.com/get-started/\n",
    "\n",
    "https://docs.docker.com/get-started/part2/\n",
    "\n",
    "https://docs.docker.com/get-started/part3/\n"
   ]
  },
  {
   "cell_type": "markdown",
   "metadata": {},
   "source": [
    "### Задание 1 Устанавливаем докер и выполняем первые шаги из туториала\n",
    "\n",
    "##### List Docker CLI commands\n",
    "docker\n",
    "docker container --help\n",
    "\n",
    "##### Display Docker version and info\n",
    "docker --version\n",
    "docker version\n",
    "docker info\n",
    "\n",
    "##### Execute Docker image\n",
    "docker run hello-world\n",
    "\n",
    "##### List Docker images\n",
    "docker image ls\n",
    "\n",
    "##### List Docker containers (running, all, all in quiet mode)\n",
    "docker container ls\n",
    "docker container ls --all\n",
    "docker container ls -aq\n",
    "\n",
    "##### List containers\n",
    "\n",
    "docker ps\n",
    "\n",
    "##### Console logs\n",
    "docker logs container_name"
   ]
  },
  {
   "cell_type": "code",
   "execution_count": null,
   "metadata": {},
   "outputs": [],
   "source": []
  },
  {
   "cell_type": "markdown",
   "metadata": {},
   "source": [
    "### Задание 2 Запускаем контейнер с ipython notebook \n",
    "\n",
    "https://hub.docker.com/r/jupyter/datascience-notebook/"
   ]
  },
  {
   "cell_type": "code",
   "execution_count": null,
   "metadata": {},
   "outputs": [],
   "source": []
  },
  {
   "cell_type": "markdown",
   "metadata": {},
   "source": [
    "### Задание 3 Добавляем доступ к нашим семинарам, используя volumes  \n",
    "https://docs.docker.com/storage/volumes/\n",
    "Не забываем про права на редактирование файлов!"
   ]
  },
  {
   "cell_type": "code",
   "execution_count": null,
   "metadata": {},
   "outputs": [],
   "source": [
    "!git clone https://github.com/Tviskaron/mipt"
   ]
  },
  {
   "cell_type": "markdown",
   "metadata": {},
   "source": [
    "### Задание 4 Добавляем ограничения на использование ресурсов\n",
    "https://docs.docker.com/config/containers/resource_constraints/"
   ]
  },
  {
   "cell_type": "code",
   "execution_count": null,
   "metadata": {},
   "outputs": [],
   "source": []
  },
  {
   "cell_type": "markdown",
   "metadata": {},
   "source": [
    "### Задание 5 Создаем dockerfile и устанавливаем необходимые библиотеки\n",
    "RUN pip install gym"
   ]
  },
  {
   "cell_type": "code",
   "execution_count": null,
   "metadata": {},
   "outputs": [],
   "source": []
  },
  {
   "cell_type": "markdown",
   "metadata": {},
   "source": [
    "### Задание 6 Запускаем контейнер в режиме демона\n",
    "docker run -d image_name"
   ]
  },
  {
   "cell_type": "code",
   "execution_count": null,
   "metadata": {},
   "outputs": [],
   "source": []
  }
 ],
 "metadata": {
  "kernelspec": {
   "display_name": "Python 3",
   "language": "python",
   "name": "python3"
  },
  "language_info": {
   "codemirror_mode": {
    "name": "ipython",
    "version": 3
   },
   "file_extension": ".py",
   "mimetype": "text/x-python",
   "name": "python",
   "nbconvert_exporter": "python",
   "pygments_lexer": "ipython3",
   "version": "3.7.3"
  }
 },
 "nbformat": 4,
 "nbformat_minor": 2
}
