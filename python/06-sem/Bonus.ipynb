{
 "cells": [
  {
   "cell_type": "markdown",
   "metadata": {},
   "source": [
    "## Создание своего пакета Python\n"
   ]
  },
  {
   "cell_type": "markdown",
   "metadata": {},
   "source": [
    "### Задание 1 Создайте python пакет локально \n",
    "\n",
    "Например по этому туториалу: https://dzone.com/articles/executable-package-pip-install\n",
    "Шаги 1, 6, 7 являются необязательными. Вы можете проверить ваш пакет, установив его локально. \n",
    "Еще одним вариантом является запуск своего PyPy сервера."
   ]
  },
  {
   "cell_type": "code",
   "execution_count": 2,
   "metadata": {},
   "outputs": [
    {
     "name": "stdout",
     "output_type": "stream",
     "text": [
      "Python 3.7.3\n",
      "pip 18.1 from /usr/lib/python3/dist-packages/pip (python 3.7)\n"
     ]
    }
   ],
   "source": [
    "!python3 -V  # for python version (2/3)\n",
    "!python3 -m pip --version"
   ]
  }
 ],
 "metadata": {
  "kernelspec": {
   "display_name": "Python 3",
   "language": "python",
   "name": "python3"
  },
  "language_info": {
   "codemirror_mode": {
    "name": "ipython",
    "version": 3
   },
   "file_extension": ".py",
   "mimetype": "text/x-python",
   "name": "python",
   "nbconvert_exporter": "python",
   "pygments_lexer": "ipython3",
   "version": "3.7.3"
  }
 },
 "nbformat": 4,
 "nbformat_minor": 2
}
