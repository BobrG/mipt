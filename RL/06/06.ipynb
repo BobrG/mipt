{
 "cells": [
  {
   "cell_type": "markdown",
   "metadata": {},
   "source": [
    "## Policy Gradient Algorithms: REINFORCE"
   ]
  },
  {
   "cell_type": "markdown",
   "metadata": {},
   "source": [
    "Теорема о градиенте стратегии связывает градиент целевой функции  и градиент самой стратегии:\n",
    "\n",
    "$$J(\\theta) = \\mathbb{E}_\\pi [\\nabla_\\theta \\ln \\pi_\\theta(a \\vert s) Q^\\pi(s, a)]$$\n",
    "Если использовать метод Монте-Карло в качестве несмещенной оценки $Q^\\pi(s, a)$ отдачу $R_t$, то тогда происходит переход к алгоритму REINFORCE и обновление весов будет осуществляться по правилу:\n",
    "\n",
    "$$J(\\theta) = [R_t \\nabla_\\theta \\ln \\pi_\\theta(A_t \\vert S_t)]$$"
   ]
  },
  {
   "cell_type": "markdown",
   "metadata": {},
   "source": [
    "<img src=\"reinforce.png\">"
   ]
  },
  {
   "cell_type": "code",
   "execution_count": null,
   "metadata": {},
   "outputs": [],
   "source": [
    "# импортируем необходмые библиотеки\n",
    "\n",
    "import gym\n",
    "import torch\n",
    "import torch.nn as nn\n",
    "import torch.nn.functional as F\n",
    "import torch.optim as optim\n",
    "from torch.distributions import Categorical"
   ]
  },
  {
   "cell_type": "markdown",
   "metadata": {},
   "source": [
    "### Задание 1. Заполните пропуски в реализации алгоритма REINFORCE"
   ]
  },
  {
   "cell_type": "code",
   "execution_count": null,
   "metadata": {},
   "outputs": [],
   "source": [
    "class Policy(nn.Module):\n",
    "    def __init__(self):\n",
    "        super(Policy, self).__init__()\n",
    "        # создаем сеть с двумя полносвязными слоями и размером 4 (state input size)-> 128 -> 2 (actions)\n",
    "        self.fc1 = nn.Linear(4, 128)\n",
    "        self.fc2 = nn.Linear(128, 2)\n",
    "        # выбираем Adam optimizer, с lr=0.0002\n",
    "        self.optimizer = optim.Adam(self.parameters(), lr=0.0002)\n",
    "\n",
    "    def forward(self, x):\n",
    "        # как данные будут идти по графу вычислений\n",
    "        x = F.relu(self.fc1(x))\n",
    "        x = F.softmax(self.fc2(x), dim=0)\n",
    "        return x\n",
    "\n",
    "    def train_net(self, rollout, gamma):\n",
    "        \"\"\"\n",
    "        функция для обучения нашей сети\n",
    "        :param self:\n",
    "        :param rollout: [(r, log(pi(s)))]\n",
    "        :gamma: дисконтирующий множитель\n",
    "        :return:\n",
    "        \"\"\"\n",
    "        R = 0\n",
    "        # идем по списку в обратном порядке\n",
    "        for r, log_prob in rollout[::-1]:\n",
    "            # считаем суммарное дисконтированное вознаграждение\n",
    "            #~~~~~~~~~~ Решение ~~~~~~~~~~~~~~~\n",
    "            \n",
    "             \n",
    "            R = r + gamma * R\n",
    "            \n",
    "            #~~~~~~~~~~~~~~~~~~~~~~~~~~~~~~~~~~\n",
    "            \n",
    "\n",
    "            # считаем значение loss функции\n",
    "            #~~~~~~~~~~ Решение ~~~~~~~~~~~~~~~\n",
    "            \n",
    "             \n",
    "            loss = -log_prob * R\n",
    "            \n",
    "            #~~~~~~~~~~~~~~~~~~~~~~~~~~~~~~~~~~\n",
    "            \n",
    "\n",
    "            # обнуляем значения градиента, которые могли накопиться\n",
    "            self.optimizer.zero_grad()\n",
    "            # считаем сумму градиентов тензора loss\n",
    "            loss.backward()\n",
    "            # выполняем шаг оптимизации\n",
    "            self.optimizer.step()"
   ]
  },
  {
   "cell_type": "markdown",
   "metadata": {},
   "source": [
    "Посмотрим на нашу модель и разберем ее методы:"
   ]
  },
  {
   "cell_type": "code",
   "execution_count": null,
   "metadata": {},
   "outputs": [],
   "source": [
    "# создаем модель\n",
    "e_pi = Policy()\n",
    "\n",
    "# создаем окружение\n",
    "e_env = gym.make('CartPole-v1')\n",
    "\n",
    "# получаем состояние\n",
    "state = e_env.reset()\n",
    "\n",
    "# получаем распределение стратегии для состояния\n",
    "prob = e_pi(torch.from_numpy(state).float())\n",
    "print(\"pi(\"+str(state)+ \") =\", prob)\n",
    "\n",
    "# сэмплируем дейстие, согласно полученному распределению\n",
    "s_action = Categorical(prob).sample().item()\n",
    "print(\"sampled action:\", s_action)"
   ]
  },
  {
   "cell_type": "code",
   "execution_count": null,
   "metadata": {},
   "outputs": [],
   "source": [
    "def run():\n",
    "    env = gym.make('CartPole-v1')\n",
    "    pi = Policy()\n",
    "    score = 0.0\n",
    "    print_interval = 20\n",
    "    s = env.reset()\n",
    "    \n",
    "    for n_epi in range(10000):\n",
    "        s = env.reset()\n",
    "        rollout = []\n",
    "        for t in range(501):  # CartPole-v1 будем рассматривать только первые 500 шагов в окружении\n",
    "            # получаем распределение стратегии\n",
    "            #~~~~~~~~~~ Решение ~~~~~~~~~~~~~~~\n",
    "            \n",
    "             \n",
    "            prob = pi(torch.from_numpy(s).float())\n",
    "            \n",
    "            #~~~~~~~~~~~~~~~~~~~~~~~~~~~~~~~~~~\n",
    "            \n",
    "            \n",
    "            # сэмплируем действие\n",
    "            #~~~~~~~~~~ Решение ~~~~~~~~~~~~~~~\n",
    "            \n",
    "             \n",
    "            m = Categorical(prob)\n",
    "            a = m.sample().item()\n",
    "            \n",
    "            #~~~~~~~~~~~~~~~~~~~~~~~~~~~~~~~~~~\n",
    "            \n",
    "            \n",
    "            # делаем шаг в окружении\n",
    "            s_prime, r, done, info = env.step(a)\n",
    "            \n",
    "            # сохраняем информацию текущего шага\n",
    "            rollout.append((r, torch.log(prob[a])))\n",
    "            \n",
    "            s = s_prime\n",
    "            \n",
    "            # считаем результат\n",
    "            score += r\n",
    "            \n",
    "            if done:\n",
    "                break\n",
    "        \n",
    "        # обновляем стратегию\n",
    "        pi.train_net(rollout, 0.98)\n",
    "        \n",
    "        # печатаем результаты\n",
    "        if n_epi % print_interval == 0 and n_epi != 0:\n",
    "            print(\"# of episode :{}, avg score : {}\".format(n_epi, score / print_interval))\n",
    "            score = 0.0\n",
    "    env.close()"
   ]
  },
  {
   "cell_type": "code",
   "execution_count": null,
   "metadata": {},
   "outputs": [],
   "source": [
    "run()"
   ]
  },
  {
   "cell_type": "markdown",
   "metadata": {},
   "source": [
    "### Задание 2. Дополните код, для постройки графика сходимости. "
   ]
  },
  {
   "cell_type": "code",
   "execution_count": null,
   "metadata": {},
   "outputs": [],
   "source": []
  },
  {
   "cell_type": "markdown",
   "metadata": {},
   "source": [
    "Какие выводы можно сделать из этого графика?"
   ]
  },
  {
   "cell_type": "code",
   "execution_count": null,
   "metadata": {},
   "outputs": [],
   "source": []
  },
  {
   "cell_type": "markdown",
   "metadata": {},
   "source": [
    "### Дополнительные материалы\n",
    "https://lilianweng.github.io/lil-log/2018/04/08/policy-gradient-algorithms.html"
   ]
  }
 ],
 "metadata": {
  "kernelspec": {
   "display_name": "Python 3",
   "language": "python",
   "name": "python3"
  },
  "language_info": {
   "codemirror_mode": {
    "name": "ipython",
    "version": 3
   },
   "file_extension": ".py",
   "mimetype": "text/x-python",
   "name": "python",
   "nbconvert_exporter": "python",
   "pygments_lexer": "ipython3",
   "version": "3.7.3"
  }
 },
 "nbformat": 4,
 "nbformat_minor": 2
}
